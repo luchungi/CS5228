{
 "cells": [
  {
   "cell_type": "code",
   "execution_count": 1,
   "metadata": {},
   "outputs": [],
   "source": [
    "import numpy as np\n",
    "import pandas as pd\n",
    "\n",
    "from sklearn.model_selection import cross_val_score, GridSearchCV\n",
    "from sklearn.decomposition import PCA\n",
    "\n",
    "from sklearn.svm import SVR\n",
    "import time"
   ]
  },
  {
   "cell_type": "code",
   "execution_count": 2,
   "metadata": {},
   "outputs": [
    {
     "data": {
      "text/html": [
       "<div>\n",
       "<style scoped>\n",
       "    .dataframe tbody tr th:only-of-type {\n",
       "        vertical-align: middle;\n",
       "    }\n",
       "\n",
       "    .dataframe tbody tr th {\n",
       "        vertical-align: top;\n",
       "    }\n",
       "\n",
       "    .dataframe thead th {\n",
       "        text-align: right;\n",
       "    }\n",
       "</style>\n",
       "<table border=\"1\" class=\"dataframe\">\n",
       "  <thead>\n",
       "    <tr style=\"text-align: right;\">\n",
       "      <th></th>\n",
       "      <th>floor_area_sqm</th>\n",
       "      <th>planning_area_jurong east</th>\n",
       "      <th>planning_area_bedok</th>\n",
       "      <th>planning_area_toa payoh</th>\n",
       "      <th>planning_area_pasir ris</th>\n",
       "      <th>planning_area_kallang</th>\n",
       "      <th>planning_area_bukit panjang</th>\n",
       "      <th>planning_area_sengkang</th>\n",
       "      <th>planning_area_ang mo kio</th>\n",
       "      <th>planning_area_bishan</th>\n",
       "      <th>...</th>\n",
       "      <th>flat_model_3gen</th>\n",
       "      <th>lat_rads</th>\n",
       "      <th>long_rads</th>\n",
       "      <th>sti</th>\n",
       "      <th>coe</th>\n",
       "      <th>age</th>\n",
       "      <th>shortest_dist_mall</th>\n",
       "      <th>shortest_ex_mrt</th>\n",
       "      <th>shortest_pl_mrt</th>\n",
       "      <th>monthly_rent</th>\n",
       "    </tr>\n",
       "  </thead>\n",
       "  <tbody>\n",
       "    <tr>\n",
       "      <th>0</th>\n",
       "      <td>67.0</td>\n",
       "      <td>1</td>\n",
       "      <td>0</td>\n",
       "      <td>0</td>\n",
       "      <td>0</td>\n",
       "      <td>0</td>\n",
       "      <td>0</td>\n",
       "      <td>0</td>\n",
       "      <td>0</td>\n",
       "      <td>0</td>\n",
       "      <td>...</td>\n",
       "      <td>0</td>\n",
       "      <td>0.023466</td>\n",
       "      <td>1.810581</td>\n",
       "      <td>0.405905</td>\n",
       "      <td>0.258731</td>\n",
       "      <td>38.667461</td>\n",
       "      <td>1.202674</td>\n",
       "      <td>0.699127</td>\n",
       "      <td>0.699127</td>\n",
       "      <td>1600</td>\n",
       "    </tr>\n",
       "    <tr>\n",
       "      <th>1</th>\n",
       "      <td>92.0</td>\n",
       "      <td>0</td>\n",
       "      <td>1</td>\n",
       "      <td>0</td>\n",
       "      <td>0</td>\n",
       "      <td>0</td>\n",
       "      <td>0</td>\n",
       "      <td>0</td>\n",
       "      <td>0</td>\n",
       "      <td>0</td>\n",
       "      <td>...</td>\n",
       "      <td>0</td>\n",
       "      <td>0.023216</td>\n",
       "      <td>1.814073</td>\n",
       "      <td>0.853443</td>\n",
       "      <td>0.597983</td>\n",
       "      <td>44.329452</td>\n",
       "      <td>1.114338</td>\n",
       "      <td>0.898991</td>\n",
       "      <td>0.898991</td>\n",
       "      <td>2250</td>\n",
       "    </tr>\n",
       "    <tr>\n",
       "      <th>2</th>\n",
       "      <td>67.0</td>\n",
       "      <td>0</td>\n",
       "      <td>0</td>\n",
       "      <td>1</td>\n",
       "      <td>0</td>\n",
       "      <td>0</td>\n",
       "      <td>0</td>\n",
       "      <td>0</td>\n",
       "      <td>0</td>\n",
       "      <td>0</td>\n",
       "      <td>...</td>\n",
       "      <td>0</td>\n",
       "      <td>0.023252</td>\n",
       "      <td>1.812448</td>\n",
       "      <td>0.476430</td>\n",
       "      <td>0.766542</td>\n",
       "      <td>51.749180</td>\n",
       "      <td>0.468297</td>\n",
       "      <td>0.218603</td>\n",
       "      <td>0.218603</td>\n",
       "      <td>1900</td>\n",
       "    </tr>\n",
       "    <tr>\n",
       "      <th>3</th>\n",
       "      <td>149.0</td>\n",
       "      <td>0</td>\n",
       "      <td>0</td>\n",
       "      <td>0</td>\n",
       "      <td>1</td>\n",
       "      <td>0</td>\n",
       "      <td>0</td>\n",
       "      <td>0</td>\n",
       "      <td>0</td>\n",
       "      <td>0</td>\n",
       "      <td>...</td>\n",
       "      <td>0</td>\n",
       "      <td>0.023915</td>\n",
       "      <td>1.814495</td>\n",
       "      <td>0.537475</td>\n",
       "      <td>0.192568</td>\n",
       "      <td>28.581011</td>\n",
       "      <td>0.402359</td>\n",
       "      <td>1.546040</td>\n",
       "      <td>1.546040</td>\n",
       "      <td>2850</td>\n",
       "    </tr>\n",
       "    <tr>\n",
       "      <th>4</th>\n",
       "      <td>68.0</td>\n",
       "      <td>0</td>\n",
       "      <td>0</td>\n",
       "      <td>0</td>\n",
       "      <td>0</td>\n",
       "      <td>1</td>\n",
       "      <td>0</td>\n",
       "      <td>0</td>\n",
       "      <td>0</td>\n",
       "      <td>0</td>\n",
       "      <td>...</td>\n",
       "      <td>0</td>\n",
       "      <td>0.023047</td>\n",
       "      <td>1.812757</td>\n",
       "      <td>0.476863</td>\n",
       "      <td>0.880567</td>\n",
       "      <td>50.834719</td>\n",
       "      <td>1.073354</td>\n",
       "      <td>0.187856</td>\n",
       "      <td>0.187856</td>\n",
       "      <td>2100</td>\n",
       "    </tr>\n",
       "  </tbody>\n",
       "</table>\n",
       "<p>5 rows × 63 columns</p>\n",
       "</div>"
      ],
      "text/plain": [
       "   floor_area_sqm  planning_area_jurong east  planning_area_bedok  \\\n",
       "0            67.0                          1                    0   \n",
       "1            92.0                          0                    1   \n",
       "2            67.0                          0                    0   \n",
       "3           149.0                          0                    0   \n",
       "4            68.0                          0                    0   \n",
       "\n",
       "   planning_area_toa payoh  planning_area_pasir ris  planning_area_kallang  \\\n",
       "0                        0                        0                      0   \n",
       "1                        0                        0                      0   \n",
       "2                        1                        0                      0   \n",
       "3                        0                        1                      0   \n",
       "4                        0                        0                      1   \n",
       "\n",
       "   planning_area_bukit panjang  planning_area_sengkang  \\\n",
       "0                            0                       0   \n",
       "1                            0                       0   \n",
       "2                            0                       0   \n",
       "3                            0                       0   \n",
       "4                            0                       0   \n",
       "\n",
       "   planning_area_ang mo kio  planning_area_bishan  ...  flat_model_3gen  \\\n",
       "0                         0                     0  ...                0   \n",
       "1                         0                     0  ...                0   \n",
       "2                         0                     0  ...                0   \n",
       "3                         0                     0  ...                0   \n",
       "4                         0                     0  ...                0   \n",
       "\n",
       "   lat_rads  long_rads       sti       coe        age  shortest_dist_mall  \\\n",
       "0  0.023466   1.810581  0.405905  0.258731  38.667461            1.202674   \n",
       "1  0.023216   1.814073  0.853443  0.597983  44.329452            1.114338   \n",
       "2  0.023252   1.812448  0.476430  0.766542  51.749180            0.468297   \n",
       "3  0.023915   1.814495  0.537475  0.192568  28.581011            0.402359   \n",
       "4  0.023047   1.812757  0.476863  0.880567  50.834719            1.073354   \n",
       "\n",
       "   shortest_ex_mrt  shortest_pl_mrt  monthly_rent  \n",
       "0         0.699127         0.699127          1600  \n",
       "1         0.898991         0.898991          2250  \n",
       "2         0.218603         0.218603          1900  \n",
       "3         1.546040         1.546040          2850  \n",
       "4         0.187856         0.187856          2100  \n",
       "\n",
       "[5 rows x 63 columns]"
      ]
     },
     "execution_count": 2,
     "metadata": {},
     "output_type": "execute_result"
    }
   ],
   "source": [
    "train_df = pd.read_csv('./data/train_svm.csv')\n",
    "test_df = pd.read_csv('./data/test_svm.csv')\n",
    "train_df.head()"
   ]
  },
  {
   "cell_type": "code",
   "execution_count": 3,
   "metadata": {},
   "outputs": [
    {
     "name": "stdout",
     "output_type": "stream",
     "text": [
      "(59727, 63)\n",
      "(30000, 62)\n"
     ]
    }
   ],
   "source": [
    "print(train_df.shape)\n",
    "print(test_df.shape)"
   ]
  },
  {
   "cell_type": "code",
   "execution_count": 4,
   "metadata": {},
   "outputs": [],
   "source": [
    "X = train_df.loc[:,train_df.columns != 'monthly_rent']\n",
    "y = train_df['monthly_rent']"
   ]
  },
  {
   "cell_type": "code",
   "execution_count": 5,
   "metadata": {},
   "outputs": [
    {
     "data": {
      "text/plain": [
       "(59727, 62)"
      ]
     },
     "execution_count": 5,
     "metadata": {},
     "output_type": "execute_result"
    }
   ],
   "source": [
    "X.shape"
   ]
  },
  {
   "cell_type": "markdown",
   "metadata": {},
   "source": [
    "# With PCA"
   ]
  },
  {
   "cell_type": "code",
   "execution_count": 9,
   "metadata": {},
   "outputs": [
    {
     "name": "stdout",
     "output_type": "stream",
     "text": [
      "[-529.43048037 -528.79017328 -535.48744001 -527.55580737 -531.60330544]\n",
      "elapsed time: 4.1e+02\n"
     ]
    }
   ],
   "source": [
    "pca = PCA(n_components=30)\n",
    "X = pca.fit(X).transform(X)\n",
    "\n",
    "svr_rbf = SVR(kernel=\"rbf\", C = 1000, gamma=0.01, epsilon = 10)\n",
    "\n",
    "start_time = time.time()\n",
    "print(cross_val_score(svr_rbf, X, y, cv = 5, n_jobs = 4, scoring = 'neg_root_mean_squared_error'))\n",
    "elapsed_time = time.time() - start_time\n",
    "\n",
    "print(\"elapsed time: {:.2}\".format(elapsed_time))"
   ]
  },
  {
   "cell_type": "markdown",
   "metadata": {},
   "source": [
    "# Without PCA"
   ]
  },
  {
   "cell_type": "code",
   "execution_count": 9,
   "metadata": {},
   "outputs": [
    {
     "name": "stdout",
     "output_type": "stream",
     "text": [
      "[-517.08366448 -515.61105827 -523.85444329 -514.63422245 -519.52438383]\n",
      "elapsed time: 6.2e+02\n"
     ]
    }
   ],
   "source": [
    "X = train_df.loc[:,train_df.columns != 'monthly_rent']\n",
    "\n",
    "svr_rbf = SVR(kernel=\"rbf\", C = 2000, gamma = 0.05, epsilon = 0.1)\n",
    "\n",
    "start_time = time.time()\n",
    "print(cross_val_score(svr_rbf, X, y, cv = 5, n_jobs = 4, scoring = 'neg_root_mean_squared_error'))\n",
    "elapsed_time = time.time() - start_time\n",
    "\n",
    "print(\"elapsed time: {:.2}\".format(elapsed_time))"
   ]
  },
  {
   "cell_type": "markdown",
   "metadata": {},
   "source": [
    "# Final SVM Model"
   ]
  },
  {
   "cell_type": "code",
   "execution_count": 11,
   "metadata": {},
   "outputs": [
    {
     "name": "stdout",
     "output_type": "stream",
     "text": [
      "elapsed time: 3.2e+02\n"
     ]
    }
   ],
   "source": [
    "final_svr_rbf = SVR(kernel=\"rbf\", C = 2000, gamma=0.01, epsilon = 10)\n",
    "start_time = time.time()\n",
    "final_svr_rbf.fit(X, y)\n",
    "elapsed_time = time.time() - start_time\n",
    "print(\"elapsed time: {:.2}\".format(elapsed_time))"
   ]
  },
  {
   "cell_type": "code",
   "execution_count": 12,
   "metadata": {},
   "outputs": [],
   "source": [
    "preds = final_svr_rbf.predict(test_df)\n",
    "submission_df = pd.DataFrame({'Predicted': preds})\n",
    "submission_df.rename_axis('Id', inplace=True)\n",
    "submission_df.to_csv('./data/submission_svm_test.csv')"
   ]
  },
  {
   "cell_type": "markdown",
   "metadata": {},
   "source": [
    "# Grid Search to tune the hyperparameter"
   ]
  },
  {
   "cell_type": "code",
   "execution_count": 13,
   "metadata": {},
   "outputs": [
    {
     "name": "stdout",
     "output_type": "stream",
     "text": [
      "SVR(C=2000, gamma=0.01)\n"
     ]
    }
   ],
   "source": [
    "svr = SVR()\n",
    "\n",
    "parameters = {\n",
    "    'kernel':['rbf'],\n",
    "    'C': [1, 10, 100, 500, 1000, 2000],\n",
    "    'gamma': [0.1, 0.05, 0.01,0.005],\n",
    "    'epsilon': [0.1],\n",
    "}\n",
    "\n",
    "grid = GridSearchCV(svr, parameters, cv = 5, n_jobs = 4, scoring= 'neg_root_mean_squared_error')\n",
    "\n",
    "start_time = time.time()\n",
    "grid.fit(X, y)\n",
    "elapsed_time = time.time() - start_time\n",
    "\n",
    "print(grid.best_estimator_)"
   ]
  },
  {
   "cell_type": "code",
   "execution_count": 9,
   "metadata": {},
   "outputs": [
    {
     "name": "stdout",
     "output_type": "stream",
     "text": [
      "elapsed time: 4.2e+03\n"
     ]
    }
   ],
   "source": [
    "print(\"elapsed time: {:.2}\".format(elapsed_time))"
   ]
  }
 ],
 "metadata": {
  "kernelspec": {
   "display_name": "Python 3 (ipykernel)",
   "language": "python",
   "name": "python3"
  },
  "language_info": {
   "codemirror_mode": {
    "name": "ipython",
    "version": 3
   },
   "file_extension": ".py",
   "mimetype": "text/x-python",
   "name": "python",
   "nbconvert_exporter": "python",
   "pygments_lexer": "ipython3",
   "version": "3.9.16"
  }
 },
 "nbformat": 4,
 "nbformat_minor": 2
}
