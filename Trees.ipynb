{
 "cells": [
  {
   "cell_type": "markdown",
   "metadata": {},
   "source": [
    "# Imports and load Data"
   ]
  },
  {
   "cell_type": "code",
   "execution_count": 1,
   "metadata": {},
   "outputs": [],
   "source": [
    "import numpy as np\n",
    "import pandas as pd\n",
    "import matplotlib.pyplot as plt\n",
    "import seaborn as sns\n",
    "\n",
    "from sklearn.metrics import mean_squared_error\n",
    "from sklearn.model_selection import train_test_split\n",
    "\n",
    "from catboost import CatBoostRegressor, Pool, cv\n",
    "import xgboost as xgb\n",
    "from xgboost import XGBRegressor, DMatrix\n",
    "import lightgbm as lgb\n",
    "from lightgbm import LGBMRegressor, Dataset\n",
    "\n",
    "from hyperopt import hp, fmin, STATUS_OK, STATUS_FAIL, tpe, Trials, space_eval\n",
    "\n",
    "pd.set_option('display.max_rows', 100)"
   ]
  },
  {
   "cell_type": "code",
   "execution_count": 2,
   "metadata": {},
   "outputs": [
    {
     "data": {
      "text/html": [
       "<div>\n",
       "<style scoped>\n",
       "    .dataframe tbody tr th:only-of-type {\n",
       "        vertical-align: middle;\n",
       "    }\n",
       "\n",
       "    .dataframe tbody tr th {\n",
       "        vertical-align: top;\n",
       "    }\n",
       "\n",
       "    .dataframe thead th {\n",
       "        text-align: right;\n",
       "    }\n",
       "</style>\n",
       "<table border=\"1\" class=\"dataframe\">\n",
       "  <thead>\n",
       "    <tr style=\"text-align: right;\">\n",
       "      <th></th>\n",
       "      <th>rent_approval_date</th>\n",
       "      <th>town</th>\n",
       "      <th>block</th>\n",
       "      <th>street_name</th>\n",
       "      <th>flat_type</th>\n",
       "      <th>flat_model</th>\n",
       "      <th>floor_area_sqm</th>\n",
       "      <th>furnished</th>\n",
       "      <th>lease_commence_date</th>\n",
       "      <th>latitude</th>\n",
       "      <th>...</th>\n",
       "      <th>num_top_sch_2km</th>\n",
       "      <th>num_good_sch_1km</th>\n",
       "      <th>num_good_sch_2km</th>\n",
       "      <th>num_normal_sch_1km</th>\n",
       "      <th>num_normal_sch_2km</th>\n",
       "      <th>age</th>\n",
       "      <th>age_bin</th>\n",
       "      <th>shortest_dist_mall</th>\n",
       "      <th>shortest_ex_mrt</th>\n",
       "      <th>shortest_pl_mrt</th>\n",
       "    </tr>\n",
       "  </thead>\n",
       "  <tbody>\n",
       "    <tr>\n",
       "      <th>0</th>\n",
       "      <td>2021-09-01</td>\n",
       "      <td>jurong east</td>\n",
       "      <td>257</td>\n",
       "      <td>Jurong East Street 24</td>\n",
       "      <td>3 room</td>\n",
       "      <td>new generation</td>\n",
       "      <td>67.0</td>\n",
       "      <td>yes</td>\n",
       "      <td>1983-01-01</td>\n",
       "      <td>1.344518</td>\n",
       "      <td>...</td>\n",
       "      <td>1</td>\n",
       "      <td>0</td>\n",
       "      <td>2</td>\n",
       "      <td>2</td>\n",
       "      <td>4</td>\n",
       "      <td>38.693151</td>\n",
       "      <td>6</td>\n",
       "      <td>1.202674</td>\n",
       "      <td>0.699127</td>\n",
       "      <td>0.699127</td>\n",
       "    </tr>\n",
       "    <tr>\n",
       "      <th>1</th>\n",
       "      <td>2022-05-01</td>\n",
       "      <td>bedok</td>\n",
       "      <td>119</td>\n",
       "      <td>bedok north road</td>\n",
       "      <td>4 room</td>\n",
       "      <td>new generation</td>\n",
       "      <td>92.0</td>\n",
       "      <td>yes</td>\n",
       "      <td>1978-01-01</td>\n",
       "      <td>1.330186</td>\n",
       "      <td>...</td>\n",
       "      <td>2</td>\n",
       "      <td>1</td>\n",
       "      <td>1</td>\n",
       "      <td>3</td>\n",
       "      <td>6</td>\n",
       "      <td>44.358904</td>\n",
       "      <td>7</td>\n",
       "      <td>1.114338</td>\n",
       "      <td>0.898991</td>\n",
       "      <td>0.898991</td>\n",
       "    </tr>\n",
       "    <tr>\n",
       "      <th>2</th>\n",
       "      <td>2022-10-01</td>\n",
       "      <td>toa payoh</td>\n",
       "      <td>157</td>\n",
       "      <td>lorong 1 toa payoh</td>\n",
       "      <td>3 room</td>\n",
       "      <td>improved</td>\n",
       "      <td>67.0</td>\n",
       "      <td>yes</td>\n",
       "      <td>1971-01-01</td>\n",
       "      <td>1.332242</td>\n",
       "      <td>...</td>\n",
       "      <td>4</td>\n",
       "      <td>0</td>\n",
       "      <td>1</td>\n",
       "      <td>1</td>\n",
       "      <td>3</td>\n",
       "      <td>51.783562</td>\n",
       "      <td>9</td>\n",
       "      <td>0.468297</td>\n",
       "      <td>0.218603</td>\n",
       "      <td>0.218603</td>\n",
       "    </tr>\n",
       "    <tr>\n",
       "      <th>3</th>\n",
       "      <td>2021-08-01</td>\n",
       "      <td>pasir ris</td>\n",
       "      <td>250</td>\n",
       "      <td>Pasir Ris Street 21</td>\n",
       "      <td>executive</td>\n",
       "      <td>apartment</td>\n",
       "      <td>149.0</td>\n",
       "      <td>yes</td>\n",
       "      <td>1993-01-01</td>\n",
       "      <td>1.370239</td>\n",
       "      <td>...</td>\n",
       "      <td>0</td>\n",
       "      <td>2</td>\n",
       "      <td>2</td>\n",
       "      <td>1</td>\n",
       "      <td>4</td>\n",
       "      <td>28.600000</td>\n",
       "      <td>4</td>\n",
       "      <td>0.402359</td>\n",
       "      <td>1.546040</td>\n",
       "      <td>1.546040</td>\n",
       "    </tr>\n",
       "    <tr>\n",
       "      <th>4</th>\n",
       "      <td>2022-11-01</td>\n",
       "      <td>kallang/whampoa</td>\n",
       "      <td>34</td>\n",
       "      <td>Whampoa West</td>\n",
       "      <td>3 room</td>\n",
       "      <td>improved</td>\n",
       "      <td>68.0</td>\n",
       "      <td>yes</td>\n",
       "      <td>1972-01-01</td>\n",
       "      <td>1.320502</td>\n",
       "      <td>...</td>\n",
       "      <td>1</td>\n",
       "      <td>0</td>\n",
       "      <td>1</td>\n",
       "      <td>1</td>\n",
       "      <td>2</td>\n",
       "      <td>50.868493</td>\n",
       "      <td>8</td>\n",
       "      <td>1.073354</td>\n",
       "      <td>0.187856</td>\n",
       "      <td>0.187856</td>\n",
       "    </tr>\n",
       "  </tbody>\n",
       "</table>\n",
       "<p>5 rows × 32 columns</p>\n",
       "</div>"
      ],
      "text/plain": [
       "  rent_approval_date             town block            street_name  flat_type  \\\n",
       "0         2021-09-01      jurong east   257  Jurong East Street 24     3 room   \n",
       "1         2022-05-01            bedok   119       bedok north road     4 room   \n",
       "2         2022-10-01        toa payoh   157     lorong 1 toa payoh     3 room   \n",
       "3         2021-08-01        pasir ris   250    Pasir Ris Street 21  executive   \n",
       "4         2022-11-01  kallang/whampoa    34           Whampoa West     3 room   \n",
       "\n",
       "       flat_model  floor_area_sqm furnished lease_commence_date  latitude  \\\n",
       "0  new generation            67.0       yes          1983-01-01  1.344518   \n",
       "1  new generation            92.0       yes          1978-01-01  1.330186   \n",
       "2        improved            67.0       yes          1971-01-01  1.332242   \n",
       "3       apartment           149.0       yes          1993-01-01  1.370239   \n",
       "4        improved            68.0       yes          1972-01-01  1.320502   \n",
       "\n",
       "   ...  num_top_sch_2km  num_good_sch_1km num_good_sch_2km num_normal_sch_1km  \\\n",
       "0  ...                1                 0                2                  2   \n",
       "1  ...                2                 1                1                  3   \n",
       "2  ...                4                 0                1                  1   \n",
       "3  ...                0                 2                2                  1   \n",
       "4  ...                1                 0                1                  1   \n",
       "\n",
       "  num_normal_sch_2km        age  age_bin  shortest_dist_mall  shortest_ex_mrt  \\\n",
       "0                  4  38.693151        6            1.202674         0.699127   \n",
       "1                  6  44.358904        7            1.114338         0.898991   \n",
       "2                  3  51.783562        9            0.468297         0.218603   \n",
       "3                  4  28.600000        4            0.402359         1.546040   \n",
       "4                  2  50.868493        8            1.073354         0.187856   \n",
       "\n",
       "   shortest_pl_mrt  \n",
       "0         0.699127  \n",
       "1         0.898991  \n",
       "2         0.218603  \n",
       "3         1.546040  \n",
       "4         0.187856  \n",
       "\n",
       "[5 rows x 32 columns]"
      ]
     },
     "execution_count": 2,
     "metadata": {},
     "output_type": "execute_result"
    }
   ],
   "source": [
    "df = pd.read_csv('./data/train_trees.csv')\n",
    "test_df = pd.read_csv('./data/test_trees.csv')\n",
    "df.head()"
   ]
  },
  {
   "cell_type": "code",
   "execution_count": 3,
   "metadata": {},
   "outputs": [
    {
     "data": {
      "text/plain": [
       "((53754, 32), (5973, 32))"
      ]
     },
     "execution_count": 3,
     "metadata": {},
     "output_type": "execute_result"
    }
   ],
   "source": [
    "train_df, val_df = train_test_split(df, test_size=0.1, random_state=42)\n",
    "train_df.shape, val_df.shape"
   ]
  },
  {
   "cell_type": "code",
   "execution_count": 4,
   "metadata": {},
   "outputs": [
    {
     "name": "stdout",
     "output_type": "stream",
     "text": [
      "21\n"
     ]
    },
    {
     "data": {
      "text/html": [
       "<div>\n",
       "<style scoped>\n",
       "    .dataframe tbody tr th:only-of-type {\n",
       "        vertical-align: middle;\n",
       "    }\n",
       "\n",
       "    .dataframe tbody tr th {\n",
       "        vertical-align: top;\n",
       "    }\n",
       "\n",
       "    .dataframe thead th {\n",
       "        text-align: right;\n",
       "    }\n",
       "</style>\n",
       "<table border=\"1\" class=\"dataframe\">\n",
       "  <thead>\n",
       "    <tr style=\"text-align: right;\">\n",
       "      <th></th>\n",
       "      <th>town</th>\n",
       "      <th>flat_type</th>\n",
       "      <th>flat_model</th>\n",
       "      <th>subzone</th>\n",
       "      <th>planning_area</th>\n",
       "      <th>region</th>\n",
       "      <th>num_top_sch_1km</th>\n",
       "      <th>num_top_sch_2km</th>\n",
       "      <th>num_good_sch_1km</th>\n",
       "      <th>num_good_sch_2km</th>\n",
       "      <th>...</th>\n",
       "      <th>age_bin</th>\n",
       "      <th>age</th>\n",
       "      <th>floor_area_sqm</th>\n",
       "      <th>shortest_dist_school</th>\n",
       "      <th>shortest_dist_mall</th>\n",
       "      <th>shortest_ex_mrt</th>\n",
       "      <th>shortest_pl_mrt</th>\n",
       "      <th>sti</th>\n",
       "      <th>coe</th>\n",
       "      <th>monthly_rent</th>\n",
       "    </tr>\n",
       "  </thead>\n",
       "  <tbody>\n",
       "    <tr>\n",
       "      <th>46682</th>\n",
       "      <td>queenstown</td>\n",
       "      <td>5 room</td>\n",
       "      <td>standard</td>\n",
       "      <td>dover</td>\n",
       "      <td>queenstown</td>\n",
       "      <td>central region</td>\n",
       "      <td>1</td>\n",
       "      <td>1</td>\n",
       "      <td>0</td>\n",
       "      <td>1</td>\n",
       "      <td>...</td>\n",
       "      <td>7</td>\n",
       "      <td>45.443836</td>\n",
       "      <td>117.0</td>\n",
       "      <td>0.490373</td>\n",
       "      <td>0.263181</td>\n",
       "      <td>0.486722</td>\n",
       "      <td>0.486722</td>\n",
       "      <td>0.536411</td>\n",
       "      <td>0.966841</td>\n",
       "      <td>4700</td>\n",
       "    </tr>\n",
       "    <tr>\n",
       "      <th>25386</th>\n",
       "      <td>hougang</td>\n",
       "      <td>executive</td>\n",
       "      <td>apartment</td>\n",
       "      <td>trafalgar</td>\n",
       "      <td>hougang</td>\n",
       "      <td>north-east region</td>\n",
       "      <td>1</td>\n",
       "      <td>3</td>\n",
       "      <td>2</td>\n",
       "      <td>3</td>\n",
       "      <td>...</td>\n",
       "      <td>3</td>\n",
       "      <td>22.016438</td>\n",
       "      <td>137.0</td>\n",
       "      <td>0.181800</td>\n",
       "      <td>0.153121</td>\n",
       "      <td>1.626200</td>\n",
       "      <td>1.626200</td>\n",
       "      <td>0.000000</td>\n",
       "      <td>0.042686</td>\n",
       "      <td>2200</td>\n",
       "    </tr>\n",
       "    <tr>\n",
       "      <th>27347</th>\n",
       "      <td>jurong west</td>\n",
       "      <td>4 room</td>\n",
       "      <td>model a</td>\n",
       "      <td>hong kah</td>\n",
       "      <td>jurong west</td>\n",
       "      <td>west region</td>\n",
       "      <td>1</td>\n",
       "      <td>1</td>\n",
       "      <td>1</td>\n",
       "      <td>3</td>\n",
       "      <td>...</td>\n",
       "      <td>6</td>\n",
       "      <td>37.273973</td>\n",
       "      <td>107.0</td>\n",
       "      <td>0.491038</td>\n",
       "      <td>0.522755</td>\n",
       "      <td>0.881589</td>\n",
       "      <td>0.881589</td>\n",
       "      <td>0.561993</td>\n",
       "      <td>0.126418</td>\n",
       "      <td>2100</td>\n",
       "    </tr>\n",
       "    <tr>\n",
       "      <th>25636</th>\n",
       "      <td>bishan</td>\n",
       "      <td>5 room</td>\n",
       "      <td>improved</td>\n",
       "      <td>bishan east</td>\n",
       "      <td>bishan</td>\n",
       "      <td>central region</td>\n",
       "      <td>0</td>\n",
       "      <td>1</td>\n",
       "      <td>1</td>\n",
       "      <td>3</td>\n",
       "      <td>...</td>\n",
       "      <td>6</td>\n",
       "      <td>36.024658</td>\n",
       "      <td>121.0</td>\n",
       "      <td>0.625651</td>\n",
       "      <td>0.518611</td>\n",
       "      <td>0.550143</td>\n",
       "      <td>0.550143</td>\n",
       "      <td>0.677828</td>\n",
       "      <td>0.778767</td>\n",
       "      <td>3000</td>\n",
       "    </tr>\n",
       "    <tr>\n",
       "      <th>23101</th>\n",
       "      <td>bukit merah</td>\n",
       "      <td>4 room</td>\n",
       "      <td>model a</td>\n",
       "      <td>kampong tiong bahru</td>\n",
       "      <td>bukit merah</td>\n",
       "      <td>central region</td>\n",
       "      <td>0</td>\n",
       "      <td>0</td>\n",
       "      <td>1</td>\n",
       "      <td>3</td>\n",
       "      <td>...</td>\n",
       "      <td>4</td>\n",
       "      <td>26.430137</td>\n",
       "      <td>108.0</td>\n",
       "      <td>0.426200</td>\n",
       "      <td>0.831461</td>\n",
       "      <td>0.822746</td>\n",
       "      <td>0.822746</td>\n",
       "      <td>0.536411</td>\n",
       "      <td>0.966841</td>\n",
       "      <td>4300</td>\n",
       "    </tr>\n",
       "  </tbody>\n",
       "</table>\n",
       "<p>5 rows × 22 columns</p>\n",
       "</div>"
      ],
      "text/plain": [
       "              town  flat_type flat_model              subzone planning_area  \\\n",
       "46682   queenstown     5 room   standard                dover    queenstown   \n",
       "25386      hougang  executive  apartment            trafalgar       hougang   \n",
       "27347  jurong west     4 room    model a             hong kah   jurong west   \n",
       "25636       bishan     5 room   improved          bishan east        bishan   \n",
       "23101  bukit merah     4 room    model a  kampong tiong bahru   bukit merah   \n",
       "\n",
       "                  region  num_top_sch_1km  num_top_sch_2km  num_good_sch_1km  \\\n",
       "46682     central region                1                1                 0   \n",
       "25386  north-east region                1                3                 2   \n",
       "27347        west region                1                1                 1   \n",
       "25636     central region                0                1                 1   \n",
       "23101     central region                0                0                 1   \n",
       "\n",
       "       num_good_sch_2km  ...  age_bin        age  floor_area_sqm  \\\n",
       "46682                 1  ...        7  45.443836           117.0   \n",
       "25386                 3  ...        3  22.016438           137.0   \n",
       "27347                 3  ...        6  37.273973           107.0   \n",
       "25636                 3  ...        6  36.024658           121.0   \n",
       "23101                 3  ...        4  26.430137           108.0   \n",
       "\n",
       "       shortest_dist_school  shortest_dist_mall  shortest_ex_mrt  \\\n",
       "46682              0.490373            0.263181         0.486722   \n",
       "25386              0.181800            0.153121         1.626200   \n",
       "27347              0.491038            0.522755         0.881589   \n",
       "25636              0.625651            0.518611         0.550143   \n",
       "23101              0.426200            0.831461         0.822746   \n",
       "\n",
       "       shortest_pl_mrt       sti       coe  monthly_rent  \n",
       "46682         0.486722  0.536411  0.966841          4700  \n",
       "25386         1.626200  0.000000  0.042686          2200  \n",
       "27347         0.881589  0.561993  0.126418          2100  \n",
       "25636         0.550143  0.677828  0.778767          3000  \n",
       "23101         0.822746  0.536411  0.966841          4300  \n",
       "\n",
       "[5 rows x 22 columns]"
      ]
     },
     "execution_count": 4,
     "metadata": {},
     "output_type": "execute_result"
    }
   ],
   "source": [
    "all_cols = ['town', 'flat_type', 'flat_model', 'subzone', 'planning_area', 'region',\n",
    "            'num_top_sch_1km', 'num_top_sch_2km', 'num_good_sch_1km', 'num_good_sch_2km', 'num_normal_sch_1km', 'num_normal_sch_2km',\n",
    "            'age_bin', 'age', 'floor_area_sqm', 'shortest_dist_school', 'shortest_dist_mall', 'shortest_ex_mrt', 'shortest_pl_mrt', 'sti', 'coe']\n",
    "y_col = ['monthly_rent']\n",
    "train_df = train_df[all_cols + y_col]\n",
    "test_df = test_df[all_cols]\n",
    "print(len(all_cols))\n",
    "train_df.head()"
   ]
  },
  {
   "cell_type": "code",
   "execution_count": 5,
   "metadata": {},
   "outputs": [],
   "source": [
    "cat_cols = ['town', 'flat_type', 'flat_model', 'subzone', 'planning_area', 'region', 'age_bin',\n",
    "            'num_top_sch_1km', 'num_top_sch_2km', 'num_good_sch_1km', 'num_good_sch_2km', 'num_normal_sch_1km', 'num_normal_sch_2km']\n",
    "train_df[cat_cols] = train_df[cat_cols].astype('category')\n",
    "val_df[cat_cols] = val_df[cat_cols].astype('category')\n",
    "test_df[cat_cols] = test_df[cat_cols].astype('category')"
   ]
  },
  {
   "cell_type": "markdown",
   "metadata": {},
   "source": [
    "# Hyperopt setup"
   ]
  },
  {
   "cell_type": "code",
   "execution_count": 6,
   "metadata": {},
   "outputs": [],
   "source": [
    "num_evals = 100\n",
    "device = 'gpu'\n",
    "\n",
    "#common hyperparameters sets for all models\n",
    "n_estimators = [50, 100, 200, 300]\n",
    "max_depth = [2, 3, 4, 5, 7, 10, 12]\n",
    "learning_rate = [0.01, 0.05, 0.1, 0.2, 0.5, 0.75, 1.0]\n",
    "subsample = [0.4, 0.6, 0.8, 0.9, 1.0]\n",
    "# col_subsample = [0.4, 0.6, 0.8, 0.9, 1.0] # cannot use for catboost when using GPU\n",
    "col_subsample = [1.0]"
   ]
  },
  {
   "cell_type": "markdown",
   "metadata": {},
   "source": [
    "### Class object for hyperparameter optimisation"
   ]
  },
  {
   "cell_type": "code",
   "execution_count": 7,
   "metadata": {},
   "outputs": [],
   "source": [
    "class HPOptimiser(object):\n",
    "    def __init__(self, train_pool, val_pool, train_labels=None, val_labels=None):\n",
    "        self.train_pool = train_pool\n",
    "        self.val_pool = val_pool\n",
    "        self.train_labels = train_labels\n",
    "        self.val_labels = val_labels\n",
    "\n",
    "    def process(self, fn_name, space, trials, algo, max_evals):\n",
    "        fn = getattr(self, fn_name)\n",
    "        try:\n",
    "            result = fmin(fn=fn, space=space, algo=algo, max_evals=max_evals, trials=trials)\n",
    "        except Exception as e:\n",
    "            return {'status': STATUS_FAIL,\n",
    "                    'exception': str(e)}\n",
    "        return result, trials\n",
    "\n",
    "    def catboost_reg(self, para):\n",
    "        reg = CatBoostRegressor(**para['reg_params'])\n",
    "        return self.train_reg(reg, para)\n",
    "\n",
    "    def train_reg(self, reg, params):\n",
    "        reg.fit(self.train_pool,\n",
    "                eval_set=self.val_pool,\n",
    "                **params['fit_params'])\n",
    "        pred = reg.predict(self.val_pool)\n",
    "        loss = np.sqrt(mean_squared_error(self.val_pool.get_label(), pred))\n",
    "        return {'loss': loss, 'status': STATUS_OK}\n",
    "\n",
    "    def xgboost_reg(self, para):\n",
    "        reg = xgb.train(params=para['reg_params'], dtrain=self.train_pool, evals=[(self.val_pool, 'eval')], **para['fit_params'])\n",
    "        pred = reg.predict(self.val_pool)\n",
    "        loss = np.sqrt(mean_squared_error(self.val_pool.get_label(), pred))\n",
    "        return {'loss': loss, 'status': STATUS_OK}\n",
    "\n",
    "    def lightgbm_reg(self, para):\n",
    "        reg = lgb.train(para['reg_params'], self.train_pool, **para['fit_params'])\n",
    "        pred = reg.predict(self.val_pool.get_data().loc[:,:])\n",
    "        loss = np.sqrt(mean_squared_error(self.val_pool.get_label().copy(), pred))\n",
    "        return {'loss': loss, 'status': STATUS_OK}"
   ]
  },
  {
   "cell_type": "markdown",
   "metadata": {},
   "source": [
    "# Catboost"
   ]
  },
  {
   "cell_type": "code",
   "execution_count": 85,
   "metadata": {},
   "outputs": [],
   "source": [
    "# Choose which subset of columns to use with the categorical columns first then set n_cat_cols to the number of categorical columns\n",
    "\n",
    "# x_col = ['town', 'flat_type', 'flat_model', 'subzone', 'planning_area', 'region',\n",
    "#          'num_top_sch_1km', 'num_top_sch_2km', 'num_good_sch_1km', 'num_good_sch_2km', 'num_normal_sch_1km', 'num_normal_sch_2km',\n",
    "#          'age_bin', 'age', 'floor_area_sqm', 'shortest_dist_school', 'shortest_dist_mall', 'shortest_ex_mrt', 'shortest_pl_mrt', 'sti', 'coe']\n",
    "# n_cat_cols = 13\n",
    "\n",
    "x_col = ['flat_type', 'region', 'subzone',\n",
    "         'age', 'floor_area_sqm', 'shortest_dist_school', 'shortest_dist_mall', 'shortest_ex_mrt', 'shortest_pl_mrt', 'sti', 'coe']\n",
    "n_cat_cols = 3"
   ]
  },
  {
   "cell_type": "markdown",
   "metadata": {},
   "source": [
    "### Test run before optimisation of hyperparameters"
   ]
  },
  {
   "cell_type": "code",
   "execution_count": 86,
   "metadata": {},
   "outputs": [
    {
     "data": {
      "application/vnd.jupyter.widget-view+json": {
       "model_id": "1cbf0cccd75b4a3b952bfd8807db5885",
       "version_major": 2,
       "version_minor": 0
      },
      "text/plain": [
       "MetricVisualizer(layout=Layout(align_self='stretch', height='500px'))"
      ]
     },
     "metadata": {},
     "output_type": "display_data"
    },
    {
     "name": "stdout",
     "output_type": "stream",
     "text": [
      "0:\tlearn: 550.1321627\ttotal: 4.73ms\tremaining: 232ms\n",
      "1:\tlearn: 522.5141006\ttotal: 7.96ms\tremaining: 191ms\n",
      "2:\tlearn: 511.4862921\ttotal: 11.1ms\tremaining: 173ms\n",
      "3:\tlearn: 507.1989434\ttotal: 14.3ms\tremaining: 164ms\n",
      "4:\tlearn: 505.2944833\ttotal: 18.3ms\tremaining: 164ms\n",
      "5:\tlearn: 502.5212936\ttotal: 21.9ms\tremaining: 161ms\n",
      "6:\tlearn: 500.4681159\ttotal: 25.1ms\tremaining: 154ms\n",
      "7:\tlearn: 498.7262326\ttotal: 28.3ms\tremaining: 149ms\n",
      "8:\tlearn: 496.2908746\ttotal: 31.5ms\tremaining: 144ms\n",
      "9:\tlearn: 495.7660574\ttotal: 35.7ms\tremaining: 143ms\n",
      "10:\tlearn: 494.7704299\ttotal: 39ms\tremaining: 138ms\n",
      "11:\tlearn: 494.1215120\ttotal: 42.1ms\tremaining: 133ms\n",
      "12:\tlearn: 493.2039913\ttotal: 45.5ms\tremaining: 129ms\n",
      "13:\tlearn: 492.5424705\ttotal: 48.7ms\tremaining: 125ms\n",
      "14:\tlearn: 492.0318133\ttotal: 52.7ms\tremaining: 123ms\n",
      "15:\tlearn: 491.6605175\ttotal: 55.9ms\tremaining: 119ms\n",
      "16:\tlearn: 491.3111394\ttotal: 59.2ms\tremaining: 115ms\n",
      "17:\tlearn: 491.0506108\ttotal: 62.5ms\tremaining: 111ms\n",
      "18:\tlearn: 490.7000608\ttotal: 66.1ms\tremaining: 108ms\n",
      "19:\tlearn: 490.1519824\ttotal: 70.3ms\tremaining: 105ms\n",
      "20:\tlearn: 489.7067763\ttotal: 73.6ms\tremaining: 102ms\n",
      "21:\tlearn: 489.5879214\ttotal: 76.9ms\tremaining: 97.9ms\n",
      "22:\tlearn: 489.1519380\ttotal: 80.1ms\tremaining: 94.1ms\n",
      "23:\tlearn: 488.8404586\ttotal: 84.6ms\tremaining: 91.6ms\n",
      "24:\tlearn: 488.4123889\ttotal: 88.1ms\tremaining: 88.1ms\n",
      "25:\tlearn: 488.1890433\ttotal: 91.4ms\tremaining: 84.3ms\n",
      "26:\tlearn: 487.9189416\ttotal: 94.6ms\tremaining: 80.6ms\n",
      "27:\tlearn: 487.6988855\ttotal: 97.9ms\tremaining: 76.9ms\n",
      "28:\tlearn: 487.3355660\ttotal: 102ms\tremaining: 73.8ms\n",
      "29:\tlearn: 487.0261519\ttotal: 105ms\tremaining: 70ms\n",
      "30:\tlearn: 486.7667933\ttotal: 108ms\tremaining: 66.3ms\n",
      "31:\tlearn: 486.5113883\ttotal: 111ms\tremaining: 62.6ms\n",
      "32:\tlearn: 486.3519393\ttotal: 115ms\tremaining: 59ms\n",
      "33:\tlearn: 486.0891055\ttotal: 119ms\tremaining: 55.9ms\n",
      "34:\tlearn: 485.8395002\ttotal: 122ms\tremaining: 52.4ms\n",
      "35:\tlearn: 485.7071682\ttotal: 125ms\tremaining: 48.8ms\n",
      "36:\tlearn: 485.4789877\ttotal: 129ms\tremaining: 45.2ms\n",
      "37:\tlearn: 485.2065529\ttotal: 133ms\tremaining: 41.9ms\n",
      "38:\tlearn: 484.9450820\ttotal: 136ms\tremaining: 38.4ms\n",
      "39:\tlearn: 484.7787127\ttotal: 139ms\tremaining: 34.8ms\n",
      "40:\tlearn: 484.5281768\ttotal: 143ms\tremaining: 31.3ms\n",
      "41:\tlearn: 484.2906495\ttotal: 146ms\tremaining: 27.8ms\n",
      "42:\tlearn: 484.0329343\ttotal: 150ms\tremaining: 24.4ms\n",
      "43:\tlearn: 483.8067796\ttotal: 154ms\tremaining: 20.9ms\n",
      "44:\tlearn: 483.5890870\ttotal: 157ms\tremaining: 17.4ms\n",
      "45:\tlearn: 483.5221349\ttotal: 160ms\tremaining: 13.9ms\n",
      "46:\tlearn: 483.3613254\ttotal: 163ms\tremaining: 10.4ms\n",
      "47:\tlearn: 483.2290047\ttotal: 167ms\tremaining: 6.97ms\n",
      "48:\tlearn: 483.0873809\ttotal: 171ms\tremaining: 3.48ms\n",
      "49:\tlearn: 482.9897735\ttotal: 174ms\tremaining: 0us\n",
      "RMSE on validation set is 487.7347418156651\n"
     ]
    }
   ],
   "source": [
    "\n",
    "train_pool = Pool(train_df[x_col], train_df[y_col], cat_features=np.arange(n_cat_cols))\n",
    "val_pool = Pool(val_df[x_col], val_df[y_col], cat_features=np.arange(n_cat_cols))\n",
    "test_pool = Pool(test_df[x_col], cat_features=np.arange(n_cat_cols))\n",
    "\n",
    "cat_model = CatBoostRegressor(iterations=50,\n",
    "                          depth=4,\n",
    "                          learning_rate=0.8,\n",
    "                          bootstrap_type='Bernoulli',\n",
    "                          subsample=0.8,\n",
    "                          loss_function='RMSE',\n",
    "                          task_type='GPU')\n",
    "# train the model\n",
    "cat_model.fit(train_pool, plot=True)\n",
    "\n",
    "# evaluate on validation set\n",
    "preds = cat_model.predict(val_pool)\n",
    "print(f'RMSE on validation set is {np.sqrt(mean_squared_error(val_df[y_col], preds))}')"
   ]
  },
  {
   "cell_type": "code",
   "execution_count": 78,
   "metadata": {},
   "outputs": [
    {
     "data": {
      "image/png": "[encoded data removed]",
      "text/plain": [
       "<Figure size 1200x600 with 1 Axes>"
      ]
     },
     "metadata": {},
     "output_type": "display_data"
    }
   ],
   "source": [
    "# Create a dataframe of feature importance\n",
    "df_feature_importance = pd.DataFrame(cat_model.get_feature_importance(prettified=True))\n",
    "#plotting feature importance\n",
    "plt.figure(figsize=(12, 6));\n",
    "feature_plot= sns.barplot(x=\"Importances\", y=\"Feature Id\", data=df_feature_importance);\n",
    "plt.title('features importance');"
   ]
  },
  {
   "cell_type": "markdown",
   "metadata": {},
   "source": [
    "### Hyperparameter optimisation"
   ]
  },
  {
   "cell_type": "code",
   "execution_count": 11,
   "metadata": {},
   "outputs": [],
   "source": [
    "# Catboost hyperparameters to search\n",
    "catboost_hyperparams = { 'n_estimators': hp.choice('n_estimators', n_estimators),\n",
    "                         'max_depth': hp.choice('max_depth', max_depth),\n",
    "                         'learning_rate': hp.choice('learning_rate', learning_rate),\n",
    "                         'subsample': hp.choice('subsample', subsample),\n",
    "                        #  'colsample_bylevel': hp.choice('colsample_bylevel', col_subsample),\n",
    "                         'bootstrap_type': hp.choice('bootstrap_type', ['Poisson', 'Bernoulli', 'MVS']),\n",
    "                         'l2_leaf_reg': hp.choice('l2_leaf_reg', [None, 1, 5, 10, 20]),\n",
    "                         'loss_function': 'RMSE',\n",
    "                         'eval_metric': 'RMSE',\n",
    "                         'task_type': device.upper()}\n",
    "\n",
    "catboost_fit_params = {'early_stopping_rounds': 10, 'verbose': False}\n",
    "\n",
    "catboost_params = dict()\n",
    "catboost_params['reg_params'] = catboost_hyperparams\n",
    "catboost_params['fit_params'] = catboost_fit_params\n",
    "catboost_params['loss_func'] = lambda y, pred: np.sqrt(mean_squared_error(y, pred))"
   ]
  },
  {
   "cell_type": "code",
   "execution_count": 12,
   "metadata": {},
   "outputs": [
    {
     "name": "stdout",
     "output_type": "stream",
     "text": [
      "  0%|          | 0/100 [00:00<?, ?trial/s, best loss=?]"
     ]
    },
    {
     "name": "stdout",
     "output_type": "stream",
     "text": [
      "100%|██████████| 100/100 [03:17<00:00,  1.97s/trial, best loss: 485.4353405949363]\n"
     ]
    }
   ],
   "source": [
    "# hyperparamter optimisation\n",
    "optimiser = HPOptimiser(train_pool, val_pool)\n",
    "catboost_opt = optimiser.process(fn_name='catboost_reg', space=catboost_params,\n",
    "                          trials=Trials(), algo=tpe.suggest, max_evals=num_evals)"
   ]
  },
  {
   "cell_type": "code",
   "execution_count": 13,
   "metadata": {},
   "outputs": [
    {
     "name": "stdout",
     "output_type": "stream",
     "text": [
      "{'bootstrap_type': 'Bernoulli', 'eval_metric': 'RMSE', 'l2_leaf_reg': 1, 'learning_rate': 0.1, 'loss_function': 'RMSE', 'max_depth': 7, 'n_estimators': 300, 'subsample': 1.0, 'task_type': 'GPU'}\n",
      "{'early_stopping_rounds': 10, 'verbose': False}\n"
     ]
    }
   ],
   "source": [
    "# get best params\n",
    "catboost_reg_params = space_eval(catboost_params['reg_params'], catboost_opt[0])\n",
    "catboost_fit_params = space_eval(catboost_params['fit_params'], catboost_opt[0])\n",
    "print(catboost_reg_params)\n",
    "print(catboost_fit_params)"
   ]
  },
  {
   "cell_type": "code",
   "execution_count": 14,
   "metadata": {},
   "outputs": [
    {
     "data": {
      "application/vnd.jupyter.widget-view+json": {
       "model_id": "83d83435e4a84ba3b1a4949437847990",
       "version_major": 2,
       "version_minor": 0
      },
      "text/plain": [
       "MetricVisualizer(layout=Layout(align_self='stretch', height='500px'))"
      ]
     },
     "metadata": {},
     "output_type": "display_data"
    },
    {
     "name": "stdout",
     "output_type": "stream",
     "text": [
      "RMSE on validation set is 484.94061974561913\n"
     ]
    }
   ],
   "source": [
    "# get the best model\n",
    "cat_model = CatBoostRegressor(**catboost_reg_params)\n",
    "cat_model.fit(train_pool, plot=True, **catboost_fit_params)\n",
    "preds = cat_model.predict(val_pool)\n",
    "print(f'RMSE on validation set is {np.sqrt(mean_squared_error(val_df[y_col], preds))}')"
   ]
  },
  {
   "cell_type": "code",
   "execution_count": 15,
   "metadata": {},
   "outputs": [
    {
     "data": {
      "image/png": "[encoded data removed]",
      "text/plain": [
       "<Figure size 1200x600 with 1 Axes>"
      ]
     },
     "metadata": {},
     "output_type": "display_data"
    }
   ],
   "source": [
    "# Create a dataframe of feature importance\n",
    "df_feature_importance = pd.DataFrame(cat_model.get_feature_importance(prettified=True))\n",
    "#plotting feature importance\n",
    "plt.figure(figsize=(12, 6));\n",
    "feature_plot= sns.barplot(x=\"Importances\", y=\"Feature Id\", data=df_feature_importance);\n",
    "plt.title('features importance');"
   ]
  },
  {
   "cell_type": "code",
   "execution_count": 87,
   "metadata": {},
   "outputs": [
    {
     "data": {
      "text/plain": [
       "array([3449.91153339, 2290.88132227, 2886.72880632, ..., 2125.0261744 ,\n",
       "       3343.3684536 , 3702.60406046])"
      ]
     },
     "execution_count": 87,
     "metadata": {},
     "output_type": "execute_result"
    }
   ],
   "source": [
    "# predict on test set\n",
    "preds = cat_model.predict(test_pool)\n",
    "preds"
   ]
  },
  {
   "cell_type": "code",
   "execution_count": 88,
   "metadata": {},
   "outputs": [],
   "source": [
    "# output to csv\n",
    "submission_df = pd.DataFrame({'Predicted': preds})\n",
    "submission_df.rename_axis('Id', inplace=True)\n",
    "submission_df.to_csv('./data/submission_catboost.csv')"
   ]
  },
  {
   "cell_type": "markdown",
   "metadata": {},
   "source": [
    "# XGBoost"
   ]
  },
  {
   "cell_type": "code",
   "execution_count": 18,
   "metadata": {},
   "outputs": [],
   "source": [
    "# Choose which subset of columns to use\n",
    "\n",
    "# x_col = ['town', 'flat_type', 'flat_model', 'subzone', 'planning_area', 'region',\n",
    "#          'num_top_sch_1km', 'num_top_sch_2km', 'num_good_sch_1km', 'num_good_sch_2km', 'num_normal_sch_1km', 'num_normal_sch_2km',\n",
    "#          'age_bin', 'age', 'floor_area_sqm', 'shortest_dist_school', 'shortest_dist_mall', 'shortest_ex_mrt', 'shortest_pl_mrt', 'sti', 'coe']\n",
    "\n",
    "x_col = ['flat_type', 'subzone',\n",
    "         'age', 'floor_area_sqm', 'shortest_dist_school', 'shortest_dist_mall', 'shortest_ex_mrt', 'sti', 'coe']"
   ]
  },
  {
   "cell_type": "markdown",
   "metadata": {},
   "source": [
    "### Test run before optimisation of hyperparameters"
   ]
  },
  {
   "cell_type": "code",
   "execution_count": 19,
   "metadata": {},
   "outputs": [
    {
     "name": "stdout",
     "output_type": "stream",
     "text": [
      "[0]\ttrain-rmse:614.10533+0.95445\ttest-rmse:617.23824+5.43227\n",
      "[10]\ttrain-rmse:464.19849+0.89879\ttest-rmse:492.62856+2.07948\n",
      "[20]\ttrain-rmse:449.53435+0.64588\ttest-rmse:492.47628+2.09523\n",
      "[23]\ttrain-rmse:446.64760+0.62737\ttest-rmse:492.82733+1.94380\n"
     ]
    },
    {
     "data": {
      "text/html": [
       "<div>\n",
       "<style scoped>\n",
       "    .dataframe tbody tr th:only-of-type {\n",
       "        vertical-align: middle;\n",
       "    }\n",
       "\n",
       "    .dataframe tbody tr th {\n",
       "        vertical-align: top;\n",
       "    }\n",
       "\n",
       "    .dataframe thead th {\n",
       "        text-align: right;\n",
       "    }\n",
       "</style>\n",
       "<table border=\"1\" class=\"dataframe\">\n",
       "  <thead>\n",
       "    <tr style=\"text-align: right;\">\n",
       "      <th></th>\n",
       "      <th>train-rmse-mean</th>\n",
       "      <th>train-rmse-std</th>\n",
       "      <th>test-rmse-mean</th>\n",
       "      <th>test-rmse-std</th>\n",
       "    </tr>\n",
       "  </thead>\n",
       "  <tbody>\n",
       "    <tr>\n",
       "      <th>0</th>\n",
       "      <td>614.105327</td>\n",
       "      <td>0.954454</td>\n",
       "      <td>617.238237</td>\n",
       "      <td>5.432269</td>\n",
       "    </tr>\n",
       "    <tr>\n",
       "      <th>1</th>\n",
       "      <td>555.806122</td>\n",
       "      <td>1.058076</td>\n",
       "      <td>561.965814</td>\n",
       "      <td>4.906374</td>\n",
       "    </tr>\n",
       "    <tr>\n",
       "      <th>2</th>\n",
       "      <td>522.117109</td>\n",
       "      <td>0.854547</td>\n",
       "      <td>530.902745</td>\n",
       "      <td>4.665124</td>\n",
       "    </tr>\n",
       "    <tr>\n",
       "      <th>3</th>\n",
       "      <td>502.570639</td>\n",
       "      <td>0.830360</td>\n",
       "      <td>514.190268</td>\n",
       "      <td>4.227872</td>\n",
       "    </tr>\n",
       "    <tr>\n",
       "      <th>4</th>\n",
       "      <td>490.536696</td>\n",
       "      <td>1.015997</td>\n",
       "      <td>504.866476</td>\n",
       "      <td>3.665142</td>\n",
       "    </tr>\n",
       "    <tr>\n",
       "      <th>5</th>\n",
       "      <td>482.616067</td>\n",
       "      <td>0.999183</td>\n",
       "      <td>499.617644</td>\n",
       "      <td>3.104614</td>\n",
       "    </tr>\n",
       "    <tr>\n",
       "      <th>6</th>\n",
       "      <td>477.178100</td>\n",
       "      <td>0.848642</td>\n",
       "      <td>496.112495</td>\n",
       "      <td>2.801013</td>\n",
       "    </tr>\n",
       "    <tr>\n",
       "      <th>7</th>\n",
       "      <td>472.958478</td>\n",
       "      <td>0.593326</td>\n",
       "      <td>494.614866</td>\n",
       "      <td>2.511095</td>\n",
       "    </tr>\n",
       "    <tr>\n",
       "      <th>8</th>\n",
       "      <td>469.038971</td>\n",
       "      <td>0.615428</td>\n",
       "      <td>493.582327</td>\n",
       "      <td>2.146656</td>\n",
       "    </tr>\n",
       "    <tr>\n",
       "      <th>9</th>\n",
       "      <td>466.411224</td>\n",
       "      <td>0.868356</td>\n",
       "      <td>493.046574</td>\n",
       "      <td>2.092528</td>\n",
       "    </tr>\n",
       "    <tr>\n",
       "      <th>10</th>\n",
       "      <td>464.198486</td>\n",
       "      <td>0.898788</td>\n",
       "      <td>492.628562</td>\n",
       "      <td>2.079480</td>\n",
       "    </tr>\n",
       "    <tr>\n",
       "      <th>11</th>\n",
       "      <td>462.392294</td>\n",
       "      <td>0.907849</td>\n",
       "      <td>492.232558</td>\n",
       "      <td>2.017422</td>\n",
       "    </tr>\n",
       "    <tr>\n",
       "      <th>12</th>\n",
       "      <td>460.253517</td>\n",
       "      <td>0.965286</td>\n",
       "      <td>492.293634</td>\n",
       "      <td>1.902692</td>\n",
       "    </tr>\n",
       "    <tr>\n",
       "      <th>13</th>\n",
       "      <td>458.705023</td>\n",
       "      <td>1.025991</td>\n",
       "      <td>492.192628</td>\n",
       "      <td>1.807537</td>\n",
       "    </tr>\n",
       "    <tr>\n",
       "      <th>14</th>\n",
       "      <td>457.227714</td>\n",
       "      <td>0.789342</td>\n",
       "      <td>492.030367</td>\n",
       "      <td>1.837573</td>\n",
       "    </tr>\n",
       "  </tbody>\n",
       "</table>\n",
       "</div>"
      ],
      "text/plain": [
       "    train-rmse-mean  train-rmse-std  test-rmse-mean  test-rmse-std\n",
       "0        614.105327        0.954454      617.238237       5.432269\n",
       "1        555.806122        1.058076      561.965814       4.906374\n",
       "2        522.117109        0.854547      530.902745       4.665124\n",
       "3        502.570639        0.830360      514.190268       4.227872\n",
       "4        490.536696        1.015997      504.866476       3.665142\n",
       "5        482.616067        0.999183      499.617644       3.104614\n",
       "6        477.178100        0.848642      496.112495       2.801013\n",
       "7        472.958478        0.593326      494.614866       2.511095\n",
       "8        469.038971        0.615428      493.582327       2.146656\n",
       "9        466.411224        0.868356      493.046574       2.092528\n",
       "10       464.198486        0.898788      492.628562       2.079480\n",
       "11       462.392294        0.907849      492.232558       2.017422\n",
       "12       460.253517        0.965286      492.293634       1.902692\n",
       "13       458.705023        1.025991      492.192628       1.807537\n",
       "14       457.227714        0.789342      492.030367       1.837573"
      ]
     },
     "execution_count": 19,
     "metadata": {},
     "output_type": "execute_result"
    }
   ],
   "source": [
    "dtrain = DMatrix(data=train_df[x_col], label=train_df[y_col], enable_categorical=True)\n",
    "params = {'objective': 'reg:squarederror', 'eval_metric': 'rmse', 'booster': 'gbtree', 'device': 'gpu'}\n",
    "xgb_cv = xgb.cv(params=params, dtrain=dtrain, num_boost_round=100, nfold=5, early_stopping_rounds=10, verbose_eval=10)\n",
    "xgb_cv"
   ]
  },
  {
   "cell_type": "code",
   "execution_count": 20,
   "metadata": {},
   "outputs": [
    {
     "name": "stdout",
     "output_type": "stream",
     "text": [
      "[0]\ttrain-rmse:614.66187\teval-rmse:631.81167\n"
     ]
    },
    {
     "name": "stdout",
     "output_type": "stream",
     "text": [
      "[10]\ttrain-rmse:468.15850\teval-rmse:539.07481\n",
      "[17]\ttrain-rmse:459.15724\teval-rmse:540.91518\n"
     ]
    }
   ],
   "source": [
    "val_df[cat_cols] = val_df[cat_cols].astype('category')\n",
    "deval = DMatrix(data=val_df[x_col], label=val_df[y_col], enable_categorical=True)\n",
    "xgb_model = xgb.train(params=params, dtrain=dtrain, num_boost_round=100, early_stopping_rounds=10, evals=[(dtrain, 'train'), (deval, 'eval')], verbose_eval=10)"
   ]
  },
  {
   "cell_type": "code",
   "execution_count": 21,
   "metadata": {},
   "outputs": [
    {
     "data": {
      "text/plain": [
       "<Axes: title={'center': 'Feature importance'}, xlabel='F score', ylabel='Features'>"
      ]
     },
     "execution_count": 21,
     "metadata": {},
     "output_type": "execute_result"
    },
    {
     "data": {
      "image/png": "[encoded data removed]",
      "text/plain": [
       "<Figure size 640x480 with 1 Axes>"
      ]
     },
     "metadata": {},
     "output_type": "display_data"
    }
   ],
   "source": [
    "xgb.plot_importance(xgb_model, max_num_features=20)"
   ]
  },
  {
   "cell_type": "markdown",
   "metadata": {},
   "source": [
    "### Hyperparamter optimisation"
   ]
  },
  {
   "cell_type": "code",
   "execution_count": 22,
   "metadata": {},
   "outputs": [],
   "source": [
    "# xgboost hyperparameters to search\n",
    "xgboost_hyperparams = { 'max_depth': hp.choice('max_depth', max_depth),\n",
    "                        'learning_rate': hp.choice('learning_rate', learning_rate),\n",
    "                        'subsample': hp.choice('subsample', subsample),\n",
    "                        'colsample_bytree': hp.choice('colsample_bytree', subsample),\n",
    "                        # 'gamma': hp.uniform ('gamma', 0, 10),\n",
    "                        # 'reg_alpha': hp.quniform('reg_alpha', 20, 100, 1),\n",
    "                        # 'reg_lambda': hp.uniform('reg_lambda', 0, 1),\n",
    "                        'booster': 'gbtree',\n",
    "                        'objective': 'reg:squarederror',\n",
    "                        'eval_metric': 'rmse',\n",
    "                        'device': device}\n",
    "\n",
    "xgboost_fit_params = {'early_stopping_rounds': 10,\n",
    "                      'num_boost_round': hp.choice('num_boost_round', n_estimators),\n",
    "                      'verbose_eval': False}\n",
    "\n",
    "xgboost_params = dict()\n",
    "xgboost_params['reg_params'] = xgboost_hyperparams\n",
    "xgboost_params['fit_params'] = xgboost_fit_params\n",
    "xgboost_params['loss_func'] = lambda y, pred: np.sqrt(mean_squared_error(y, pred))"
   ]
  },
  {
   "cell_type": "code",
   "execution_count": 23,
   "metadata": {},
   "outputs": [
    {
     "name": "stdout",
     "output_type": "stream",
     "text": [
      "100%|██████████| 100/100 [01:22<00:00,  1.22trial/s, best loss: 508.417724609375]\n"
     ]
    }
   ],
   "source": [
    "# hyperparamter optimisation\n",
    "optimiser = HPOptimiser(dtrain, deval)\n",
    "xgboost_opt = optimiser.process(fn_name='xgboost_reg', space=xgboost_params,\n",
    "                          trials=Trials(), algo=tpe.suggest, max_evals=num_evals)"
   ]
  },
  {
   "cell_type": "code",
   "execution_count": 24,
   "metadata": {},
   "outputs": [
    {
     "name": "stdout",
     "output_type": "stream",
     "text": [
      "{'booster': 'gbtree', 'colsample_bytree': 0.4, 'device': 'gpu', 'eval_metric': 'rmse', 'learning_rate': 0.05, 'max_depth': 10, 'objective': 'reg:squarederror', 'subsample': 0.6}\n",
      "{'early_stopping_rounds': 10, 'num_boost_round': 200, 'verbose_eval': False}\n"
     ]
    }
   ],
   "source": [
    "# get best params\n",
    "xgboost_reg_params = space_eval(xgboost_params['reg_params'], xgboost_opt[0])\n",
    "xgboost_fit_params = space_eval(xgboost_params['fit_params'], xgboost_opt[0])\n",
    "print(xgboost_reg_params)\n",
    "print(xgboost_fit_params)"
   ]
  },
  {
   "cell_type": "code",
   "execution_count": 25,
   "metadata": {},
   "outputs": [
    {
     "name": "stdout",
     "output_type": "stream",
     "text": [
      "[0]\teval-rmse:713.63316\n"
     ]
    },
    {
     "name": "stdout",
     "output_type": "stream",
     "text": [
      "[10]\teval-rmse:629.77932\n",
      "[20]\teval-rmse:577.25701\n",
      "[30]\teval-rmse:548.76459\n",
      "[40]\teval-rmse:532.17086\n",
      "[50]\teval-rmse:522.25223\n",
      "[60]\teval-rmse:516.12728\n",
      "[70]\teval-rmse:512.19302\n",
      "[80]\teval-rmse:509.50832\n",
      "[90]\teval-rmse:508.92585\n",
      "[100]\teval-rmse:508.62492\n",
      "[110]\teval-rmse:508.37989\n",
      "[114]\teval-rmse:508.41775\n",
      "RMSE on validation set is 508.41772110858716\n"
     ]
    }
   ],
   "source": [
    "# use best params to train XGBoost\n",
    "xgb_model = xgb.train(params=xgboost_reg_params, dtrain=dtrain,\n",
    "                      evals=[(deval, 'eval')],\n",
    "                      num_boost_round=xgboost_fit_params['num_boost_round'],\n",
    "                      early_stopping_rounds=xgboost_fit_params['early_stopping_rounds'],\n",
    "                      verbose_eval=10)\n",
    "preds = xgb_model.predict(deval)\n",
    "print(f'RMSE on validation set is {np.sqrt(mean_squared_error(val_df[y_col], preds))}')"
   ]
  },
  {
   "cell_type": "code",
   "execution_count": 26,
   "metadata": {},
   "outputs": [
    {
     "data": {
      "text/plain": [
       "<Axes: title={'center': 'Feature importance'}, xlabel='F score', ylabel='Features'>"
      ]
     },
     "execution_count": 26,
     "metadata": {},
     "output_type": "execute_result"
    },
    {
     "data": {
      "image/png": "[encoded data removed]",
      "text/plain": [
       "<Figure size 640x480 with 1 Axes>"
      ]
     },
     "metadata": {},
     "output_type": "display_data"
    }
   ],
   "source": [
    "xgb.plot_importance(xgb_model, max_num_features=20)"
   ]
  },
  {
   "cell_type": "code",
   "execution_count": 27,
   "metadata": {},
   "outputs": [
    {
     "data": {
      "text/plain": [
       "array([3323.8599, 2958.715 , 3543.8042, ..., 3314.318 , 3419.959 ,\n",
       "       3552.7798], dtype=float32)"
      ]
     },
     "execution_count": 27,
     "metadata": {},
     "output_type": "execute_result"
    }
   ],
   "source": [
    "# predict on test set\n",
    "dtest = DMatrix(data=test_df[x_col], enable_categorical=True)\n",
    "preds = xgb_model.predict(dtest)\n",
    "preds"
   ]
  },
  {
   "cell_type": "code",
   "execution_count": 28,
   "metadata": {},
   "outputs": [],
   "source": [
    "# output to csv\n",
    "submission_df = pd.DataFrame({'Predicted': preds})\n",
    "submission_df.rename_axis('Id', inplace=True)\n",
    "submission_df.to_csv('./data/submission_xgboost.csv')"
   ]
  },
  {
   "cell_type": "markdown",
   "metadata": {},
   "source": [
    "# LightGBM"
   ]
  },
  {
   "cell_type": "code",
   "execution_count": 29,
   "metadata": {},
   "outputs": [],
   "source": [
    "# Choose which subset of columns to use\n",
    "\n",
    "# x_col = ['town', 'flat_type', 'flat_model', 'subzone', 'planning_area', 'region',\n",
    "#          'num_top_sch_1km', 'num_top_sch_2km', 'num_good_sch_1km', 'num_good_sch_2km', 'num_normal_sch_1km', 'num_normal_sch_2km',\n",
    "#          'age_bin', 'age', 'floor_area_sqm', 'shortest_dist_school', 'shortest_dist_mall', 'shortest_ex_mrt', 'shortest_pl_mrt', 'sti', 'coe']\n",
    "\n",
    "x_col = ['flat_type', 'subzone',\n",
    "         'age', 'floor_area_sqm', 'shortest_dist_school', 'shortest_dist_mall', 'shortest_ex_mrt', 'sti', 'coe']"
   ]
  },
  {
   "cell_type": "code",
   "execution_count": 30,
   "metadata": {},
   "outputs": [],
   "source": [
    "lgb_train = Dataset(train_df[x_col], train_df[y_col], params={'verbose': -1}, free_raw_data=False).construct()\n",
    "lgb_eval = Dataset(val_df[x_col], val_df[y_col], params={'verbose': -1}, free_raw_data=False).construct()"
   ]
  },
  {
   "cell_type": "code",
   "execution_count": 31,
   "metadata": {},
   "outputs": [],
   "source": [
    "# lightgbm hyperparameters to search\n",
    "lightgbm_hyperparams = {'max_depth': hp.choice('max_depth', max_depth),\n",
    "                        'learning_rate': hp.choice('learning_rate', learning_rate),\n",
    "                        'subsample': hp.choice('subsample', subsample),\n",
    "                        'colsample_bytree': hp.choice('colsample_bytree', col_subsample),\n",
    "                        # 'gamma': hp.uniform ('gamma', 0, 10),\n",
    "                        # 'min_child_weight': hp.quniform('min_child_weight', 0, 10, 1),\n",
    "                        # 'reg_alpha': hp.quniform('reg_alpha', 20, 100, 1),\n",
    "                        # 'reg_lambda': hp.uniform('reg_lambda', 0, 1),\n",
    "                        'objective': 'regression',\n",
    "                        'metric': 'rmse',\n",
    "                        'device': device,\n",
    "                        'verbose': -1}\n",
    "\n",
    "lightgbm_fit_params = {'num_boost_round': hp.choice('num_boost_round', n_estimators)}#, 'verbose_eval': False}\n",
    "\n",
    "lightgbm_params = dict()\n",
    "lightgbm_params['reg_params'] = lightgbm_hyperparams\n",
    "lightgbm_params['fit_params'] = lightgbm_fit_params\n",
    "lightgbm_params['loss_func'] = lambda y, pred: np.sqrt(mean_squared_error(y, pred))"
   ]
  },
  {
   "cell_type": "code",
   "execution_count": 32,
   "metadata": {},
   "outputs": [
    {
     "name": "stdout",
     "output_type": "stream",
     "text": [
      "100%|██████████| 100/100 [00:59<00:00,  1.69trial/s, best loss: 484.41942577260926]\n"
     ]
    }
   ],
   "source": [
    "# hyperparamter optimisation\n",
    "optimiser = HPOptimiser(lgb_train, lgb_eval)\n",
    "lightgbm_opt = optimiser.process(fn_name='lightgbm_reg', space=lightgbm_params,\n",
    "                          trials=Trials(), algo=tpe.suggest, max_evals=num_evals)"
   ]
  },
  {
   "cell_type": "code",
   "execution_count": 33,
   "metadata": {},
   "outputs": [
    {
     "name": "stdout",
     "output_type": "stream",
     "text": [
      "{'colsample_bytree': 1.0, 'device': 'gpu', 'learning_rate': 0.1, 'max_depth': 3, 'metric': 'rmse', 'objective': 'regression', 'subsample': 0.4, 'verbose': -1}\n",
      "{'num_boost_round': 200}\n"
     ]
    }
   ],
   "source": [
    "# get best params\n",
    "lgb_reg_params = space_eval(lightgbm_params['reg_params'], lightgbm_opt[0])\n",
    "lgb_fit_params = space_eval(lightgbm_params['fit_params'], lightgbm_opt[0])\n",
    "print(lgb_reg_params)\n",
    "print(lgb_fit_params)"
   ]
  },
  {
   "cell_type": "code",
   "execution_count": 34,
   "metadata": {},
   "outputs": [
    {
     "name": "stdout",
     "output_type": "stream",
     "text": [
      "RMSE on validation set is 484.419425840093\n"
     ]
    }
   ],
   "source": [
    "# get the best model\n",
    "lgb_model = lgb.train(lgb_reg_params, lgb_train, **lgb_fit_params)\n",
    "preds = lgb_model.predict(val_df.loc[:,x_col])\n",
    "print(f'RMSE on validation set is {np.sqrt(mean_squared_error(val_df[y_col], preds))}')"
   ]
  },
  {
   "cell_type": "code",
   "execution_count": 35,
   "metadata": {},
   "outputs": [
    {
     "data": {
      "text/plain": [
       "<Axes: title={'center': 'Feature importance'}, xlabel='Feature importance', ylabel='Features'>"
      ]
     },
     "execution_count": 35,
     "metadata": {},
     "output_type": "execute_result"
    },
    {
     "data": {
      "image/png": "[encoded data removed]",
      "text/plain": [
       "<Figure size 640x480 with 1 Axes>"
      ]
     },
     "metadata": {},
     "output_type": "display_data"
    }
   ],
   "source": [
    "lgb.plot_importance(lgb_model, max_num_features=20)"
   ]
  },
  {
   "cell_type": "code",
   "execution_count": 36,
   "metadata": {},
   "outputs": [
    {
     "data": {
      "text/plain": [
       "array([2519.91779011, 2442.3434777 , 2897.57110708, ..., 2521.58361678,\n",
       "       3248.00630288, 2815.9418558 ])"
      ]
     },
     "execution_count": 36,
     "metadata": {},
     "output_type": "execute_result"
    }
   ],
   "source": [
    "# predict on test set\n",
    "preds = lgb_model.predict(test_df.loc[:,x_col])\n",
    "preds"
   ]
  },
  {
   "cell_type": "code",
   "execution_count": 37,
   "metadata": {},
   "outputs": [],
   "source": [
    "# output to csv\n",
    "submission_df = pd.DataFrame({'Predicted': preds})\n",
    "submission_df.rename_axis('Id', inplace=True)\n",
    "submission_df.to_csv('./data/submission_lightgbm.csv')"
   ]
  }
 ],
 "metadata": {
  "kernelspec": {
   "display_name": "cs5228",
   "language": "python",
   "name": "python3"
  },
  "language_info": {
   "codemirror_mode": {
    "name": "ipython",
    "version": 3
   },
   "file_extension": ".py",
   "mimetype": "text/x-python",
   "name": "python",
   "nbconvert_exporter": "python",
   "pygments_lexer": "ipython3",
   "version": "3.11.4"
  }
 },
 "nbformat": 4,
 "nbformat_minor": 2
}
