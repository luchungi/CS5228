{
 "cells": [
  {
   "cell_type": "markdown",
   "metadata": {},
   "source": [
    "# Imports and load Data"
   ]
  },
  {
   "cell_type": "code",
   "execution_count": 1,
   "metadata": {},
   "outputs": [],
   "source": [
    "import numpy as np\n",
    "import pandas as pd\n",
    "import matplotlib.pyplot as plt\n",
    "import seaborn as sns\n",
    "\n",
    "from sklearn.metrics import mean_squared_error\n",
    "from sklearn.model_selection import train_test_split\n",
    "\n",
    "from catboost import CatBoostRegressor, Pool, cv\n",
    "import xgboost as xgb\n",
    "from xgboost import XGBRegressor, DMatrix\n",
    "import lightgbm as lgb\n",
    "from lightgbm import LGBMRegressor, Dataset\n",
    "\n",
    "from hyperopt import hp, fmin, STATUS_OK, STATUS_FAIL, tpe, Trials, space_eval\n",
    "\n",
    "pd.set_option('display.max_rows', 100)"
   ]
  },
  {
   "cell_type": "code",
   "execution_count": 2,
   "metadata": {},
   "outputs": [
    {
     "data": {
      "text/html": [
       "<div>\n",
       "<style scoped>\n",
       "    .dataframe tbody tr th:only-of-type {\n",
       "        vertical-align: middle;\n",
       "    }\n",
       "\n",
       "    .dataframe tbody tr th {\n",
       "        vertical-align: top;\n",
       "    }\n",
       "\n",
       "    .dataframe thead th {\n",
       "        text-align: right;\n",
       "    }\n",
       "</style>\n",
       "<table border=\"1\" class=\"dataframe\">\n",
       "  <thead>\n",
       "    <tr style=\"text-align: right;\">\n",
       "      <th></th>\n",
       "      <th>rent_approval_date</th>\n",
       "      <th>town</th>\n",
       "      <th>block</th>\n",
       "      <th>street_name</th>\n",
       "      <th>flat_type</th>\n",
       "      <th>flat_model</th>\n",
       "      <th>floor_area_sqm</th>\n",
       "      <th>furnished</th>\n",
       "      <th>lease_commence_date</th>\n",
       "      <th>latitude</th>\n",
       "      <th>...</th>\n",
       "      <th>num_top_sch_2km</th>\n",
       "      <th>num_good_sch_1km</th>\n",
       "      <th>num_good_sch_2km</th>\n",
       "      <th>num_normal_sch_1km</th>\n",
       "      <th>num_normal_sch_2km</th>\n",
       "      <th>age</th>\n",
       "      <th>age_bin</th>\n",
       "      <th>shortest_dist_mall</th>\n",
       "      <th>shortest_ex_mrt</th>\n",
       "      <th>shortest_pl_mrt</th>\n",
       "    </tr>\n",
       "  </thead>\n",
       "  <tbody>\n",
       "    <tr>\n",
       "      <th>0</th>\n",
       "      <td>2021-09-01</td>\n",
       "      <td>jurong east</td>\n",
       "      <td>257</td>\n",
       "      <td>Jurong East Street 24</td>\n",
       "      <td>3 room</td>\n",
       "      <td>new generation</td>\n",
       "      <td>67.0</td>\n",
       "      <td>yes</td>\n",
       "      <td>1983-01-01</td>\n",
       "      <td>1.344518</td>\n",
       "      <td>...</td>\n",
       "      <td>1</td>\n",
       "      <td>0</td>\n",
       "      <td>2</td>\n",
       "      <td>2</td>\n",
       "      <td>4</td>\n",
       "      <td>38.693151</td>\n",
       "      <td>6</td>\n",
       "      <td>1.202674</td>\n",
       "      <td>0.699127</td>\n",
       "      <td>0.699127</td>\n",
       "    </tr>\n",
       "    <tr>\n",
       "      <th>1</th>\n",
       "      <td>2022-05-01</td>\n",
       "      <td>bedok</td>\n",
       "      <td>119</td>\n",
       "      <td>bedok north road</td>\n",
       "      <td>4 room</td>\n",
       "      <td>new generation</td>\n",
       "      <td>92.0</td>\n",
       "      <td>yes</td>\n",
       "      <td>1978-01-01</td>\n",
       "      <td>1.330186</td>\n",
       "      <td>...</td>\n",
       "      <td>2</td>\n",
       "      <td>1</td>\n",
       "      <td>1</td>\n",
       "      <td>3</td>\n",
       "      <td>6</td>\n",
       "      <td>44.358904</td>\n",
       "      <td>7</td>\n",
       "      <td>1.114338</td>\n",
       "      <td>0.898991</td>\n",
       "      <td>0.898991</td>\n",
       "    </tr>\n",
       "    <tr>\n",
       "      <th>2</th>\n",
       "      <td>2022-10-01</td>\n",
       "      <td>toa payoh</td>\n",
       "      <td>157</td>\n",
       "      <td>lorong 1 toa payoh</td>\n",
       "      <td>3 room</td>\n",
       "      <td>improved</td>\n",
       "      <td>67.0</td>\n",
       "      <td>yes</td>\n",
       "      <td>1971-01-01</td>\n",
       "      <td>1.332242</td>\n",
       "      <td>...</td>\n",
       "      <td>4</td>\n",
       "      <td>0</td>\n",
       "      <td>1</td>\n",
       "      <td>1</td>\n",
       "      <td>3</td>\n",
       "      <td>51.783562</td>\n",
       "      <td>9</td>\n",
       "      <td>0.468297</td>\n",
       "      <td>0.218603</td>\n",
       "      <td>0.218603</td>\n",
       "    </tr>\n",
       "    <tr>\n",
       "      <th>3</th>\n",
       "      <td>2021-08-01</td>\n",
       "      <td>pasir ris</td>\n",
       "      <td>250</td>\n",
       "      <td>Pasir Ris Street 21</td>\n",
       "      <td>executive</td>\n",
       "      <td>apartment</td>\n",
       "      <td>149.0</td>\n",
       "      <td>yes</td>\n",
       "      <td>1993-01-01</td>\n",
       "      <td>1.370239</td>\n",
       "      <td>...</td>\n",
       "      <td>0</td>\n",
       "      <td>2</td>\n",
       "      <td>2</td>\n",
       "      <td>1</td>\n",
       "      <td>4</td>\n",
       "      <td>28.600000</td>\n",
       "      <td>4</td>\n",
       "      <td>0.402359</td>\n",
       "      <td>1.546040</td>\n",
       "      <td>1.546040</td>\n",
       "    </tr>\n",
       "    <tr>\n",
       "      <th>4</th>\n",
       "      <td>2022-11-01</td>\n",
       "      <td>kallang/whampoa</td>\n",
       "      <td>34</td>\n",
       "      <td>Whampoa West</td>\n",
       "      <td>3 room</td>\n",
       "      <td>improved</td>\n",
       "      <td>68.0</td>\n",
       "      <td>yes</td>\n",
       "      <td>1972-01-01</td>\n",
       "      <td>1.320502</td>\n",
       "      <td>...</td>\n",
       "      <td>1</td>\n",
       "      <td>0</td>\n",
       "      <td>1</td>\n",
       "      <td>1</td>\n",
       "      <td>2</td>\n",
       "      <td>50.868493</td>\n",
       "      <td>8</td>\n",
       "      <td>1.073354</td>\n",
       "      <td>0.187856</td>\n",
       "      <td>0.187856</td>\n",
       "    </tr>\n",
       "  </tbody>\n",
       "</table>\n",
       "<p>5 rows × 32 columns</p>\n",
       "</div>"
      ],
      "text/plain": [
       "  rent_approval_date             town block            street_name  flat_type  \\\n",
       "0         2021-09-01      jurong east   257  Jurong East Street 24     3 room   \n",
       "1         2022-05-01            bedok   119       bedok north road     4 room   \n",
       "2         2022-10-01        toa payoh   157     lorong 1 toa payoh     3 room   \n",
       "3         2021-08-01        pasir ris   250    Pasir Ris Street 21  executive   \n",
       "4         2022-11-01  kallang/whampoa    34           Whampoa West     3 room   \n",
       "\n",
       "       flat_model  floor_area_sqm furnished lease_commence_date  latitude  \\\n",
       "0  new generation            67.0       yes          1983-01-01  1.344518   \n",
       "1  new generation            92.0       yes          1978-01-01  1.330186   \n",
       "2        improved            67.0       yes          1971-01-01  1.332242   \n",
       "3       apartment           149.0       yes          1993-01-01  1.370239   \n",
       "4        improved            68.0       yes          1972-01-01  1.320502   \n",
       "\n",
       "   ...  num_top_sch_2km  num_good_sch_1km num_good_sch_2km num_normal_sch_1km  \\\n",
       "0  ...                1                 0                2                  2   \n",
       "1  ...                2                 1                1                  3   \n",
       "2  ...                4                 0                1                  1   \n",
       "3  ...                0                 2                2                  1   \n",
       "4  ...                1                 0                1                  1   \n",
       "\n",
       "  num_normal_sch_2km        age  age_bin  shortest_dist_mall  shortest_ex_mrt  \\\n",
       "0                  4  38.693151        6            1.202674         0.699127   \n",
       "1                  6  44.358904        7            1.114338         0.898991   \n",
       "2                  3  51.783562        9            0.468297         0.218603   \n",
       "3                  4  28.600000        4            0.402359         1.546040   \n",
       "4                  2  50.868493        8            1.073354         0.187856   \n",
       "\n",
       "   shortest_pl_mrt  \n",
       "0         0.699127  \n",
       "1         0.898991  \n",
       "2         0.218603  \n",
       "3         1.546040  \n",
       "4         0.187856  \n",
       "\n",
       "[5 rows x 32 columns]"
      ]
     },
     "execution_count": 2,
     "metadata": {},
     "output_type": "execute_result"
    }
   ],
   "source": [
    "df = pd.read_csv('./data/train_trees.csv')\n",
    "test_df = pd.read_csv('./data/test_trees.csv')\n",
    "df.head()"
   ]
  },
  {
   "cell_type": "code",
   "execution_count": 3,
   "metadata": {},
   "outputs": [
    {
     "data": {
      "text/plain": [
       "((47781, 32), (11946, 32))"
      ]
     },
     "execution_count": 3,
     "metadata": {},
     "output_type": "execute_result"
    }
   ],
   "source": [
    "train_df, val_df = train_test_split(df, test_size=0.2)\n",
    "train_df.shape, val_df.shape"
   ]
  },
  {
   "cell_type": "code",
   "execution_count": 4,
   "metadata": {},
   "outputs": [
    {
     "name": "stdout",
     "output_type": "stream",
     "text": [
      "21\n"
     ]
    },
    {
     "data": {
      "text/html": [
       "<div>\n",
       "<style scoped>\n",
       "    .dataframe tbody tr th:only-of-type {\n",
       "        vertical-align: middle;\n",
       "    }\n",
       "\n",
       "    .dataframe tbody tr th {\n",
       "        vertical-align: top;\n",
       "    }\n",
       "\n",
       "    .dataframe thead th {\n",
       "        text-align: right;\n",
       "    }\n",
       "</style>\n",
       "<table border=\"1\" class=\"dataframe\">\n",
       "  <thead>\n",
       "    <tr style=\"text-align: right;\">\n",
       "      <th></th>\n",
       "      <th>town</th>\n",
       "      <th>flat_type</th>\n",
       "      <th>flat_model</th>\n",
       "      <th>subzone</th>\n",
       "      <th>planning_area</th>\n",
       "      <th>region</th>\n",
       "      <th>num_top_sch_1km</th>\n",
       "      <th>num_top_sch_2km</th>\n",
       "      <th>num_good_sch_1km</th>\n",
       "      <th>num_good_sch_2km</th>\n",
       "      <th>...</th>\n",
       "      <th>age_bin</th>\n",
       "      <th>age</th>\n",
       "      <th>floor_area_sqm</th>\n",
       "      <th>shortest_dist_school</th>\n",
       "      <th>shortest_dist_mall</th>\n",
       "      <th>shortest_ex_mrt</th>\n",
       "      <th>shortest_pl_mrt</th>\n",
       "      <th>sti</th>\n",
       "      <th>coe</th>\n",
       "      <th>monthly_rent</th>\n",
       "    </tr>\n",
       "  </thead>\n",
       "  <tbody>\n",
       "    <tr>\n",
       "      <th>16029</th>\n",
       "      <td>choa chu kang</td>\n",
       "      <td>4 room</td>\n",
       "      <td>model a</td>\n",
       "      <td>peng siang</td>\n",
       "      <td>choa chu kang</td>\n",
       "      <td>west region</td>\n",
       "      <td>0</td>\n",
       "      <td>1</td>\n",
       "      <td>1</td>\n",
       "      <td>1</td>\n",
       "      <td>...</td>\n",
       "      <td>4</td>\n",
       "      <td>24.512329</td>\n",
       "      <td>101.0</td>\n",
       "      <td>0.225921</td>\n",
       "      <td>0.814987</td>\n",
       "      <td>1.135941</td>\n",
       "      <td>1.135941</td>\n",
       "      <td>0.602295</td>\n",
       "      <td>0.961789</td>\n",
       "      <td>3050</td>\n",
       "    </tr>\n",
       "    <tr>\n",
       "      <th>43628</th>\n",
       "      <td>bishan</td>\n",
       "      <td>4 room</td>\n",
       "      <td>new generation</td>\n",
       "      <td>upper thomson</td>\n",
       "      <td>bishan</td>\n",
       "      <td>central region</td>\n",
       "      <td>0</td>\n",
       "      <td>2</td>\n",
       "      <td>1</td>\n",
       "      <td>2</td>\n",
       "      <td>...</td>\n",
       "      <td>6</td>\n",
       "      <td>37.271233</td>\n",
       "      <td>97.0</td>\n",
       "      <td>0.818630</td>\n",
       "      <td>0.499857</td>\n",
       "      <td>0.158186</td>\n",
       "      <td>0.158186</td>\n",
       "      <td>0.956920</td>\n",
       "      <td>0.654969</td>\n",
       "      <td>2750</td>\n",
       "    </tr>\n",
       "    <tr>\n",
       "      <th>13621</th>\n",
       "      <td>choa chu kang</td>\n",
       "      <td>4 room</td>\n",
       "      <td>model a</td>\n",
       "      <td>yew tee</td>\n",
       "      <td>choa chu kang</td>\n",
       "      <td>west region</td>\n",
       "      <td>0</td>\n",
       "      <td>0</td>\n",
       "      <td>0</td>\n",
       "      <td>0</td>\n",
       "      <td>...</td>\n",
       "      <td>3</td>\n",
       "      <td>24.016438</td>\n",
       "      <td>103.0</td>\n",
       "      <td>0.321979</td>\n",
       "      <td>0.490423</td>\n",
       "      <td>0.527486</td>\n",
       "      <td>0.527486</td>\n",
       "      <td>0.677828</td>\n",
       "      <td>0.778767</td>\n",
       "      <td>2900</td>\n",
       "    </tr>\n",
       "    <tr>\n",
       "      <th>27171</th>\n",
       "      <td>bedok</td>\n",
       "      <td>4 room</td>\n",
       "      <td>model a</td>\n",
       "      <td>bedok north</td>\n",
       "      <td>bedok</td>\n",
       "      <td>east region</td>\n",
       "      <td>0</td>\n",
       "      <td>2</td>\n",
       "      <td>0</td>\n",
       "      <td>1</td>\n",
       "      <td>...</td>\n",
       "      <td>2</td>\n",
       "      <td>16.424658</td>\n",
       "      <td>92.0</td>\n",
       "      <td>0.451415</td>\n",
       "      <td>1.253239</td>\n",
       "      <td>0.598614</td>\n",
       "      <td>0.598614</td>\n",
       "      <td>0.571224</td>\n",
       "      <td>0.157632</td>\n",
       "      <td>2100</td>\n",
       "    </tr>\n",
       "    <tr>\n",
       "      <th>5234</th>\n",
       "      <td>tampines</td>\n",
       "      <td>5 room</td>\n",
       "      <td>improved</td>\n",
       "      <td>simei</td>\n",
       "      <td>tampines</td>\n",
       "      <td>east region</td>\n",
       "      <td>0</td>\n",
       "      <td>1</td>\n",
       "      <td>1</td>\n",
       "      <td>2</td>\n",
       "      <td>...</td>\n",
       "      <td>5</td>\n",
       "      <td>33.435616</td>\n",
       "      <td>128.0</td>\n",
       "      <td>0.840016</td>\n",
       "      <td>0.759841</td>\n",
       "      <td>0.488631</td>\n",
       "      <td>0.488631</td>\n",
       "      <td>0.665652</td>\n",
       "      <td>0.715263</td>\n",
       "      <td>3150</td>\n",
       "    </tr>\n",
       "  </tbody>\n",
       "</table>\n",
       "<p>5 rows × 22 columns</p>\n",
       "</div>"
      ],
      "text/plain": [
       "                town flat_type      flat_model        subzone  planning_area  \\\n",
       "16029  choa chu kang    4 room         model a     peng siang  choa chu kang   \n",
       "43628         bishan    4 room  new generation  upper thomson         bishan   \n",
       "13621  choa chu kang    4 room         model a        yew tee  choa chu kang   \n",
       "27171          bedok    4 room         model a    bedok north          bedok   \n",
       "5234        tampines    5 room        improved          simei       tampines   \n",
       "\n",
       "               region  num_top_sch_1km  num_top_sch_2km  num_good_sch_1km  \\\n",
       "16029     west region                0                1                 1   \n",
       "43628  central region                0                2                 1   \n",
       "13621     west region                0                0                 0   \n",
       "27171     east region                0                2                 0   \n",
       "5234      east region                0                1                 1   \n",
       "\n",
       "       num_good_sch_2km  ...  age_bin        age  floor_area_sqm  \\\n",
       "16029                 1  ...        4  24.512329           101.0   \n",
       "43628                 2  ...        6  37.271233            97.0   \n",
       "13621                 0  ...        3  24.016438           103.0   \n",
       "27171                 1  ...        2  16.424658            92.0   \n",
       "5234                  2  ...        5  33.435616           128.0   \n",
       "\n",
       "       shortest_dist_school  shortest_dist_mall  shortest_ex_mrt  \\\n",
       "16029              0.225921            0.814987         1.135941   \n",
       "43628              0.818630            0.499857         0.158186   \n",
       "13621              0.321979            0.490423         0.527486   \n",
       "27171              0.451415            1.253239         0.598614   \n",
       "5234               0.840016            0.759841         0.488631   \n",
       "\n",
       "       shortest_pl_mrt       sti       coe  monthly_rent  \n",
       "16029         1.135941  0.602295  0.961789          3050  \n",
       "43628         0.158186  0.956920  0.654969          2750  \n",
       "13621         0.527486  0.677828  0.778767          2900  \n",
       "27171         0.598614  0.571224  0.157632          2100  \n",
       "5234          0.488631  0.665652  0.715263          3150  \n",
       "\n",
       "[5 rows x 22 columns]"
      ]
     },
     "execution_count": 4,
     "metadata": {},
     "output_type": "execute_result"
    }
   ],
   "source": [
    "all_cols = ['town', 'flat_type', 'flat_model', 'subzone', 'planning_area', 'region',\n",
    "            'num_top_sch_1km', 'num_top_sch_2km', 'num_good_sch_1km', 'num_good_sch_2km', 'num_normal_sch_1km', 'num_normal_sch_2km',\n",
    "            'age_bin', 'age', 'floor_area_sqm', 'shortest_dist_school', 'shortest_dist_mall', 'shortest_ex_mrt', 'shortest_pl_mrt', 'sti', 'coe']\n",
    "y_col = ['monthly_rent']\n",
    "train_df = train_df[all_cols + y_col]\n",
    "test_df = test_df[all_cols]\n",
    "print(len(all_cols))\n",
    "train_df.head()"
   ]
  },
  {
   "cell_type": "code",
   "execution_count": 5,
   "metadata": {},
   "outputs": [],
   "source": [
    "cat_cols = ['town', 'flat_type', 'flat_model', 'subzone', 'planning_area', 'region', 'age_bin',\n",
    "            'num_top_sch_1km', 'num_top_sch_2km', 'num_good_sch_1km', 'num_good_sch_2km', 'num_normal_sch_1km', 'num_normal_sch_2km']\n",
    "train_df[cat_cols] = train_df[cat_cols].astype('category')\n",
    "val_df[cat_cols] = val_df[cat_cols].astype('category')\n",
    "test_df[cat_cols] = test_df[cat_cols].astype('category')"
   ]
  },
  {
   "cell_type": "markdown",
   "metadata": {},
   "source": [
    "# Hyperopt setup"
   ]
  },
  {
   "cell_type": "code",
   "execution_count": 6,
   "metadata": {},
   "outputs": [],
   "source": [
    "num_evals = 200\n",
    "device = 'gpu'\n",
    "\n",
    "#common hyperparameters sets for all models\n",
    "n_estimators = [50, 100, 200, 300, 500, 1000]\n",
    "max_depth = [2, 3, 4, 5, 7, 10, 12]\n",
    "learning_rate = [0.01, 0.05, 0.1, 0.2, 0.5, 0.75, 1.0]\n",
    "subsample = [0.4, 0.6, 0.8, 0.9, 1.0]\n",
    "col_subsample = [0.4, 0.6, 0.8, 0.9, 1.0] # cannot use for catboost when using GPU\n",
    "# col_subsample = [1.0]"
   ]
  },
  {
   "cell_type": "markdown",
   "metadata": {},
   "source": [
    "### Class object for hyperparameter optimisation"
   ]
  },
  {
   "cell_type": "code",
   "execution_count": 7,
   "metadata": {},
   "outputs": [],
   "source": [
    "class HPOptimiser(object):\n",
    "    def __init__(self, train_pool, val_pool, train_labels=None, val_labels=None):\n",
    "        self.train_pool = train_pool\n",
    "        self.val_pool = val_pool\n",
    "        self.train_labels = train_labels\n",
    "        self.val_labels = val_labels\n",
    "\n",
    "    def process(self, fn_name, space, trials, algo, max_evals):\n",
    "        fn = getattr(self, fn_name)\n",
    "        try:\n",
    "            result = fmin(fn=fn, space=space, algo=algo, max_evals=max_evals, trials=trials)\n",
    "        except Exception as e:\n",
    "            return {'status': STATUS_FAIL,\n",
    "                    'exception': str(e)}\n",
    "        return result, trials\n",
    "\n",
    "    def catboost_reg(self, para):\n",
    "        reg = CatBoostRegressor(**para['reg_params'])\n",
    "        return self.train_reg(reg, para)\n",
    "\n",
    "    def train_reg(self, reg, params):\n",
    "        reg.fit(self.train_pool,\n",
    "                eval_set=self.val_pool,\n",
    "                **params['fit_params'])\n",
    "        pred = reg.predict(self.val_pool)\n",
    "        loss = np.sqrt(mean_squared_error(self.val_pool.get_label(), pred))\n",
    "        return {'loss': loss, 'status': STATUS_OK}\n",
    "\n",
    "    def xgboost_reg(self, para):\n",
    "        reg = xgb.train(params=para['reg_params'], dtrain=self.train_pool, evals=[(self.val_pool, 'eval')], **para['fit_params'])\n",
    "        pred = reg.predict(self.val_pool)\n",
    "        loss = np.sqrt(mean_squared_error(self.val_pool.get_label(), pred))\n",
    "        return {'loss': loss, 'status': STATUS_OK}\n",
    "\n",
    "    def lightgbm_reg(self, para):\n",
    "        reg = lgb.train(para['reg_params'], self.train_pool, **para['fit_params'])\n",
    "        pred = reg.predict(self.val_pool.get_data().loc[:,:])\n",
    "        loss = np.sqrt(mean_squared_error(self.val_pool.get_label().copy(), pred))\n",
    "        return {'loss': loss, 'status': STATUS_OK}"
   ]
  },
  {
   "cell_type": "markdown",
   "metadata": {},
   "source": [
    "# Catboost"
   ]
  },
  {
   "cell_type": "code",
   "execution_count": 8,
   "metadata": {},
   "outputs": [],
   "source": [
    "# Choose which subset of columns to use with the categorical columns first then set n_cat_cols to the number of categorical columns\n",
    "\n",
    "# x_col = ['town', 'flat_type', 'flat_model', 'subzone', 'planning_area', 'region',\n",
    "#          'num_top_sch_1km', 'num_top_sch_2km', 'num_good_sch_1km', 'num_good_sch_2km', 'num_normal_sch_1km', 'num_normal_sch_2km',\n",
    "#          'age_bin', 'age', 'floor_area_sqm', 'shortest_dist_school', 'shortest_dist_mall', 'shortest_ex_mrt', 'shortest_pl_mrt', 'sti', 'coe', 'hdb_index']\n",
    "# n_cat_cols = 13\n",
    "\n",
    "x_col = ['flat_type', 'subzone', 'num_top_sch_2km', 'num_top_sch_1km', 'num_good_sch_1km', 'num_good_sch_2km', 'flat_model',\n",
    "         'age', 'floor_area_sqm', 'shortest_dist_school', 'shortest_dist_mall', 'shortest_ex_mrt', 'shortest_pl_mrt', 'sti', 'coe']\n",
    "n_cat_cols = 7"
   ]
  },
  {
   "cell_type": "markdown",
   "metadata": {},
   "source": [
    "### Test run before optimisation of hyperparameters"
   ]
  },
  {
   "cell_type": "code",
   "execution_count": 9,
   "metadata": {},
   "outputs": [
    {
     "data": {
      "application/vnd.jupyter.widget-view+json": {
       "model_id": "365cd8f6e60b4ccd9223725e1869b370",
       "version_major": 2,
       "version_minor": 0
      },
      "text/plain": [
       "MetricVisualizer(layout=Layout(align_self='stretch', height='500px'))"
      ]
     },
     "metadata": {},
     "output_type": "display_data"
    },
    {
     "name": "stdout",
     "output_type": "stream",
     "text": [
      "0:\tlearn: 701.0830089\ttest: 701.8483778\tbest: 701.8483778 (0)\ttotal: 22.4ms\tremaining: 11.2s\n",
      "1:\tlearn: 688.5776616\ttest: 689.5651468\tbest: 689.5651468 (1)\ttotal: 41.2ms\tremaining: 10.3s\n",
      "2:\tlearn: 676.9193620\ttest: 678.0207514\tbest: 678.0207514 (2)\ttotal: 58.2ms\tremaining: 9.65s\n",
      "3:\tlearn: 666.3989075\ttest: 667.5860234\tbest: 667.5860234 (3)\ttotal: 77.7ms\tremaining: 9.64s\n",
      "4:\tlearn: 656.5469310\ttest: 657.8540928\tbest: 657.8540928 (4)\ttotal: 94.4ms\tremaining: 9.34s\n",
      "5:\tlearn: 647.6413213\ttest: 649.0020837\tbest: 649.0020837 (5)\ttotal: 111ms\tremaining: 9.16s\n",
      "6:\tlearn: 639.4312535\ttest: 641.0065081\tbest: 641.0065081 (6)\ttotal: 128ms\tremaining: 9.02s\n",
      "7:\tlearn: 631.7650905\ttest: 633.4471497\tbest: 633.4471497 (7)\ttotal: 144ms\tremaining: 8.88s\n",
      "8:\tlearn: 624.7885848\ttest: 626.5896886\tbest: 626.5896886 (8)\ttotal: 163ms\tremaining: 8.91s\n",
      "9:\tlearn: 618.3543009\ttest: 620.3539805\tbest: 620.3539805 (9)\ttotal: 180ms\tremaining: 8.83s\n",
      "10:\tlearn: 612.4007684\ttest: 614.6012241\tbest: 614.6012241 (10)\ttotal: 198ms\tremaining: 8.78s\n",
      "11:\tlearn: 606.8775845\ttest: 609.1891760\tbest: 609.1891760 (11)\ttotal: 214ms\tremaining: 8.71s\n",
      "12:\tlearn: 601.9386374\ttest: 604.2688301\tbest: 604.2688301 (12)\ttotal: 231ms\tremaining: 8.65s\n",
      "13:\tlearn: 597.3003247\ttest: 599.7259846\tbest: 599.7259846 (13)\ttotal: 257ms\tremaining: 8.93s\n",
      "14:\tlearn: 592.2111014\ttest: 594.5903212\tbest: 594.5903212 (14)\ttotal: 275ms\tremaining: 8.88s\n",
      "15:\tlearn: 587.4335393\ttest: 589.8005032\tbest: 589.8005032 (15)\ttotal: 299ms\tremaining: 9.05s\n",
      "16:\tlearn: 583.9145755\ttest: 586.3239643\tbest: 586.3239643 (16)\ttotal: 328ms\tremaining: 9.31s\n",
      "17:\tlearn: 579.8120024\ttest: 582.2184376\tbest: 582.2184376 (17)\ttotal: 345ms\tremaining: 9.23s\n",
      "18:\tlearn: 576.6799063\ttest: 579.1282317\tbest: 579.1282317 (18)\ttotal: 362ms\tremaining: 9.16s\n",
      "19:\tlearn: 573.1670098\ttest: 575.5984798\tbest: 575.5984798 (19)\ttotal: 381ms\tremaining: 9.15s\n",
      "20:\tlearn: 569.8990571\ttest: 572.3041015\tbest: 572.3041015 (20)\ttotal: 398ms\tremaining: 9.08s\n",
      "21:\tlearn: 566.7163556\ttest: 569.0501913\tbest: 569.0501913 (21)\ttotal: 415ms\tremaining: 9.01s\n",
      "22:\tlearn: 564.2334387\ttest: 566.6870128\tbest: 566.6870128 (22)\ttotal: 431ms\tremaining: 8.94s\n",
      "23:\tlearn: 562.0053038\ttest: 564.5684264\tbest: 564.5684264 (23)\ttotal: 448ms\tremaining: 8.88s\n",
      "24:\tlearn: 559.4032226\ttest: 561.9983574\tbest: 561.9983574 (24)\ttotal: 465ms\tremaining: 8.83s\n",
      "25:\tlearn: 557.0235700\ttest: 559.4582920\tbest: 559.4582920 (25)\ttotal: 481ms\tremaining: 8.78s\n",
      "26:\tlearn: 554.7122574\ttest: 557.0609440\tbest: 557.0609440 (26)\ttotal: 497ms\tremaining: 8.71s\n",
      "27:\tlearn: 552.4897319\ttest: 554.9134469\tbest: 554.9134469 (27)\ttotal: 513ms\tremaining: 8.65s\n",
      "28:\tlearn: 550.5137040\ttest: 552.9226597\tbest: 552.9226597 (28)\ttotal: 530ms\tremaining: 8.61s\n",
      "29:\tlearn: 548.7037083\ttest: 551.0427599\tbest: 551.0427599 (29)\ttotal: 547ms\tremaining: 8.57s\n",
      "30:\tlearn: 547.0697370\ttest: 549.5290467\tbest: 549.5290467 (30)\ttotal: 563ms\tremaining: 8.52s\n",
      "31:\tlearn: 545.3553266\ttest: 547.7690803\tbest: 547.7690803 (31)\ttotal: 580ms\tremaining: 8.48s\n",
      "32:\tlearn: 543.7148008\ttest: 546.0851304\tbest: 546.0851304 (32)\ttotal: 596ms\tremaining: 8.43s\n",
      "33:\tlearn: 542.2823462\ttest: 544.5844548\tbest: 544.5844548 (33)\ttotal: 612ms\tremaining: 8.39s\n",
      "34:\tlearn: 540.9059482\ttest: 543.2210572\tbest: 543.2210572 (34)\ttotal: 629ms\tremaining: 8.35s\n",
      "35:\tlearn: 539.5450257\ttest: 541.8109807\tbest: 541.8109807 (35)\ttotal: 646ms\tremaining: 8.33s\n",
      "36:\tlearn: 538.3741988\ttest: 540.6223621\tbest: 540.6223621 (36)\ttotal: 663ms\tremaining: 8.3s\n",
      "37:\tlearn: 537.2911127\ttest: 539.6264447\tbest: 539.6264447 (37)\ttotal: 679ms\tremaining: 8.26s\n",
      "38:\tlearn: 536.0513800\ttest: 538.3822560\tbest: 538.3822560 (38)\ttotal: 695ms\tremaining: 8.21s\n",
      "39:\tlearn: 534.1691348\ttest: 536.4115354\tbest: 536.4115354 (39)\ttotal: 713ms\tremaining: 8.2s\n",
      "40:\tlearn: 533.1853980\ttest: 535.4434066\tbest: 535.4434066 (40)\ttotal: 730ms\tremaining: 8.17s\n",
      "41:\tlearn: 532.2737110\ttest: 534.5842955\tbest: 534.5842955 (41)\ttotal: 746ms\tremaining: 8.13s\n",
      "42:\tlearn: 531.3223038\ttest: 533.5608421\tbest: 533.5608421 (42)\ttotal: 763ms\tremaining: 8.1s\n",
      "43:\tlearn: 529.7209337\ttest: 531.8703457\tbest: 531.8703457 (43)\ttotal: 780ms\tremaining: 8.08s\n",
      "44:\tlearn: 528.7976000\ttest: 530.8817049\tbest: 530.8817049 (44)\ttotal: 796ms\tremaining: 8.05s\n",
      "45:\tlearn: 527.9731242\ttest: 530.0693964\tbest: 530.0693964 (45)\ttotal: 823ms\tremaining: 8.12s\n",
      "46:\tlearn: 527.1918334\ttest: 529.2240554\tbest: 529.2240554 (46)\ttotal: 840ms\tremaining: 8.09s\n",
      "47:\tlearn: 526.3730261\ttest: 528.3357480\tbest: 528.3357480 (47)\ttotal: 857ms\tremaining: 8.07s\n",
      "48:\tlearn: 525.1792410\ttest: 527.0378481\tbest: 527.0378481 (48)\ttotal: 875ms\tremaining: 8.06s\n",
      "49:\tlearn: 524.5143968\ttest: 526.4178539\tbest: 526.4178539 (49)\ttotal: 892ms\tremaining: 8.03s\n",
      "50:\tlearn: 523.8901908\ttest: 525.7857574\tbest: 525.7857574 (50)\ttotal: 909ms\tremaining: 8s\n",
      "51:\tlearn: 522.6800951\ttest: 524.4977680\tbest: 524.4977680 (51)\ttotal: 926ms\tremaining: 7.98s\n",
      "52:\tlearn: 521.6055285\ttest: 523.2696802\tbest: 523.2696802 (52)\ttotal: 943ms\tremaining: 7.95s\n",
      "53:\tlearn: 520.5027840\ttest: 522.0587765\tbest: 522.0587765 (53)\ttotal: 960ms\tremaining: 7.93s\n",
      "54:\tlearn: 519.5237369\ttest: 520.9226087\tbest: 520.9226087 (54)\ttotal: 977ms\tremaining: 7.91s\n",
      "55:\tlearn: 518.8035028\ttest: 520.1010089\tbest: 520.1010089 (55)\ttotal: 994ms\tremaining: 7.88s\n",
      "56:\tlearn: 518.2950530\ttest: 519.6325454\tbest: 519.6325454 (56)\ttotal: 1.01s\tremaining: 7.85s\n",
      "57:\tlearn: 517.3577897\ttest: 518.6610071\tbest: 518.6610071 (57)\ttotal: 1.03s\tremaining: 7.83s\n",
      "58:\tlearn: 516.8562106\ttest: 518.1843768\tbest: 518.1843768 (58)\ttotal: 1.04s\tremaining: 7.81s\n",
      "59:\tlearn: 516.3572572\ttest: 517.6935028\tbest: 517.6935028 (59)\ttotal: 1.06s\tremaining: 7.79s\n",
      "60:\tlearn: 516.0103919\ttest: 517.2880693\tbest: 517.2880693 (60)\ttotal: 1.08s\tremaining: 7.79s\n",
      "61:\tlearn: 515.5394289\ttest: 516.8699211\tbest: 516.8699211 (61)\ttotal: 1.1s\tremaining: 7.77s\n",
      "62:\tlearn: 514.8278367\ttest: 516.0302204\tbest: 516.0302204 (62)\ttotal: 1.12s\tremaining: 7.77s\n",
      "63:\tlearn: 514.4326587\ttest: 515.6020331\tbest: 515.6020331 (63)\ttotal: 1.14s\tremaining: 7.77s\n",
      "64:\tlearn: 514.0182485\ttest: 515.1905861\tbest: 515.1905861 (64)\ttotal: 1.16s\tremaining: 7.74s\n",
      "65:\tlearn: 513.6404727\ttest: 514.8009357\tbest: 514.8009357 (65)\ttotal: 1.17s\tremaining: 7.72s\n",
      "66:\tlearn: 513.2433157\ttest: 514.4249872\tbest: 514.4249872 (66)\ttotal: 1.19s\tremaining: 7.69s\n",
      "67:\tlearn: 512.6299049\ttest: 513.6865325\tbest: 513.6865325 (67)\ttotal: 1.21s\tremaining: 7.67s\n",
      "68:\tlearn: 512.2962246\ttest: 513.2769945\tbest: 513.2769945 (68)\ttotal: 1.23s\tremaining: 7.66s\n",
      "69:\tlearn: 511.8968942\ttest: 512.8722062\tbest: 512.8722062 (69)\ttotal: 1.24s\tremaining: 7.63s\n",
      "70:\tlearn: 511.5754922\ttest: 512.5534636\tbest: 512.5534636 (70)\ttotal: 1.26s\tremaining: 7.61s\n",
      "71:\tlearn: 511.2725625\ttest: 512.2151105\tbest: 512.2151105 (71)\ttotal: 1.28s\tremaining: 7.58s\n",
      "72:\tlearn: 510.9198543\ttest: 511.8715727\tbest: 511.8715727 (72)\ttotal: 1.29s\tremaining: 7.57s\n",
      "73:\tlearn: 510.4176171\ttest: 511.3144582\tbest: 511.3144582 (73)\ttotal: 1.31s\tremaining: 7.54s\n",
      "74:\tlearn: 510.1800391\ttest: 511.0993250\tbest: 511.0993250 (74)\ttotal: 1.33s\tremaining: 7.52s\n",
      "75:\tlearn: 509.7729342\ttest: 510.6151118\tbest: 510.6151118 (75)\ttotal: 1.34s\tremaining: 7.5s\n",
      "76:\tlearn: 509.4947393\ttest: 510.2660451\tbest: 510.2660451 (76)\ttotal: 1.37s\tremaining: 7.53s\n",
      "77:\tlearn: 509.0786248\ttest: 509.7541780\tbest: 509.7541780 (77)\ttotal: 1.39s\tremaining: 7.51s\n",
      "78:\tlearn: 508.7528727\ttest: 509.4563047\tbest: 509.4563047 (78)\ttotal: 1.41s\tremaining: 7.49s\n",
      "79:\tlearn: 508.4525396\ttest: 509.1730091\tbest: 509.1730091 (79)\ttotal: 1.42s\tremaining: 7.46s\n",
      "80:\tlearn: 508.1937590\ttest: 508.9611602\tbest: 508.9611602 (80)\ttotal: 1.44s\tremaining: 7.44s\n",
      "81:\tlearn: 507.9950941\ttest: 508.7704102\tbest: 508.7704102 (81)\ttotal: 1.47s\tremaining: 7.47s\n",
      "82:\tlearn: 507.7852094\ttest: 508.6012675\tbest: 508.6012675 (82)\ttotal: 1.48s\tremaining: 7.46s\n",
      "83:\tlearn: 507.5564275\ttest: 508.3592724\tbest: 508.3592724 (83)\ttotal: 1.5s\tremaining: 7.43s\n",
      "84:\tlearn: 507.3415246\ttest: 508.1500363\tbest: 508.1500363 (84)\ttotal: 1.52s\tremaining: 7.41s\n",
      "85:\tlearn: 506.9717303\ttest: 507.7427645\tbest: 507.7427645 (85)\ttotal: 1.54s\tremaining: 7.4s\n",
      "86:\tlearn: 506.6483036\ttest: 507.3753131\tbest: 507.3753131 (86)\ttotal: 1.55s\tremaining: 7.38s\n",
      "87:\tlearn: 506.4807899\ttest: 507.2220770\tbest: 507.2220770 (87)\ttotal: 1.57s\tremaining: 7.37s\n",
      "88:\tlearn: 506.2703410\ttest: 507.0121814\tbest: 507.0121814 (88)\ttotal: 1.59s\tremaining: 7.34s\n",
      "89:\tlearn: 506.0537062\ttest: 506.7977590\tbest: 506.7977590 (89)\ttotal: 1.6s\tremaining: 7.32s\n",
      "90:\tlearn: 505.8356653\ttest: 506.5194707\tbest: 506.5194707 (90)\ttotal: 1.62s\tremaining: 7.29s\n",
      "91:\tlearn: 505.6469665\ttest: 506.3376623\tbest: 506.3376623 (91)\ttotal: 1.64s\tremaining: 7.27s\n",
      "92:\tlearn: 505.4718074\ttest: 506.1536504\tbest: 506.1536504 (92)\ttotal: 1.66s\tremaining: 7.25s\n",
      "93:\tlearn: 505.3039673\ttest: 505.9492414\tbest: 505.9492414 (93)\ttotal: 1.68s\tremaining: 7.28s\n",
      "94:\tlearn: 505.0576401\ttest: 505.6391671\tbest: 505.6391671 (94)\ttotal: 1.7s\tremaining: 7.27s\n",
      "95:\tlearn: 504.8295537\ttest: 505.3404586\tbest: 505.3404586 (95)\ttotal: 1.72s\tremaining: 7.25s\n",
      "96:\tlearn: 504.6549814\ttest: 505.2041242\tbest: 505.2041242 (96)\ttotal: 1.74s\tremaining: 7.23s\n",
      "97:\tlearn: 504.3773841\ttest: 504.9050946\tbest: 504.9050946 (97)\ttotal: 1.76s\tremaining: 7.21s\n",
      "98:\tlearn: 504.1531770\ttest: 504.6232145\tbest: 504.6232145 (98)\ttotal: 1.79s\tremaining: 7.24s\n",
      "99:\tlearn: 504.0332020\ttest: 504.4860279\tbest: 504.4860279 (99)\ttotal: 1.8s\tremaining: 7.22s\n",
      "100:\tlearn: 503.8945276\ttest: 504.3536903\tbest: 504.3536903 (100)\ttotal: 1.82s\tremaining: 7.2s\n",
      "101:\tlearn: 503.6915291\ttest: 504.1689118\tbest: 504.1689118 (101)\ttotal: 1.85s\tremaining: 7.23s\n",
      "102:\tlearn: 503.4682297\ttest: 503.9006968\tbest: 503.9006968 (102)\ttotal: 1.87s\tremaining: 7.21s\n",
      "103:\tlearn: 503.2834552\ttest: 503.6952459\tbest: 503.6952459 (103)\ttotal: 1.89s\tremaining: 7.19s\n",
      "104:\tlearn: 503.1296234\ttest: 503.4936907\tbest: 503.4936907 (104)\ttotal: 1.92s\tremaining: 7.21s\n",
      "105:\tlearn: 503.0434664\ttest: 503.4389315\tbest: 503.4389315 (105)\ttotal: 1.94s\tremaining: 7.23s\n",
      "106:\tlearn: 502.9742532\ttest: 503.3629228\tbest: 503.3629228 (106)\ttotal: 1.97s\tremaining: 7.23s\n",
      "107:\tlearn: 502.8549345\ttest: 503.2668259\tbest: 503.2668259 (107)\ttotal: 1.99s\tremaining: 7.22s\n",
      "108:\tlearn: 502.7431328\ttest: 503.1089735\tbest: 503.1089735 (108)\ttotal: 2.01s\tremaining: 7.2s\n",
      "109:\tlearn: 502.5990496\ttest: 502.9273596\tbest: 502.9273596 (109)\ttotal: 2.02s\tremaining: 7.18s\n",
      "110:\tlearn: 502.4717087\ttest: 502.8033277\tbest: 502.8033277 (110)\ttotal: 2.04s\tremaining: 7.16s\n",
      "111:\tlearn: 502.3156870\ttest: 502.6260161\tbest: 502.6260161 (111)\ttotal: 2.06s\tremaining: 7.13s\n",
      "112:\tlearn: 502.1749167\ttest: 502.4499642\tbest: 502.4499642 (112)\ttotal: 2.08s\tremaining: 7.11s\n",
      "113:\tlearn: 502.0573930\ttest: 502.3561455\tbest: 502.3561455 (113)\ttotal: 2.09s\tremaining: 7.09s\n",
      "114:\tlearn: 501.9536325\ttest: 502.2621174\tbest: 502.2621174 (114)\ttotal: 2.11s\tremaining: 7.07s\n",
      "115:\tlearn: 501.8483133\ttest: 502.1345070\tbest: 502.1345070 (115)\ttotal: 2.13s\tremaining: 7.04s\n",
      "116:\tlearn: 501.7482470\ttest: 502.0421020\tbest: 502.0421020 (116)\ttotal: 2.14s\tremaining: 7.02s\n",
      "117:\tlearn: 501.6739851\ttest: 501.9628934\tbest: 501.9628934 (117)\ttotal: 2.16s\tremaining: 7s\n",
      "118:\tlearn: 501.5745890\ttest: 501.8774382\tbest: 501.8774382 (118)\ttotal: 2.18s\tremaining: 6.97s\n",
      "119:\tlearn: 501.4541039\ttest: 501.7490894\tbest: 501.7490894 (119)\ttotal: 2.19s\tremaining: 6.95s\n",
      "120:\tlearn: 501.2984923\ttest: 501.6068872\tbest: 501.6068872 (120)\ttotal: 2.21s\tremaining: 6.93s\n",
      "121:\tlearn: 501.2222825\ttest: 501.5381851\tbest: 501.5381851 (121)\ttotal: 2.23s\tremaining: 6.91s\n",
      "122:\tlearn: 501.1154410\ttest: 501.4048985\tbest: 501.4048985 (122)\ttotal: 2.25s\tremaining: 6.89s\n",
      "123:\tlearn: 501.0554356\ttest: 501.3297997\tbest: 501.3297997 (123)\ttotal: 2.27s\tremaining: 6.89s\n",
      "124:\tlearn: 500.9094978\ttest: 501.1654791\tbest: 501.1654791 (124)\ttotal: 2.29s\tremaining: 6.87s\n",
      "125:\tlearn: 500.7992089\ttest: 501.0096593\tbest: 501.0096593 (125)\ttotal: 2.31s\tremaining: 6.85s\n",
      "126:\tlearn: 500.6603237\ttest: 500.8835054\tbest: 500.8835054 (126)\ttotal: 2.33s\tremaining: 6.83s\n",
      "127:\tlearn: 500.5952334\ttest: 500.8087349\tbest: 500.8087349 (127)\ttotal: 2.34s\tremaining: 6.8s\n",
      "128:\tlearn: 500.5443710\ttest: 500.7611498\tbest: 500.7611498 (128)\ttotal: 2.36s\tremaining: 6.79s\n",
      "129:\tlearn: 500.4473843\ttest: 500.6648531\tbest: 500.6648531 (129)\ttotal: 2.38s\tremaining: 6.78s\n",
      "130:\tlearn: 500.3432900\ttest: 500.5225570\tbest: 500.5225570 (130)\ttotal: 2.4s\tremaining: 6.75s\n",
      "131:\tlearn: 500.2561818\ttest: 500.4415020\tbest: 500.4415020 (131)\ttotal: 2.42s\tremaining: 6.73s\n",
      "132:\tlearn: 500.1842478\ttest: 500.3474995\tbest: 500.3474995 (132)\ttotal: 2.43s\tremaining: 6.71s\n",
      "133:\tlearn: 500.1287586\ttest: 500.2935311\tbest: 500.2935311 (133)\ttotal: 2.45s\tremaining: 6.69s\n",
      "134:\tlearn: 500.0697705\ttest: 500.2338807\tbest: 500.2338807 (134)\ttotal: 2.47s\tremaining: 6.68s\n",
      "135:\tlearn: 499.9706985\ttest: 500.1372897\tbest: 500.1372897 (135)\ttotal: 2.49s\tremaining: 6.67s\n",
      "136:\tlearn: 499.8462466\ttest: 500.0243945\tbest: 500.0243945 (136)\ttotal: 2.51s\tremaining: 6.65s\n",
      "137:\tlearn: 499.7593521\ttest: 499.9402583\tbest: 499.9402583 (137)\ttotal: 2.53s\tremaining: 6.63s\n",
      "138:\tlearn: 499.6474796\ttest: 499.8391303\tbest: 499.8391303 (138)\ttotal: 2.55s\tremaining: 6.61s\n",
      "139:\tlearn: 499.5565393\ttest: 499.7344656\tbest: 499.7344656 (139)\ttotal: 2.56s\tremaining: 6.59s\n",
      "140:\tlearn: 499.4961106\ttest: 499.6546767\tbest: 499.6546767 (140)\ttotal: 2.58s\tremaining: 6.57s\n",
      "141:\tlearn: 499.4117084\ttest: 499.5729018\tbest: 499.5729018 (141)\ttotal: 2.6s\tremaining: 6.55s\n",
      "142:\tlearn: 499.3501678\ttest: 499.4999086\tbest: 499.4999086 (142)\ttotal: 2.62s\tremaining: 6.53s\n",
      "143:\tlearn: 499.2199161\ttest: 499.3351361\tbest: 499.3351361 (143)\ttotal: 2.63s\tremaining: 6.51s\n",
      "144:\tlearn: 499.1836611\ttest: 499.3115528\tbest: 499.3115528 (144)\ttotal: 2.65s\tremaining: 6.49s\n",
      "145:\tlearn: 498.9527391\ttest: 499.0903227\tbest: 499.0903227 (145)\ttotal: 2.67s\tremaining: 6.48s\n",
      "146:\tlearn: 498.9174097\ttest: 499.0881114\tbest: 499.0881114 (146)\ttotal: 2.69s\tremaining: 6.46s\n",
      "147:\tlearn: 498.8502017\ttest: 499.0240869\tbest: 499.0240869 (147)\ttotal: 2.71s\tremaining: 6.44s\n",
      "148:\tlearn: 498.7846389\ttest: 498.9478137\tbest: 498.9478137 (148)\ttotal: 2.73s\tremaining: 6.42s\n",
      "149:\tlearn: 498.6782206\ttest: 498.8497279\tbest: 498.8497279 (149)\ttotal: 2.74s\tremaining: 6.4s\n",
      "150:\tlearn: 498.6046190\ttest: 498.7749963\tbest: 498.7749963 (150)\ttotal: 2.77s\tremaining: 6.39s\n",
      "151:\tlearn: 498.5684482\ttest: 498.7687878\tbest: 498.7687878 (151)\ttotal: 2.79s\tremaining: 6.39s\n",
      "152:\tlearn: 498.5283843\ttest: 498.7159806\tbest: 498.7159806 (152)\ttotal: 2.81s\tremaining: 6.38s\n",
      "153:\tlearn: 498.4653588\ttest: 498.6609117\tbest: 498.6609117 (153)\ttotal: 2.83s\tremaining: 6.36s\n",
      "154:\tlearn: 498.4059373\ttest: 498.6159797\tbest: 498.6159797 (154)\ttotal: 2.85s\tremaining: 6.34s\n",
      "155:\tlearn: 498.3657743\ttest: 498.5739449\tbest: 498.5739449 (155)\ttotal: 2.87s\tremaining: 6.33s\n",
      "156:\tlearn: 498.3016531\ttest: 498.4926161\tbest: 498.4926161 (156)\ttotal: 2.89s\tremaining: 6.31s\n",
      "157:\tlearn: 498.2125319\ttest: 498.3934518\tbest: 498.3934518 (157)\ttotal: 2.91s\tremaining: 6.29s\n",
      "158:\tlearn: 498.1639429\ttest: 498.3512263\tbest: 498.3512263 (158)\ttotal: 2.92s\tremaining: 6.27s\n",
      "159:\tlearn: 498.0811652\ttest: 498.2865266\tbest: 498.2865266 (159)\ttotal: 2.94s\tremaining: 6.25s\n",
      "160:\tlearn: 498.0222142\ttest: 498.2406146\tbest: 498.2406146 (160)\ttotal: 2.96s\tremaining: 6.23s\n",
      "161:\tlearn: 497.9373040\ttest: 498.1673832\tbest: 498.1673832 (161)\ttotal: 2.98s\tremaining: 6.21s\n",
      "162:\tlearn: 497.8181126\ttest: 498.0400790\tbest: 498.0400790 (162)\ttotal: 3s\tremaining: 6.2s\n",
      "163:\tlearn: 497.7621228\ttest: 497.9915624\tbest: 497.9915624 (163)\ttotal: 3.02s\tremaining: 6.18s\n",
      "164:\tlearn: 497.6962228\ttest: 497.9321741\tbest: 497.9321741 (164)\ttotal: 3.04s\tremaining: 6.17s\n",
      "165:\tlearn: 497.6173941\ttest: 497.8664945\tbest: 497.8664945 (165)\ttotal: 3.05s\tremaining: 6.14s\n",
      "166:\tlearn: 497.5705991\ttest: 497.8343833\tbest: 497.8343833 (166)\ttotal: 3.07s\tremaining: 6.12s\n",
      "167:\tlearn: 497.5276550\ttest: 497.7840815\tbest: 497.7840815 (167)\ttotal: 3.09s\tremaining: 6.1s\n",
      "168:\tlearn: 497.4301662\ttest: 497.7049272\tbest: 497.7049272 (168)\ttotal: 3.1s\tremaining: 6.08s\n",
      "169:\tlearn: 497.3974431\ttest: 497.6911702\tbest: 497.6911702 (169)\ttotal: 3.12s\tremaining: 6.06s\n",
      "170:\tlearn: 497.3591162\ttest: 497.6582725\tbest: 497.6582725 (170)\ttotal: 3.14s\tremaining: 6.04s\n",
      "171:\tlearn: 497.3124693\ttest: 497.6103216\tbest: 497.6103216 (171)\ttotal: 3.16s\tremaining: 6.02s\n",
      "172:\tlearn: 497.2875819\ttest: 497.5775478\tbest: 497.5775478 (172)\ttotal: 3.17s\tremaining: 6s\n",
      "173:\tlearn: 497.2078910\ttest: 497.5143842\tbest: 497.5143842 (173)\ttotal: 3.19s\tremaining: 5.98s\n",
      "174:\tlearn: 497.0376916\ttest: 497.3312659\tbest: 497.3312659 (174)\ttotal: 3.21s\tremaining: 5.96s\n",
      "175:\tlearn: 497.0008246\ttest: 497.3017056\tbest: 497.3017056 (175)\ttotal: 3.23s\tremaining: 5.94s\n",
      "176:\tlearn: 496.9609793\ttest: 497.2661965\tbest: 497.2661965 (176)\ttotal: 3.24s\tremaining: 5.92s\n",
      "177:\tlearn: 496.9227481\ttest: 497.2369556\tbest: 497.2369556 (177)\ttotal: 3.26s\tremaining: 5.9s\n",
      "178:\tlearn: 496.8148957\ttest: 497.1343294\tbest: 497.1343294 (178)\ttotal: 3.28s\tremaining: 5.88s\n",
      "179:\tlearn: 496.7699665\ttest: 497.1109004\tbest: 497.1109004 (179)\ttotal: 3.3s\tremaining: 5.86s\n",
      "180:\tlearn: 496.7507468\ttest: 497.0909622\tbest: 497.0909622 (180)\ttotal: 3.32s\tremaining: 5.86s\n",
      "181:\tlearn: 496.6856404\ttest: 497.0204071\tbest: 497.0204071 (181)\ttotal: 3.34s\tremaining: 5.83s\n",
      "182:\tlearn: 496.6412173\ttest: 496.9987838\tbest: 496.9987838 (182)\ttotal: 3.36s\tremaining: 5.82s\n",
      "183:\tlearn: 496.5714138\ttest: 496.9351586\tbest: 496.9351586 (183)\ttotal: 3.37s\tremaining: 5.79s\n",
      "184:\tlearn: 496.4365047\ttest: 496.8196810\tbest: 496.8196810 (184)\ttotal: 3.39s\tremaining: 5.78s\n",
      "185:\tlearn: 496.3940237\ttest: 496.7965175\tbest: 496.7965175 (185)\ttotal: 3.41s\tremaining: 5.76s\n",
      "186:\tlearn: 496.3385641\ttest: 496.7351745\tbest: 496.7351745 (186)\ttotal: 3.43s\tremaining: 5.74s\n",
      "187:\tlearn: 496.2863155\ttest: 496.7051689\tbest: 496.7051689 (187)\ttotal: 3.45s\tremaining: 5.73s\n",
      "188:\tlearn: 496.2593470\ttest: 496.6813098\tbest: 496.6813098 (188)\ttotal: 3.47s\tremaining: 5.71s\n",
      "189:\tlearn: 496.2162246\ttest: 496.6511498\tbest: 496.6511498 (189)\ttotal: 3.49s\tremaining: 5.69s\n",
      "190:\tlearn: 496.1867687\ttest: 496.6055613\tbest: 496.6055613 (190)\ttotal: 3.51s\tremaining: 5.68s\n",
      "191:\tlearn: 496.1423658\ttest: 496.5522004\tbest: 496.5522004 (191)\ttotal: 3.53s\tremaining: 5.66s\n",
      "192:\tlearn: 496.1038555\ttest: 496.5003012\tbest: 496.5003012 (192)\ttotal: 3.54s\tremaining: 5.64s\n",
      "193:\tlearn: 496.0436110\ttest: 496.4524111\tbest: 496.4524111 (193)\ttotal: 3.56s\tremaining: 5.62s\n",
      "194:\tlearn: 496.0109477\ttest: 496.4349718\tbest: 496.4349718 (194)\ttotal: 3.58s\tremaining: 5.6s\n",
      "195:\tlearn: 495.9375121\ttest: 496.3846577\tbest: 496.3846577 (195)\ttotal: 3.6s\tremaining: 5.58s\n",
      "196:\tlearn: 495.9128150\ttest: 496.3539833\tbest: 496.3539833 (196)\ttotal: 3.62s\tremaining: 5.56s\n",
      "197:\tlearn: 495.8238912\ttest: 496.2246376\tbest: 496.2246376 (197)\ttotal: 3.63s\tremaining: 5.54s\n",
      "198:\tlearn: 495.8022575\ttest: 496.2155902\tbest: 496.2155902 (198)\ttotal: 3.65s\tremaining: 5.52s\n",
      "199:\tlearn: 495.7654499\ttest: 496.1910813\tbest: 496.1910813 (199)\ttotal: 3.67s\tremaining: 5.5s\n",
      "200:\tlearn: 495.7220468\ttest: 496.1330973\tbest: 496.1330973 (200)\ttotal: 3.69s\tremaining: 5.48s\n",
      "201:\tlearn: 495.6950260\ttest: 496.1118024\tbest: 496.1118024 (201)\ttotal: 3.7s\tremaining: 5.46s\n",
      "202:\tlearn: 495.6664255\ttest: 496.0802903\tbest: 496.0802903 (202)\ttotal: 3.72s\tremaining: 5.44s\n",
      "203:\tlearn: 495.5503207\ttest: 495.9754589\tbest: 495.9754589 (203)\ttotal: 3.74s\tremaining: 5.43s\n",
      "204:\tlearn: 495.5072231\ttest: 495.9397899\tbest: 495.9397899 (204)\ttotal: 3.76s\tremaining: 5.41s\n",
      "205:\tlearn: 495.4783307\ttest: 495.9309317\tbest: 495.9309317 (205)\ttotal: 3.78s\tremaining: 5.39s\n",
      "206:\tlearn: 495.4198054\ttest: 495.8782113\tbest: 495.8782113 (206)\ttotal: 3.81s\tremaining: 5.39s\n",
      "207:\tlearn: 495.2940154\ttest: 495.7367026\tbest: 495.7367026 (207)\ttotal: 3.82s\tremaining: 5.37s\n",
      "208:\tlearn: 495.2562180\ttest: 495.7083657\tbest: 495.7083657 (208)\ttotal: 3.84s\tremaining: 5.35s\n",
      "209:\tlearn: 495.2505709\ttest: 495.7090358\tbest: 495.7083657 (208)\ttotal: 3.87s\tremaining: 5.34s\n",
      "210:\tlearn: 495.2340835\ttest: 495.6940778\tbest: 495.6940778 (210)\ttotal: 3.89s\tremaining: 5.33s\n",
      "211:\tlearn: 495.2268566\ttest: 495.6894520\tbest: 495.6894520 (211)\ttotal: 3.91s\tremaining: 5.31s\n",
      "212:\tlearn: 495.1804849\ttest: 495.6413322\tbest: 495.6413322 (212)\ttotal: 3.92s\tremaining: 5.29s\n",
      "213:\tlearn: 495.1501884\ttest: 495.6078877\tbest: 495.6078877 (213)\ttotal: 3.94s\tremaining: 5.27s\n",
      "214:\tlearn: 495.0872306\ttest: 495.5633059\tbest: 495.5633059 (214)\ttotal: 3.96s\tremaining: 5.25s\n",
      "215:\tlearn: 495.0708460\ttest: 495.5391323\tbest: 495.5391323 (215)\ttotal: 3.97s\tremaining: 5.23s\n",
      "216:\tlearn: 495.0190913\ttest: 495.4999072\tbest: 495.4999072 (216)\ttotal: 3.99s\tremaining: 5.21s\n",
      "217:\tlearn: 495.0148053\ttest: 495.4871054\tbest: 495.4871054 (217)\ttotal: 4.03s\tremaining: 5.21s\n",
      "218:\tlearn: 494.9731332\ttest: 495.4568512\tbest: 495.4568512 (218)\ttotal: 4.05s\tremaining: 5.2s\n",
      "219:\tlearn: 494.9349866\ttest: 495.4085357\tbest: 495.4085357 (219)\ttotal: 4.07s\tremaining: 5.17s\n",
      "220:\tlearn: 494.9082043\ttest: 495.3957316\tbest: 495.3957316 (220)\ttotal: 4.08s\tremaining: 5.15s\n",
      "221:\tlearn: 494.8576019\ttest: 495.3542888\tbest: 495.3542888 (221)\ttotal: 4.09s\tremaining: 5.13s\n",
      "222:\tlearn: 494.7975522\ttest: 495.2907336\tbest: 495.2907336 (222)\ttotal: 4.11s\tremaining: 5.11s\n",
      "223:\tlearn: 494.7488444\ttest: 495.2449333\tbest: 495.2449333 (223)\ttotal: 4.13s\tremaining: 5.09s\n",
      "224:\tlearn: 494.7265139\ttest: 495.2307835\tbest: 495.2307835 (224)\ttotal: 4.14s\tremaining: 5.07s\n",
      "225:\tlearn: 494.7100091\ttest: 495.2064638\tbest: 495.2064638 (225)\ttotal: 4.16s\tremaining: 5.05s\n",
      "226:\tlearn: 494.6936120\ttest: 495.1830518\tbest: 495.1830518 (226)\ttotal: 4.18s\tremaining: 5.03s\n",
      "227:\tlearn: 494.6383084\ttest: 495.1417211\tbest: 495.1417211 (227)\ttotal: 4.2s\tremaining: 5.01s\n",
      "228:\tlearn: 494.5753071\ttest: 495.0690918\tbest: 495.0690918 (228)\ttotal: 4.21s\tremaining: 4.99s\n",
      "229:\tlearn: 494.5604656\ttest: 495.0478161\tbest: 495.0478161 (229)\ttotal: 4.23s\tremaining: 4.97s\n",
      "230:\tlearn: 494.5311062\ttest: 495.0234875\tbest: 495.0234875 (230)\ttotal: 4.25s\tremaining: 4.95s\n",
      "231:\tlearn: 494.4871613\ttest: 494.9818403\tbest: 494.9818403 (231)\ttotal: 4.27s\tremaining: 4.93s\n",
      "232:\tlearn: 494.4504942\ttest: 494.9464029\tbest: 494.9464029 (232)\ttotal: 4.29s\tremaining: 4.91s\n",
      "233:\tlearn: 494.4148647\ttest: 494.8982758\tbest: 494.8982758 (233)\ttotal: 4.3s\tremaining: 4.89s\n",
      "234:\tlearn: 494.4014272\ttest: 494.8785083\tbest: 494.8785083 (234)\ttotal: 4.32s\tremaining: 4.87s\n",
      "235:\tlearn: 494.3775854\ttest: 494.8546910\tbest: 494.8546910 (235)\ttotal: 4.33s\tremaining: 4.85s\n",
      "236:\tlearn: 494.3651439\ttest: 494.8363943\tbest: 494.8363943 (236)\ttotal: 4.35s\tremaining: 4.83s\n",
      "237:\tlearn: 494.3028883\ttest: 494.7921111\tbest: 494.7921111 (237)\ttotal: 4.37s\tremaining: 4.81s\n",
      "238:\tlearn: 494.2585112\ttest: 494.7566817\tbest: 494.7566817 (238)\ttotal: 4.39s\tremaining: 4.79s\n",
      "239:\tlearn: 494.2327546\ttest: 494.7276607\tbest: 494.7276607 (239)\ttotal: 4.4s\tremaining: 4.77s\n",
      "240:\tlearn: 494.2226077\ttest: 494.7259497\tbest: 494.7259497 (240)\ttotal: 4.42s\tremaining: 4.75s\n",
      "241:\tlearn: 494.1841863\ttest: 494.6924866\tbest: 494.6924866 (241)\ttotal: 4.44s\tremaining: 4.73s\n",
      "242:\tlearn: 494.1585776\ttest: 494.6802487\tbest: 494.6802487 (242)\ttotal: 4.46s\tremaining: 4.72s\n",
      "243:\tlearn: 494.1321436\ttest: 494.6467392\tbest: 494.6467392 (243)\ttotal: 4.48s\tremaining: 4.7s\n",
      "244:\tlearn: 494.0774061\ttest: 494.5825515\tbest: 494.5825515 (244)\ttotal: 4.49s\tremaining: 4.68s\n",
      "245:\tlearn: 494.0395157\ttest: 494.5254189\tbest: 494.5254189 (245)\ttotal: 4.51s\tremaining: 4.66s\n",
      "246:\tlearn: 494.0223155\ttest: 494.5136536\tbest: 494.5136536 (246)\ttotal: 4.53s\tremaining: 4.64s\n",
      "247:\tlearn: 494.0166325\ttest: 494.5112268\tbest: 494.5112268 (247)\ttotal: 4.54s\tremaining: 4.62s\n",
      "248:\tlearn: 493.9884122\ttest: 494.4889953\tbest: 494.4889953 (248)\ttotal: 4.56s\tremaining: 4.6s\n",
      "249:\tlearn: 493.9653097\ttest: 494.4784859\tbest: 494.4784859 (249)\ttotal: 4.58s\tremaining: 4.58s\n",
      "250:\tlearn: 493.9231369\ttest: 494.4361428\tbest: 494.4361428 (250)\ttotal: 4.6s\tremaining: 4.56s\n",
      "251:\tlearn: 493.8748202\ttest: 494.3789716\tbest: 494.3789716 (251)\ttotal: 4.61s\tremaining: 4.54s\n",
      "252:\tlearn: 493.8483710\ttest: 494.3677230\tbest: 494.3677230 (252)\ttotal: 4.63s\tremaining: 4.52s\n",
      "253:\tlearn: 493.8454417\ttest: 494.3677446\tbest: 494.3677230 (252)\ttotal: 4.65s\tremaining: 4.5s\n",
      "254:\tlearn: 493.7829036\ttest: 494.3160496\tbest: 494.3160496 (254)\ttotal: 4.66s\tremaining: 4.48s\n",
      "255:\tlearn: 493.7476383\ttest: 494.2822337\tbest: 494.2822337 (255)\ttotal: 4.68s\tremaining: 4.46s\n",
      "256:\tlearn: 493.7377852\ttest: 494.2857454\tbest: 494.2822337 (255)\ttotal: 4.7s\tremaining: 4.44s\n",
      "257:\tlearn: 493.7060111\ttest: 494.2761855\tbest: 494.2761855 (257)\ttotal: 4.71s\tremaining: 4.42s\n",
      "258:\tlearn: 493.7016919\ttest: 494.2746247\tbest: 494.2746247 (258)\ttotal: 4.73s\tremaining: 4.41s\n",
      "259:\tlearn: 493.6581508\ttest: 494.2181286\tbest: 494.2181286 (259)\ttotal: 4.75s\tremaining: 4.39s\n",
      "260:\tlearn: 493.6227463\ttest: 494.1909623\tbest: 494.1909623 (260)\ttotal: 4.77s\tremaining: 4.37s\n",
      "261:\tlearn: 493.5925496\ttest: 494.1701691\tbest: 494.1701691 (261)\ttotal: 4.79s\tremaining: 4.35s\n",
      "262:\tlearn: 493.5562720\ttest: 494.1461442\tbest: 494.1461442 (262)\ttotal: 4.8s\tremaining: 4.33s\n",
      "263:\tlearn: 493.5262232\ttest: 494.1151357\tbest: 494.1151357 (263)\ttotal: 4.82s\tremaining: 4.31s\n",
      "264:\tlearn: 493.5022523\ttest: 494.1049653\tbest: 494.1049653 (264)\ttotal: 4.84s\tremaining: 4.29s\n",
      "265:\tlearn: 493.4804516\ttest: 494.0861853\tbest: 494.0861853 (265)\ttotal: 4.87s\tremaining: 4.28s\n",
      "266:\tlearn: 493.4396489\ttest: 494.0512042\tbest: 494.0512042 (266)\ttotal: 4.88s\tremaining: 4.26s\n",
      "267:\tlearn: 493.4334381\ttest: 494.0523536\tbest: 494.0512042 (266)\ttotal: 4.9s\tremaining: 4.24s\n",
      "268:\tlearn: 493.4276832\ttest: 494.0516379\tbest: 494.0512042 (266)\ttotal: 4.92s\tremaining: 4.22s\n",
      "269:\tlearn: 493.3981261\ttest: 494.0234864\tbest: 494.0234864 (269)\ttotal: 4.93s\tremaining: 4.2s\n",
      "270:\tlearn: 493.3631373\ttest: 493.9765925\tbest: 493.9765925 (270)\ttotal: 4.95s\tremaining: 4.18s\n",
      "271:\tlearn: 493.3482376\ttest: 493.9790436\tbest: 493.9765925 (270)\ttotal: 4.97s\tremaining: 4.17s\n",
      "272:\tlearn: 493.3446972\ttest: 493.9781976\tbest: 493.9765925 (270)\ttotal: 4.99s\tremaining: 4.15s\n",
      "273:\tlearn: 493.3390499\ttest: 493.9797377\tbest: 493.9765925 (270)\ttotal: 5s\tremaining: 4.13s\n",
      "274:\tlearn: 493.3338587\ttest: 493.9813428\tbest: 493.9765925 (270)\ttotal: 5.02s\tremaining: 4.11s\n",
      "275:\tlearn: 493.3017327\ttest: 493.9416903\tbest: 493.9416903 (275)\ttotal: 5.04s\tremaining: 4.09s\n",
      "276:\tlearn: 493.2570266\ttest: 493.9001689\tbest: 493.9001689 (276)\ttotal: 5.06s\tremaining: 4.07s\n",
      "277:\tlearn: 493.2072759\ttest: 493.8372294\tbest: 493.8372294 (277)\ttotal: 5.07s\tremaining: 4.05s\n",
      "278:\tlearn: 493.2009318\ttest: 493.8350596\tbest: 493.8350596 (278)\ttotal: 5.09s\tremaining: 4.04s\n",
      "279:\tlearn: 493.1719912\ttest: 493.7920754\tbest: 493.7920754 (279)\ttotal: 5.11s\tremaining: 4.02s\n",
      "280:\tlearn: 493.1465473\ttest: 493.8074382\tbest: 493.7920754 (279)\ttotal: 5.13s\tremaining: 4s\n",
      "281:\tlearn: 493.1175383\ttest: 493.7880177\tbest: 493.7880177 (281)\ttotal: 5.14s\tremaining: 3.98s\n",
      "282:\tlearn: 493.0859850\ttest: 493.7606757\tbest: 493.7606757 (282)\ttotal: 5.16s\tremaining: 3.96s\n",
      "283:\tlearn: 493.0588849\ttest: 493.7267566\tbest: 493.7267566 (283)\ttotal: 5.18s\tremaining: 3.94s\n",
      "284:\tlearn: 493.0551034\ttest: 493.7260838\tbest: 493.7260838 (284)\ttotal: 5.2s\tremaining: 3.92s\n",
      "285:\tlearn: 493.0281755\ttest: 493.6981307\tbest: 493.6981307 (285)\ttotal: 5.22s\tremaining: 3.9s\n",
      "286:\tlearn: 493.0076363\ttest: 493.6823522\tbest: 493.6823522 (286)\ttotal: 5.23s\tremaining: 3.88s\n",
      "287:\tlearn: 492.9788365\ttest: 493.6621019\tbest: 493.6621019 (287)\ttotal: 5.26s\tremaining: 3.87s\n",
      "288:\tlearn: 492.9546868\ttest: 493.6246379\tbest: 493.6246379 (288)\ttotal: 5.28s\tremaining: 3.85s\n",
      "289:\tlearn: 492.9278621\ttest: 493.6022579\tbest: 493.6022579 (289)\ttotal: 5.29s\tremaining: 3.83s\n",
      "290:\tlearn: 492.9121448\ttest: 493.5896891\tbest: 493.5896891 (290)\ttotal: 5.31s\tremaining: 3.81s\n",
      "291:\tlearn: 492.8676860\ttest: 493.5602955\tbest: 493.5602955 (291)\ttotal: 5.33s\tremaining: 3.8s\n",
      "292:\tlearn: 492.8377909\ttest: 493.5317034\tbest: 493.5317034 (292)\ttotal: 5.35s\tremaining: 3.78s\n",
      "293:\tlearn: 492.8121557\ttest: 493.5139221\tbest: 493.5139221 (293)\ttotal: 5.37s\tremaining: 3.76s\n",
      "294:\tlearn: 492.7725154\ttest: 493.4785746\tbest: 493.4785746 (294)\ttotal: 5.38s\tremaining: 3.74s\n",
      "295:\tlearn: 492.7492690\ttest: 493.4626371\tbest: 493.4626371 (295)\ttotal: 5.4s\tremaining: 3.72s\n",
      "296:\tlearn: 492.7349378\ttest: 493.4589457\tbest: 493.4589457 (296)\ttotal: 5.42s\tremaining: 3.7s\n",
      "297:\tlearn: 492.7086231\ttest: 493.4393812\tbest: 493.4393812 (297)\ttotal: 5.44s\tremaining: 3.69s\n",
      "298:\tlearn: 492.6953130\ttest: 493.4361891\tbest: 493.4361891 (298)\ttotal: 5.45s\tremaining: 3.67s\n",
      "299:\tlearn: 492.6833510\ttest: 493.4347994\tbest: 493.4347994 (299)\ttotal: 5.47s\tremaining: 3.65s\n",
      "300:\tlearn: 492.6709320\ttest: 493.4372314\tbest: 493.4347994 (299)\ttotal: 5.49s\tremaining: 3.63s\n",
      "301:\tlearn: 492.6471370\ttest: 493.4127148\tbest: 493.4127148 (301)\ttotal: 5.51s\tremaining: 3.61s\n",
      "302:\tlearn: 492.6164889\ttest: 493.4062217\tbest: 493.4062217 (302)\ttotal: 5.53s\tremaining: 3.59s\n",
      "303:\tlearn: 492.5947796\ttest: 493.3855258\tbest: 493.3855258 (303)\ttotal: 5.54s\tremaining: 3.57s\n",
      "304:\tlearn: 492.5748532\ttest: 493.3531446\tbest: 493.3531446 (304)\ttotal: 5.56s\tremaining: 3.56s\n",
      "305:\tlearn: 492.4958139\ttest: 493.2705206\tbest: 493.2705206 (305)\ttotal: 5.58s\tremaining: 3.54s\n",
      "306:\tlearn: 492.4548426\ttest: 493.2276827\tbest: 493.2276827 (306)\ttotal: 5.6s\tremaining: 3.52s\n",
      "307:\tlearn: 492.4465304\ttest: 493.2284865\tbest: 493.2276827 (306)\ttotal: 5.62s\tremaining: 3.5s\n",
      "308:\tlearn: 492.4354327\ttest: 493.2273134\tbest: 493.2273134 (308)\ttotal: 5.64s\tremaining: 3.48s\n",
      "309:\tlearn: 492.4036834\ttest: 493.2136270\tbest: 493.2136270 (309)\ttotal: 5.66s\tremaining: 3.47s\n",
      "310:\tlearn: 492.3892116\ttest: 493.2134532\tbest: 493.2134532 (310)\ttotal: 5.67s\tremaining: 3.45s\n",
      "311:\tlearn: 492.3798972\ttest: 493.2058713\tbest: 493.2058713 (311)\ttotal: 5.69s\tremaining: 3.43s\n",
      "312:\tlearn: 492.3637925\ttest: 493.2199706\tbest: 493.2058713 (311)\ttotal: 5.71s\tremaining: 3.41s\n",
      "313:\tlearn: 492.3543253\ttest: 493.2079786\tbest: 493.2058713 (311)\ttotal: 5.73s\tremaining: 3.39s\n",
      "314:\tlearn: 492.3179347\ttest: 493.1729786\tbest: 493.1729786 (314)\ttotal: 5.75s\tremaining: 3.38s\n",
      "315:\tlearn: 492.3093372\ttest: 493.1619197\tbest: 493.1619197 (315)\ttotal: 5.77s\tremaining: 3.36s\n",
      "316:\tlearn: 492.2735528\ttest: 493.1317401\tbest: 493.1317401 (316)\ttotal: 5.79s\tremaining: 3.34s\n",
      "317:\tlearn: 492.1994943\ttest: 493.0247387\tbest: 493.0247387 (317)\ttotal: 5.81s\tremaining: 3.33s\n",
      "318:\tlearn: 492.1722583\ttest: 492.9984411\tbest: 492.9984411 (318)\ttotal: 5.83s\tremaining: 3.31s\n",
      "319:\tlearn: 492.1648993\ttest: 492.9890519\tbest: 492.9890519 (319)\ttotal: 5.86s\tremaining: 3.29s\n",
      "320:\tlearn: 492.1453474\ttest: 492.9704250\tbest: 492.9704250 (320)\ttotal: 5.87s\tremaining: 3.27s\n",
      "321:\tlearn: 492.1133834\ttest: 492.9441463\tbest: 492.9441463 (321)\ttotal: 5.89s\tremaining: 3.26s\n",
      "322:\tlearn: 492.0458340\ttest: 492.8735193\tbest: 492.8735193 (322)\ttotal: 5.91s\tremaining: 3.24s\n",
      "323:\tlearn: 491.9845917\ttest: 492.8416480\tbest: 492.8416480 (323)\ttotal: 5.93s\tremaining: 3.22s\n",
      "324:\tlearn: 491.9556231\ttest: 492.8073830\tbest: 492.8073830 (324)\ttotal: 5.94s\tremaining: 3.2s\n",
      "325:\tlearn: 491.9321856\ttest: 492.7968812\tbest: 492.7968812 (325)\ttotal: 5.96s\tremaining: 3.18s\n",
      "326:\tlearn: 491.8998592\ttest: 492.7567637\tbest: 492.7567637 (326)\ttotal: 5.97s\tremaining: 3.16s\n",
      "327:\tlearn: 491.8890760\ttest: 492.7555678\tbest: 492.7555678 (327)\ttotal: 5.99s\tremaining: 3.14s\n",
      "328:\tlearn: 491.8416270\ttest: 492.7134245\tbest: 492.7134245 (328)\ttotal: 6.01s\tremaining: 3.12s\n",
      "329:\tlearn: 491.8288164\ttest: 492.7139247\tbest: 492.7134245 (328)\ttotal: 6.03s\tremaining: 3.1s\n",
      "330:\tlearn: 491.8185981\ttest: 492.7129678\tbest: 492.7129678 (330)\ttotal: 6.04s\tremaining: 3.09s\n",
      "331:\tlearn: 491.8056561\ttest: 492.7028990\tbest: 492.7028990 (331)\ttotal: 6.07s\tremaining: 3.07s\n",
      "332:\tlearn: 491.7756310\ttest: 492.6825867\tbest: 492.6825867 (332)\ttotal: 6.08s\tremaining: 3.05s\n",
      "333:\tlearn: 491.7639299\ttest: 492.6835871\tbest: 492.6825867 (332)\ttotal: 6.1s\tremaining: 3.03s\n",
      "334:\tlearn: 491.7384567\ttest: 492.6686025\tbest: 492.6686025 (334)\ttotal: 6.12s\tremaining: 3.01s\n",
      "335:\tlearn: 491.7138756\ttest: 492.6447219\tbest: 492.6447219 (335)\ttotal: 6.14s\tremaining: 3s\n",
      "336:\tlearn: 491.7041780\ttest: 492.6438737\tbest: 492.6438737 (336)\ttotal: 6.16s\tremaining: 2.98s\n",
      "337:\tlearn: 491.6815784\ttest: 492.6225585\tbest: 492.6225585 (337)\ttotal: 6.17s\tremaining: 2.96s\n",
      "338:\tlearn: 491.6435034\ttest: 492.6015251\tbest: 492.6015251 (338)\ttotal: 6.19s\tremaining: 2.94s\n",
      "339:\tlearn: 491.6199856\ttest: 492.5912582\tbest: 492.5912582 (339)\ttotal: 6.21s\tremaining: 2.92s\n",
      "340:\tlearn: 491.5918674\ttest: 492.5642849\tbest: 492.5642849 (340)\ttotal: 6.23s\tremaining: 2.9s\n",
      "341:\tlearn: 491.5399208\ttest: 492.5303486\tbest: 492.5303486 (341)\ttotal: 6.25s\tremaining: 2.89s\n",
      "342:\tlearn: 491.5343618\ttest: 492.5281296\tbest: 492.5281296 (342)\ttotal: 6.27s\tremaining: 2.87s\n",
      "343:\tlearn: 491.5186000\ttest: 492.5164689\tbest: 492.5164689 (343)\ttotal: 6.29s\tremaining: 2.85s\n",
      "344:\tlearn: 491.4974963\ttest: 492.5071357\tbest: 492.5071357 (344)\ttotal: 6.3s\tremaining: 2.83s\n",
      "345:\tlearn: 491.4884266\ttest: 492.5063525\tbest: 492.5063525 (345)\ttotal: 6.32s\tremaining: 2.81s\n",
      "346:\tlearn: 491.4749526\ttest: 492.4813762\tbest: 492.4813762 (346)\ttotal: 6.34s\tremaining: 2.8s\n",
      "347:\tlearn: 491.4552206\ttest: 492.4605761\tbest: 492.4605761 (347)\ttotal: 6.37s\tremaining: 2.78s\n",
      "348:\tlearn: 491.4527568\ttest: 492.4676474\tbest: 492.4605761 (347)\ttotal: 6.39s\tremaining: 2.76s\n",
      "349:\tlearn: 491.4223613\ttest: 492.4497189\tbest: 492.4497189 (349)\ttotal: 6.41s\tremaining: 2.75s\n",
      "350:\tlearn: 491.3901104\ttest: 492.4098125\tbest: 492.4098125 (350)\ttotal: 6.43s\tremaining: 2.73s\n",
      "351:\tlearn: 491.3798612\ttest: 492.4113792\tbest: 492.4098125 (350)\ttotal: 6.45s\tremaining: 2.71s\n",
      "352:\tlearn: 491.3712909\ttest: 492.4109005\tbest: 492.4098125 (350)\ttotal: 6.47s\tremaining: 2.69s\n",
      "353:\tlearn: 491.3658390\ttest: 492.4045900\tbest: 492.4045900 (353)\ttotal: 6.49s\tremaining: 2.67s\n",
      "354:\tlearn: 491.3609105\ttest: 492.3987582\tbest: 492.3987582 (354)\ttotal: 6.51s\tremaining: 2.66s\n",
      "355:\tlearn: 491.3563526\ttest: 492.3934704\tbest: 492.3934704 (355)\ttotal: 6.53s\tremaining: 2.64s\n",
      "356:\tlearn: 491.3377281\ttest: 492.3850271\tbest: 492.3850271 (356)\ttotal: 6.54s\tremaining: 2.62s\n",
      "357:\tlearn: 491.2962021\ttest: 492.3378683\tbest: 492.3378683 (357)\ttotal: 6.56s\tremaining: 2.6s\n",
      "358:\tlearn: 491.2700285\ttest: 492.3166704\tbest: 492.3166704 (358)\ttotal: 6.58s\tremaining: 2.58s\n",
      "359:\tlearn: 491.2493940\ttest: 492.3243967\tbest: 492.3166704 (358)\ttotal: 6.59s\tremaining: 2.56s\n",
      "360:\tlearn: 491.2404724\ttest: 492.3222203\tbest: 492.3166704 (358)\ttotal: 6.61s\tremaining: 2.54s\n",
      "361:\tlearn: 491.2327941\ttest: 492.3220027\tbest: 492.3166704 (358)\ttotal: 6.63s\tremaining: 2.53s\n",
      "362:\tlearn: 491.2146012\ttest: 492.3139934\tbest: 492.3139934 (362)\ttotal: 6.64s\tremaining: 2.51s\n",
      "363:\tlearn: 491.1925027\ttest: 492.2826083\tbest: 492.2826083 (363)\ttotal: 6.66s\tremaining: 2.49s\n",
      "364:\tlearn: 491.1843437\ttest: 492.2805841\tbest: 492.2805841 (364)\ttotal: 6.68s\tremaining: 2.47s\n",
      "365:\tlearn: 491.1802205\ttest: 492.2757085\tbest: 492.2757085 (365)\ttotal: 6.7s\tremaining: 2.45s\n",
      "366:\tlearn: 491.1637055\ttest: 492.2602761\tbest: 492.2602761 (366)\ttotal: 6.72s\tremaining: 2.43s\n",
      "367:\tlearn: 491.1034224\ttest: 492.1697619\tbest: 492.1697619 (367)\ttotal: 6.74s\tremaining: 2.42s\n",
      "368:\tlearn: 491.0943236\ttest: 492.1717212\tbest: 492.1697619 (367)\ttotal: 6.76s\tremaining: 2.4s\n",
      "369:\tlearn: 491.0736163\ttest: 492.1515612\tbest: 492.1515612 (369)\ttotal: 6.78s\tremaining: 2.38s\n",
      "370:\tlearn: 491.0341411\ttest: 492.1246727\tbest: 492.1246727 (370)\ttotal: 6.8s\tremaining: 2.37s\n",
      "371:\tlearn: 490.9693460\ttest: 492.0840214\tbest: 492.0840214 (371)\ttotal: 6.83s\tremaining: 2.35s\n",
      "372:\tlearn: 490.9646317\ttest: 492.0860682\tbest: 492.0840214 (371)\ttotal: 6.85s\tremaining: 2.33s\n",
      "373:\tlearn: 490.9363669\ttest: 492.0658393\tbest: 492.0658393 (373)\ttotal: 6.87s\tremaining: 2.31s\n",
      "374:\tlearn: 490.9266539\ttest: 492.0685177\tbest: 492.0658393 (373)\ttotal: 6.88s\tremaining: 2.29s\n",
      "375:\tlearn: 490.9243402\ttest: 492.0752897\tbest: 492.0658393 (373)\ttotal: 6.92s\tremaining: 2.28s\n",
      "376:\tlearn: 490.9105451\ttest: 492.0670152\tbest: 492.0658393 (373)\ttotal: 6.94s\tremaining: 2.26s\n",
      "377:\tlearn: 490.8951998\ttest: 492.0587623\tbest: 492.0587623 (377)\ttotal: 6.95s\tremaining: 2.24s\n",
      "378:\tlearn: 490.8879745\ttest: 492.0584357\tbest: 492.0584357 (378)\ttotal: 6.97s\tremaining: 2.23s\n",
      "379:\tlearn: 490.8777367\ttest: 492.0527304\tbest: 492.0527304 (379)\ttotal: 6.99s\tremaining: 2.21s\n",
      "380:\tlearn: 490.8739602\ttest: 492.0481575\tbest: 492.0481575 (380)\ttotal: 7s\tremaining: 2.19s\n",
      "381:\tlearn: 490.8580025\ttest: 492.0419077\tbest: 492.0419077 (381)\ttotal: 7.02s\tremaining: 2.17s\n",
      "382:\tlearn: 490.8345126\ttest: 492.0275133\tbest: 492.0275133 (382)\ttotal: 7.04s\tremaining: 2.15s\n",
      "383:\tlearn: 490.8319365\ttest: 492.0251178\tbest: 492.0251178 (383)\ttotal: 7.06s\tremaining: 2.13s\n",
      "384:\tlearn: 490.8296442\ttest: 492.0229837\tbest: 492.0229837 (384)\ttotal: 7.07s\tremaining: 2.11s\n",
      "385:\tlearn: 490.8275920\ttest: 492.0210237\tbest: 492.0210237 (385)\ttotal: 7.09s\tremaining: 2.09s\n",
      "386:\tlearn: 490.8158901\ttest: 492.0095905\tbest: 492.0095905 (386)\ttotal: 7.11s\tremaining: 2.08s\n",
      "387:\tlearn: 490.8124843\ttest: 492.0054309\tbest: 492.0054309 (387)\ttotal: 7.13s\tremaining: 2.06s\n",
      "388:\tlearn: 490.8019610\ttest: 491.9950863\tbest: 491.9950863 (388)\ttotal: 7.15s\tremaining: 2.04s\n",
      "389:\tlearn: 490.8013060\ttest: 491.9944329\tbest: 491.9944329 (389)\ttotal: 7.17s\tremaining: 2.02s\n",
      "390:\tlearn: 490.7846692\ttest: 491.9872895\tbest: 491.9872895 (390)\ttotal: 7.19s\tremaining: 2s\n",
      "391:\tlearn: 490.7727043\ttest: 491.9998122\tbest: 491.9872895 (390)\ttotal: 7.2s\tremaining: 1.98s\n",
      "392:\tlearn: 490.7692545\ttest: 491.9984837\tbest: 491.9872895 (390)\ttotal: 7.22s\tremaining: 1.97s\n",
      "393:\tlearn: 490.7662414\ttest: 491.9946071\tbest: 491.9872895 (390)\ttotal: 7.24s\tremaining: 1.95s\n",
      "394:\tlearn: 490.7638614\ttest: 491.9944111\tbest: 491.9872895 (390)\ttotal: 7.26s\tremaining: 1.93s\n",
      "395:\tlearn: 490.7474853\ttest: 491.9877469\tbest: 491.9872895 (390)\ttotal: 7.28s\tremaining: 1.91s\n",
      "396:\tlearn: 490.7341002\ttest: 491.9626135\tbest: 491.9626135 (396)\ttotal: 7.29s\tremaining: 1.89s\n",
      "397:\tlearn: 490.7215881\ttest: 491.9549687\tbest: 491.9549687 (397)\ttotal: 7.31s\tremaining: 1.87s\n",
      "398:\tlearn: 490.7124168\ttest: 491.9457556\tbest: 491.9457556 (398)\ttotal: 7.33s\tremaining: 1.85s\n",
      "399:\tlearn: 490.7022626\ttest: 491.9383066\tbest: 491.9383066 (399)\ttotal: 7.35s\tremaining: 1.84s\n",
      "400:\tlearn: 490.6535632\ttest: 491.8809976\tbest: 491.8809976 (400)\ttotal: 7.37s\tremaining: 1.82s\n",
      "401:\tlearn: 490.6505931\ttest: 491.8799302\tbest: 491.8799302 (401)\ttotal: 7.39s\tremaining: 1.8s\n",
      "402:\tlearn: 490.6479068\ttest: 491.8789935\tbest: 491.8789935 (402)\ttotal: 7.41s\tremaining: 1.78s\n",
      "403:\tlearn: 490.6384065\ttest: 491.8737872\tbest: 491.8737872 (403)\ttotal: 7.42s\tremaining: 1.76s\n",
      "404:\tlearn: 490.6247344\ttest: 491.8691037\tbest: 491.8691037 (404)\ttotal: 7.44s\tremaining: 1.75s\n",
      "405:\tlearn: 490.6221136\ttest: 491.8657053\tbest: 491.8657053 (405)\ttotal: 7.46s\tremaining: 1.73s\n",
      "406:\tlearn: 490.6073053\ttest: 491.8594750\tbest: 491.8594750 (406)\ttotal: 7.47s\tremaining: 1.71s\n",
      "407:\tlearn: 490.6049464\ttest: 491.8563163\tbest: 491.8563163 (407)\ttotal: 7.49s\tremaining: 1.69s\n",
      "408:\tlearn: 490.5836505\ttest: 491.8435503\tbest: 491.8435503 (408)\ttotal: 7.51s\tremaining: 1.67s\n",
      "409:\tlearn: 490.5815318\ttest: 491.8434414\tbest: 491.8434414 (409)\ttotal: 7.53s\tremaining: 1.65s\n",
      "410:\tlearn: 490.5765953\ttest: 491.8469052\tbest: 491.8434414 (409)\ttotal: 7.55s\tremaining: 1.64s\n",
      "411:\tlearn: 490.5750882\ttest: 491.8467963\tbest: 491.8434414 (409)\ttotal: 7.57s\tremaining: 1.62s\n",
      "412:\tlearn: 490.5638171\ttest: 491.8389537\tbest: 491.8389537 (412)\ttotal: 7.59s\tremaining: 1.6s\n",
      "413:\tlearn: 490.5427815\ttest: 491.8100219\tbest: 491.8100219 (413)\ttotal: 7.6s\tremaining: 1.58s\n",
      "414:\tlearn: 490.5220290\ttest: 491.7888448\tbest: 491.7888448 (414)\ttotal: 7.62s\tremaining: 1.56s\n",
      "415:\tlearn: 490.5047491\ttest: 491.7642024\tbest: 491.7642024 (415)\ttotal: 7.63s\tremaining: 1.54s\n",
      "416:\tlearn: 490.5018436\ttest: 491.7618057\tbest: 491.7618057 (416)\ttotal: 7.65s\tremaining: 1.52s\n",
      "417:\tlearn: 490.4844538\ttest: 491.7442218\tbest: 491.7442218 (417)\ttotal: 7.67s\tremaining: 1.5s\n",
      "418:\tlearn: 490.4700347\ttest: 491.7231945\tbest: 491.7231945 (418)\ttotal: 7.68s\tremaining: 1.49s\n",
      "419:\tlearn: 490.4552218\ttest: 491.7218217\tbest: 491.7218217 (419)\ttotal: 7.7s\tremaining: 1.47s\n",
      "420:\tlearn: 490.4378740\ttest: 491.7071782\tbest: 491.7071782 (420)\ttotal: 7.72s\tremaining: 1.45s\n",
      "421:\tlearn: 490.4242620\ttest: 491.6933842\tbest: 491.6933842 (421)\ttotal: 7.73s\tremaining: 1.43s\n",
      "422:\tlearn: 490.4159809\ttest: 491.6847982\tbest: 491.6847982 (422)\ttotal: 7.76s\tremaining: 1.41s\n",
      "423:\tlearn: 490.4011446\ttest: 491.6724854\tbest: 491.6724854 (423)\ttotal: 7.78s\tremaining: 1.4s\n",
      "424:\tlearn: 490.3990688\ttest: 491.6696306\tbest: 491.6696306 (424)\ttotal: 7.8s\tremaining: 1.38s\n",
      "425:\tlearn: 490.3883837\ttest: 491.6633106\tbest: 491.6633106 (425)\ttotal: 7.82s\tremaining: 1.36s\n",
      "426:\tlearn: 490.3780917\ttest: 491.6519998\tbest: 491.6519998 (426)\ttotal: 7.83s\tremaining: 1.34s\n",
      "427:\tlearn: 490.3651116\ttest: 491.6414734\tbest: 491.6414734 (427)\ttotal: 7.85s\tremaining: 1.32s\n",
      "428:\tlearn: 490.3574633\ttest: 491.6334967\tbest: 491.6334967 (428)\ttotal: 7.87s\tremaining: 1.3s\n",
      "429:\tlearn: 490.3482414\ttest: 491.6188724\tbest: 491.6188724 (429)\ttotal: 7.89s\tremaining: 1.28s\n",
      "430:\tlearn: 490.3332501\ttest: 491.6154287\tbest: 491.6154287 (430)\ttotal: 7.91s\tremaining: 1.27s\n",
      "431:\tlearn: 490.3247489\ttest: 491.6058823\tbest: 491.6058823 (431)\ttotal: 7.93s\tremaining: 1.25s\n",
      "432:\tlearn: 490.3138655\ttest: 491.5974909\tbest: 491.5974909 (432)\ttotal: 7.95s\tremaining: 1.23s\n",
      "433:\tlearn: 490.3052548\ttest: 491.5918239\tbest: 491.5918239 (433)\ttotal: 7.97s\tremaining: 1.21s\n",
      "434:\tlearn: 490.2875520\ttest: 491.5758688\tbest: 491.5758688 (434)\ttotal: 7.98s\tremaining: 1.19s\n",
      "435:\tlearn: 490.2858910\ttest: 491.5738634\tbest: 491.5738634 (435)\ttotal: 8s\tremaining: 1.17s\n",
      "436:\tlearn: 490.2787660\ttest: 491.5649919\tbest: 491.5649919 (436)\ttotal: 8.02s\tremaining: 1.16s\n",
      "437:\tlearn: 490.2413907\ttest: 491.5417989\tbest: 491.5417989 (437)\ttotal: 8.03s\tremaining: 1.14s\n",
      "438:\tlearn: 490.1865029\ttest: 491.5085768\tbest: 491.5085768 (438)\ttotal: 8.05s\tremaining: 1.12s\n",
      "439:\tlearn: 490.1745671\ttest: 491.4854247\tbest: 491.4854247 (439)\ttotal: 8.08s\tremaining: 1.1s\n",
      "440:\tlearn: 490.1271490\ttest: 491.4650403\tbest: 491.4650403 (440)\ttotal: 8.1s\tremaining: 1.08s\n",
      "441:\tlearn: 490.1265150\ttest: 491.4653019\tbest: 491.4650403 (440)\ttotal: 8.11s\tremaining: 1.06s\n",
      "442:\tlearn: 490.1180758\ttest: 491.4595244\tbest: 491.4595244 (442)\ttotal: 8.13s\tremaining: 1.05s\n",
      "443:\tlearn: 490.0689686\ttest: 491.4300688\tbest: 491.4300688 (443)\ttotal: 8.15s\tremaining: 1.03s\n",
      "444:\tlearn: 490.0561334\ttest: 491.4262313\tbest: 491.4262313 (444)\ttotal: 8.17s\tremaining: 1.01s\n",
      "445:\tlearn: 490.0468840\ttest: 491.4283899\tbest: 491.4262313 (444)\ttotal: 8.18s\tremaining: 991ms\n",
      "446:\tlearn: 490.0434510\ttest: 491.4240292\tbest: 491.4240292 (446)\ttotal: 8.2s\tremaining: 973ms\n",
      "447:\tlearn: 490.0272258\ttest: 491.4210420\tbest: 491.4210420 (447)\ttotal: 8.22s\tremaining: 954ms\n",
      "448:\tlearn: 490.0229835\ttest: 491.4244216\tbest: 491.4210420 (447)\ttotal: 8.24s\tremaining: 936ms\n",
      "449:\tlearn: 489.9802089\ttest: 491.4070219\tbest: 491.4070219 (449)\ttotal: 8.25s\tremaining: 917ms\n",
      "450:\tlearn: 489.9725764\ttest: 491.4097693\tbest: 491.4070219 (449)\ttotal: 8.27s\tremaining: 899ms\n",
      "451:\tlearn: 489.9603948\ttest: 491.4048851\tbest: 491.4048851 (451)\ttotal: 8.29s\tremaining: 880ms\n",
      "452:\tlearn: 489.9357683\ttest: 491.3735073\tbest: 491.3735073 (452)\ttotal: 8.3s\tremaining: 862ms\n",
      "453:\tlearn: 489.9321595\ttest: 491.3739652\tbest: 491.3735073 (452)\ttotal: 8.32s\tremaining: 843ms\n",
      "454:\tlearn: 489.9138309\ttest: 491.3474266\tbest: 491.3474266 (454)\ttotal: 8.34s\tremaining: 825ms\n",
      "455:\tlearn: 489.8703467\ttest: 491.3014550\tbest: 491.3014550 (455)\ttotal: 8.36s\tremaining: 806ms\n",
      "456:\tlearn: 489.8691218\ttest: 491.3024801\tbest: 491.3014550 (455)\ttotal: 8.37s\tremaining: 788ms\n",
      "457:\tlearn: 489.8653156\ttest: 491.3056642\tbest: 491.3014550 (455)\ttotal: 8.39s\tremaining: 770ms\n",
      "458:\tlearn: 489.8549251\ttest: 491.2849016\tbest: 491.2849016 (458)\ttotal: 8.41s\tremaining: 751ms\n",
      "459:\tlearn: 489.8466563\ttest: 491.2874097\tbest: 491.2849016 (458)\ttotal: 8.43s\tremaining: 733ms\n",
      "460:\tlearn: 489.8397656\ttest: 491.2904849\tbest: 491.2849016 (458)\ttotal: 8.45s\tremaining: 714ms\n",
      "461:\tlearn: 489.8272307\ttest: 491.2887401\tbest: 491.2849016 (458)\ttotal: 8.46s\tremaining: 696ms\n",
      "462:\tlearn: 489.8054852\ttest: 491.2606047\tbest: 491.2606047 (462)\ttotal: 8.48s\tremaining: 678ms\n",
      "463:\tlearn: 489.7905210\ttest: 491.2602121\tbest: 491.2602121 (463)\ttotal: 8.5s\tremaining: 659ms\n",
      "464:\tlearn: 489.7821199\ttest: 491.2554791\tbest: 491.2554791 (464)\ttotal: 8.52s\tremaining: 641ms\n",
      "465:\tlearn: 489.7494984\ttest: 491.2364812\tbest: 491.2364812 (465)\ttotal: 8.53s\tremaining: 622ms\n",
      "466:\tlearn: 489.7358671\ttest: 491.2197728\tbest: 491.2197728 (466)\ttotal: 8.55s\tremaining: 604ms\n",
      "467:\tlearn: 489.7348169\ttest: 491.2206453\tbest: 491.2197728 (466)\ttotal: 8.56s\tremaining: 586ms\n",
      "468:\tlearn: 489.7220386\ttest: 491.2183550\tbest: 491.2183550 (468)\ttotal: 8.58s\tremaining: 567ms\n",
      "469:\tlearn: 489.7146209\ttest: 491.2133380\tbest: 491.2133380 (469)\ttotal: 8.6s\tremaining: 549ms\n",
      "470:\tlearn: 489.6780123\ttest: 491.1781304\tbest: 491.1781304 (470)\ttotal: 8.62s\tremaining: 530ms\n",
      "471:\tlearn: 489.6768744\ttest: 491.1781304\tbest: 491.1781304 (470)\ttotal: 8.63s\tremaining: 512ms\n",
      "472:\tlearn: 489.6754301\ttest: 491.1780868\tbest: 491.1780868 (472)\ttotal: 8.65s\tremaining: 494ms\n",
      "473:\tlearn: 489.6744454\ttest: 491.1780650\tbest: 491.1780650 (473)\ttotal: 8.66s\tremaining: 475ms\n",
      "474:\tlearn: 489.6694122\ttest: 491.1789157\tbest: 491.1780650 (473)\ttotal: 8.68s\tremaining: 457ms\n",
      "475:\tlearn: 489.6662173\ttest: 491.1747491\tbest: 491.1747491 (475)\ttotal: 8.7s\tremaining: 439ms\n",
      "476:\tlearn: 489.6660203\ttest: 491.1747491\tbest: 491.1747491 (475)\ttotal: 8.71s\tremaining: 420ms\n",
      "477:\tlearn: 489.6658671\ttest: 491.1747491\tbest: 491.1747491 (475)\ttotal: 8.73s\tremaining: 402ms\n",
      "478:\tlearn: 489.6649261\ttest: 491.1755999\tbest: 491.1747491 (475)\ttotal: 8.75s\tremaining: 383ms\n",
      "479:\tlearn: 489.6647948\ttest: 491.1755999\tbest: 491.1747491 (475)\ttotal: 8.76s\tremaining: 365ms\n",
      "480:\tlearn: 489.6586018\ttest: 491.1789376\tbest: 491.1747491 (475)\ttotal: 8.78s\tremaining: 347ms\n",
      "481:\tlearn: 489.6583611\ttest: 491.1785013\tbest: 491.1747491 (475)\ttotal: 8.8s\tremaining: 329ms\n",
      "482:\tlearn: 489.6583173\ttest: 491.1785231\tbest: 491.1747491 (475)\ttotal: 8.82s\tremaining: 310ms\n",
      "483:\tlearn: 489.6582735\ttest: 491.1785013\tbest: 491.1747491 (475)\ttotal: 8.84s\tremaining: 292ms\n",
      "484:\tlearn: 489.6354920\ttest: 491.1597185\tbest: 491.1597185 (484)\ttotal: 8.86s\tremaining: 274ms\n",
      "485:\tlearn: 489.6353607\ttest: 491.1597185\tbest: 491.1597185 (484)\ttotal: 8.87s\tremaining: 256ms\n",
      "486:\tlearn: 489.6100394\ttest: 491.1446220\tbest: 491.1446220 (486)\ttotal: 8.89s\tremaining: 237ms\n",
      "487:\tlearn: 489.5969296\ttest: 491.1293068\tbest: 491.1293068 (487)\ttotal: 8.91s\tremaining: 219ms\n",
      "488:\tlearn: 489.5968201\ttest: 491.1293068\tbest: 491.1293068 (487)\ttotal: 8.92s\tremaining: 201ms\n",
      "489:\tlearn: 489.5967326\ttest: 491.1293068\tbest: 491.1293068 (487)\ttotal: 8.94s\tremaining: 182ms\n",
      "490:\tlearn: 489.5752396\ttest: 491.1116785\tbest: 491.1116785 (490)\ttotal: 8.96s\tremaining: 164ms\n",
      "491:\tlearn: 489.5640331\ttest: 491.1019477\tbest: 491.1019477 (491)\ttotal: 8.97s\tremaining: 146ms\n",
      "492:\tlearn: 489.5584516\ttest: 491.0981077\tbest: 491.0981077 (492)\ttotal: 8.99s\tremaining: 128ms\n",
      "493:\tlearn: 489.5534830\ttest: 491.0946604\tbest: 491.0946604 (493)\ttotal: 9.01s\tremaining: 109ms\n",
      "494:\tlearn: 489.5138852\ttest: 491.0688705\tbest: 491.0688705 (494)\ttotal: 9.02s\tremaining: 91.2ms\n",
      "495:\tlearn: 489.5042315\ttest: 491.0607535\tbest: 491.0607535 (495)\ttotal: 9.04s\tremaining: 72.9ms\n",
      "496:\tlearn: 489.5000942\ttest: 491.0580697\tbest: 491.0580697 (496)\ttotal: 9.06s\tremaining: 54.7ms\n",
      "497:\tlearn: 489.4860401\ttest: 491.0381476\tbest: 491.0381476 (497)\ttotal: 9.07s\tremaining: 36.4ms\n",
      "498:\tlearn: 489.4822090\ttest: 491.0357473\tbest: 491.0357473 (498)\ttotal: 9.09s\tremaining: 18.2ms\n",
      "499:\tlearn: 489.4787502\ttest: 491.0336743\tbest: 491.0336743 (499)\ttotal: 9.11s\tremaining: 0us\n",
      "bestTest = 491.0336743\n",
      "bestIteration = 499\n"
     ]
    },
    {
     "data": {
      "text/plain": [
       "<catboost.core.CatBoostRegressor at 0x1cfad1d8890>"
      ]
     },
     "execution_count": 9,
     "metadata": {},
     "output_type": "execute_result"
    }
   ],
   "source": [
    "\n",
    "train_pool = Pool(train_df[x_col], train_df[y_col], cat_features=np.arange(n_cat_cols))\n",
    "val_pool = Pool(val_df[x_col], val_df[y_col], cat_features=np.arange(n_cat_cols))\n",
    "test_pool = Pool(test_df[x_col], cat_features=np.arange(n_cat_cols))\n",
    "\n",
    "cat_model = CatBoostRegressor(iterations=500,\n",
    "                          depth=3,\n",
    "                          learning_rate=0.05,\n",
    "                          bootstrap_type='Bernoulli',\n",
    "                          subsample=0.6,\n",
    "                        #   colsample_bylevel=0.8,\n",
    "                        #   l2_leaf_reg=5,\n",
    "                          loss_function='RMSE',\n",
    "                          task_type='GPU')\n",
    "# train the model\n",
    "cat_model.fit(train_pool, plot=True, eval_set=val_pool)"
   ]
  },
  {
   "cell_type": "code",
   "execution_count": 10,
   "metadata": {},
   "outputs": [
    {
     "data": {
      "image/png": "[encoded data removed]",
      "text/plain": [
       "<Figure size 1200x600 with 1 Axes>"
      ]
     },
     "metadata": {},
     "output_type": "display_data"
    }
   ],
   "source": [
    "# Create a dataframe of feature importance\n",
    "df_feature_importance = pd.DataFrame(cat_model.get_feature_importance(prettified=True))\n",
    "#plotting feature importance\n",
    "plt.figure(figsize=(12, 6));\n",
    "feature_plot= sns.barplot(x=\"Importances\", y=\"Feature Id\", data=df_feature_importance);\n",
    "plt.title('features importance');"
   ]
  },
  {
   "cell_type": "markdown",
   "metadata": {},
   "source": [
    "### Hyperparameter optimisation"
   ]
  },
  {
   "cell_type": "code",
   "execution_count": 11,
   "metadata": {},
   "outputs": [],
   "source": [
    "# Catboost hyperparameters to search\n",
    "catboost_hyperparams = { 'n_estimators': hp.choice('n_estimators', n_estimators),\n",
    "                         'max_depth': hp.choice('max_depth', max_depth),\n",
    "                         'learning_rate': hp.choice('learning_rate', learning_rate),\n",
    "                         'subsample': hp.choice('subsample', subsample),\n",
    "                        #  'colsample_bylevel': hp.choice('colsample_bylevel', col_subsample),\n",
    "                         'bootstrap_type': hp.choice('bootstrap_type', ['Poisson', 'Bernoulli', 'MVS']),\n",
    "                         'l2_leaf_reg': hp.uniform('l2_leaf_reg', 0., 10),\n",
    "                         'boosting_type': hp.choice('boosting_type', ['Ordered', 'Plain']),\n",
    "                         'loss_function': 'RMSE',\n",
    "                         'eval_metric': 'RMSE',\n",
    "                         'task_type': device.upper()}\n",
    "\n",
    "catboost_fit_params = {'early_stopping_rounds': 10, 'verbose': False}\n",
    "\n",
    "catboost_params = dict()\n",
    "catboost_params['reg_params'] = catboost_hyperparams\n",
    "catboost_params['fit_params'] = catboost_fit_params\n",
    "catboost_params['loss_func'] = lambda y, pred: np.sqrt(mean_squared_error(y, pred))"
   ]
  },
  {
   "cell_type": "code",
   "execution_count": 12,
   "metadata": {},
   "outputs": [
    {
     "name": "stdout",
     "output_type": "stream",
     "text": [
      "100%|██████████| 200/200 [16:40<00:00,  5.00s/trial, best loss: 486.33363916968744] \n"
     ]
    }
   ],
   "source": [
    "# hyperparamter optimisation\n",
    "optimiser = HPOptimiser(train_pool, val_pool)\n",
    "catboost_opt = optimiser.process(fn_name='catboost_reg', space=catboost_params,\n",
    "                          trials=Trials(), algo=tpe.suggest, max_evals=num_evals)"
   ]
  },
  {
   "cell_type": "code",
   "execution_count": 13,
   "metadata": {},
   "outputs": [
    {
     "name": "stdout",
     "output_type": "stream",
     "text": [
      "{'boosting_type': 'Plain', 'bootstrap_type': 'Bernoulli', 'eval_metric': 'RMSE', 'l2_leaf_reg': 2.6452595700346704, 'learning_rate': 0.2, 'loss_function': 'RMSE', 'max_depth': 5, 'n_estimators': 300, 'subsample': 0.8, 'task_type': 'GPU'}\n",
      "{'early_stopping_rounds': 10, 'verbose': False}\n"
     ]
    }
   ],
   "source": [
    "# get best params\n",
    "catboost_reg_params = space_eval(catboost_params['reg_params'], catboost_opt[0])\n",
    "catboost_fit_params = space_eval(catboost_params['fit_params'], catboost_opt[0])\n",
    "print(catboost_reg_params)\n",
    "print(catboost_fit_params)"
   ]
  },
  {
   "cell_type": "code",
   "execution_count": 14,
   "metadata": {},
   "outputs": [
    {
     "data": {
      "application/vnd.jupyter.widget-view+json": {
       "model_id": "04edcd474dd14757ace47ff661734ce2",
       "version_major": 2,
       "version_minor": 0
      },
      "text/plain": [
       "MetricVisualizer(layout=Layout(align_self='stretch', height='500px'))"
      ]
     },
     "metadata": {},
     "output_type": "display_data"
    },
    {
     "name": "stdout",
     "output_type": "stream",
     "text": [
      "RMSE on validation set is 486.6724866819811\n"
     ]
    }
   ],
   "source": [
    "# get the best model\n",
    "cat_model = CatBoostRegressor(**catboost_reg_params)\n",
    "cat_model.fit(train_pool, plot=True, **catboost_fit_params)\n",
    "preds = cat_model.predict(val_pool)\n",
    "print(f'RMSE on validation set is {np.sqrt(mean_squared_error(val_df[y_col], preds))}')"
   ]
  },
  {
   "cell_type": "code",
   "execution_count": 15,
   "metadata": {},
   "outputs": [
    {
     "data": {
      "image/png": "[encoded data removed]",
      "text/plain": [
       "<Figure size 1200x600 with 1 Axes>"
      ]
     },
     "metadata": {},
     "output_type": "display_data"
    }
   ],
   "source": [
    "# Create a dataframe of feature importance\n",
    "df_feature_importance = pd.DataFrame(cat_model.get_feature_importance(prettified=True))\n",
    "#plotting feature importance\n",
    "plt.figure(figsize=(12, 6));\n",
    "feature_plot= sns.barplot(x=\"Importances\", y=\"Feature Id\", data=df_feature_importance);\n",
    "plt.title('features importance');"
   ]
  },
  {
   "cell_type": "code",
   "execution_count": 16,
   "metadata": {},
   "outputs": [
    {
     "data": {
      "text/plain": [
       "array([2358.76280824, 2261.59857459, 2806.89359756, ..., 2406.74507962,\n",
       "       3322.49509815, 2723.67088909])"
      ]
     },
     "execution_count": 16,
     "metadata": {},
     "output_type": "execute_result"
    }
   ],
   "source": [
    "# predict on test set\n",
    "preds = cat_model.predict(test_pool)\n",
    "preds"
   ]
  },
  {
   "cell_type": "code",
   "execution_count": 17,
   "metadata": {},
   "outputs": [],
   "source": [
    "# output to csv\n",
    "submission_df = pd.DataFrame({'Predicted': preds})\n",
    "submission_df.rename_axis('Id', inplace=True)\n",
    "submission_df.to_csv('./data/submission_catboost.csv')"
   ]
  },
  {
   "cell_type": "markdown",
   "metadata": {},
   "source": [
    "# XGBoost"
   ]
  },
  {
   "cell_type": "code",
   "execution_count": 18,
   "metadata": {},
   "outputs": [],
   "source": [
    "# Choose which subset of columns to use\n",
    "\n",
    "# x_col = ['town', 'flat_type', 'flat_model', 'subzone', 'planning_area', 'region',\n",
    "#          'num_top_sch_1km', 'num_top_sch_2km', 'num_good_sch_1km', 'num_good_sch_2km', 'num_normal_sch_1km', 'num_normal_sch_2km',\n",
    "#          'age_bin', 'age', 'floor_area_sqm', 'shortest_dist_school', 'shortest_dist_mall', 'shortest_ex_mrt', 'shortest_pl_mrt', 'sti', 'coe', 'hdb_index']\n",
    "\n",
    "x_col = ['flat_type', 'subzone', 'num_top_sch_2km', 'num_top_sch_1km', 'num_good_sch_1km', 'num_good_sch_2km', 'flat_model',\n",
    "         'age', 'floor_area_sqm', 'shortest_dist_school', 'shortest_dist_mall', 'shortest_ex_mrt', 'shortest_pl_mrt', 'sti', 'coe']"
   ]
  },
  {
   "cell_type": "markdown",
   "metadata": {},
   "source": [
    "### Test run before optimisation of hyperparameters"
   ]
  },
  {
   "cell_type": "code",
   "execution_count": 19,
   "metadata": {},
   "outputs": [
    {
     "name": "stdout",
     "output_type": "stream",
     "text": [
      "[0]\ttrain-rmse:613.57204+1.45107\ttest-rmse:617.58001+7.85806\n",
      "[10]\ttrain-rmse:460.70930+0.90423\ttest-rmse:492.78485+5.58737\n",
      "[20]\ttrain-rmse:445.64938+0.96070\ttest-rmse:493.06666+5.42917\n",
      "[21]\ttrain-rmse:444.60532+1.05289\ttest-rmse:493.21345+5.44091\n"
     ]
    },
    {
     "data": {
      "text/html": [
       "<div>\n",
       "<style scoped>\n",
       "    .dataframe tbody tr th:only-of-type {\n",
       "        vertical-align: middle;\n",
       "    }\n",
       "\n",
       "    .dataframe tbody tr th {\n",
       "        vertical-align: top;\n",
       "    }\n",
       "\n",
       "    .dataframe thead th {\n",
       "        text-align: right;\n",
       "    }\n",
       "</style>\n",
       "<table border=\"1\" class=\"dataframe\">\n",
       "  <thead>\n",
       "    <tr style=\"text-align: right;\">\n",
       "      <th></th>\n",
       "      <th>train-rmse-mean</th>\n",
       "      <th>train-rmse-std</th>\n",
       "      <th>test-rmse-mean</th>\n",
       "      <th>test-rmse-std</th>\n",
       "    </tr>\n",
       "  </thead>\n",
       "  <tbody>\n",
       "    <tr>\n",
       "      <th>0</th>\n",
       "      <td>613.572038</td>\n",
       "      <td>1.451071</td>\n",
       "      <td>617.580015</td>\n",
       "      <td>7.858057</td>\n",
       "    </tr>\n",
       "    <tr>\n",
       "      <th>1</th>\n",
       "      <td>554.400274</td>\n",
       "      <td>1.201367</td>\n",
       "      <td>562.019215</td>\n",
       "      <td>7.454901</td>\n",
       "    </tr>\n",
       "    <tr>\n",
       "      <th>2</th>\n",
       "      <td>520.075065</td>\n",
       "      <td>1.181127</td>\n",
       "      <td>530.626988</td>\n",
       "      <td>7.229919</td>\n",
       "    </tr>\n",
       "    <tr>\n",
       "      <th>3</th>\n",
       "      <td>500.278013</td>\n",
       "      <td>1.254622</td>\n",
       "      <td>513.819913</td>\n",
       "      <td>6.645800</td>\n",
       "    </tr>\n",
       "    <tr>\n",
       "      <th>4</th>\n",
       "      <td>487.963076</td>\n",
       "      <td>1.185741</td>\n",
       "      <td>504.421146</td>\n",
       "      <td>5.995545</td>\n",
       "    </tr>\n",
       "    <tr>\n",
       "      <th>5</th>\n",
       "      <td>479.867747</td>\n",
       "      <td>1.176346</td>\n",
       "      <td>499.218930</td>\n",
       "      <td>5.769576</td>\n",
       "    </tr>\n",
       "    <tr>\n",
       "      <th>6</th>\n",
       "      <td>474.350790</td>\n",
       "      <td>1.078179</td>\n",
       "      <td>496.054045</td>\n",
       "      <td>5.812415</td>\n",
       "    </tr>\n",
       "    <tr>\n",
       "      <th>7</th>\n",
       "      <td>469.424786</td>\n",
       "      <td>1.073967</td>\n",
       "      <td>494.720148</td>\n",
       "      <td>5.774050</td>\n",
       "    </tr>\n",
       "    <tr>\n",
       "      <th>8</th>\n",
       "      <td>465.927276</td>\n",
       "      <td>1.061193</td>\n",
       "      <td>493.655173</td>\n",
       "      <td>5.784098</td>\n",
       "    </tr>\n",
       "    <tr>\n",
       "      <th>9</th>\n",
       "      <td>462.988309</td>\n",
       "      <td>0.928098</td>\n",
       "      <td>493.183110</td>\n",
       "      <td>5.728261</td>\n",
       "    </tr>\n",
       "    <tr>\n",
       "      <th>10</th>\n",
       "      <td>460.709302</td>\n",
       "      <td>0.904231</td>\n",
       "      <td>492.784848</td>\n",
       "      <td>5.587371</td>\n",
       "    </tr>\n",
       "    <tr>\n",
       "      <th>11</th>\n",
       "      <td>458.703249</td>\n",
       "      <td>1.169208</td>\n",
       "      <td>492.554069</td>\n",
       "      <td>5.447911</td>\n",
       "    </tr>\n",
       "    <tr>\n",
       "      <th>12</th>\n",
       "      <td>456.605436</td>\n",
       "      <td>1.179195</td>\n",
       "      <td>492.466876</td>\n",
       "      <td>5.447333</td>\n",
       "    </tr>\n",
       "  </tbody>\n",
       "</table>\n",
       "</div>"
      ],
      "text/plain": [
       "    train-rmse-mean  train-rmse-std  test-rmse-mean  test-rmse-std\n",
       "0        613.572038        1.451071      617.580015       7.858057\n",
       "1        554.400274        1.201367      562.019215       7.454901\n",
       "2        520.075065        1.181127      530.626988       7.229919\n",
       "3        500.278013        1.254622      513.819913       6.645800\n",
       "4        487.963076        1.185741      504.421146       5.995545\n",
       "5        479.867747        1.176346      499.218930       5.769576\n",
       "6        474.350790        1.078179      496.054045       5.812415\n",
       "7        469.424786        1.073967      494.720148       5.774050\n",
       "8        465.927276        1.061193      493.655173       5.784098\n",
       "9        462.988309        0.928098      493.183110       5.728261\n",
       "10       460.709302        0.904231      492.784848       5.587371\n",
       "11       458.703249        1.169208      492.554069       5.447911\n",
       "12       456.605436        1.179195      492.466876       5.447333"
      ]
     },
     "execution_count": 19,
     "metadata": {},
     "output_type": "execute_result"
    }
   ],
   "source": [
    "dtrain = DMatrix(data=train_df[x_col], label=train_df[y_col], enable_categorical=True)\n",
    "params = {'objective': 'reg:squarederror', 'eval_metric': 'rmse', 'booster': 'gbtree', 'device': 'gpu'}\n",
    "xgb_cv = xgb.cv(params=params, dtrain=dtrain, num_boost_round=100, nfold=5, early_stopping_rounds=10, verbose_eval=10)\n",
    "xgb_cv"
   ]
  },
  {
   "cell_type": "code",
   "execution_count": 20,
   "metadata": {},
   "outputs": [
    {
     "name": "stdout",
     "output_type": "stream",
     "text": [
      "[0]\ttrain-rmse:613.98935\teval-rmse:630.07584\n",
      "[10]\ttrain-rmse:464.56392\teval-rmse:543.83127\n",
      "[16]\ttrain-rmse:455.79676\teval-rmse:547.94369\n"
     ]
    }
   ],
   "source": [
    "val_df[cat_cols] = val_df[cat_cols].astype('category')\n",
    "deval = DMatrix(data=val_df[x_col], label=val_df[y_col], enable_categorical=True)\n",
    "xgb_model = xgb.train(params=params, dtrain=dtrain, num_boost_round=100, early_stopping_rounds=10, evals=[(dtrain, 'train'), (deval, 'eval')], verbose_eval=10)"
   ]
  },
  {
   "cell_type": "code",
   "execution_count": 21,
   "metadata": {},
   "outputs": [
    {
     "data": {
      "text/plain": [
       "<Axes: title={'center': 'Feature importance'}, xlabel='F score', ylabel='Features'>"
      ]
     },
     "execution_count": 21,
     "metadata": {},
     "output_type": "execute_result"
    },
    {
     "data": {
      "image/png": "[encoded data removed]",
      "text/plain": [
       "<Figure size 640x480 with 1 Axes>"
      ]
     },
     "metadata": {},
     "output_type": "display_data"
    }
   ],
   "source": [
    "xgb.plot_importance(xgb_model, max_num_features=20)"
   ]
  },
  {
   "cell_type": "markdown",
   "metadata": {},
   "source": [
    "### Hyperparamter optimisation"
   ]
  },
  {
   "cell_type": "code",
   "execution_count": 22,
   "metadata": {},
   "outputs": [],
   "source": [
    "# xgboost hyperparameters to search\n",
    "xgboost_hyperparams = { 'max_depth': hp.choice('max_depth', max_depth),\n",
    "                        'learning_rate': hp.choice('learning_rate', learning_rate),\n",
    "                        'subsample': hp.choice('subsample', subsample),\n",
    "                        'colsample_bytree': hp.choice('colsample_bytree', subsample),\n",
    "                        # 'gamma': hp.uniform ('gamma', 0, 10),\n",
    "                        # 'reg_alpha': hp.quniform('reg_alpha', 20, 100, 1),\n",
    "                        # 'reg_lambda': hp.uniform('reg_lambda', 0, 1),\n",
    "                        'booster': 'gbtree',\n",
    "                        'objective': 'reg:squarederror',\n",
    "                        'eval_metric': 'rmse',\n",
    "                        'device': device}\n",
    "\n",
    "xgboost_fit_params = {'early_stopping_rounds': 10,\n",
    "                      'num_boost_round': hp.choice('num_boost_round', n_estimators),\n",
    "                      'verbose_eval': False}\n",
    "\n",
    "xgboost_params = dict()\n",
    "xgboost_params['reg_params'] = xgboost_hyperparams\n",
    "xgboost_params['fit_params'] = xgboost_fit_params\n",
    "xgboost_params['loss_func'] = lambda y, pred: np.sqrt(mean_squared_error(y, pred))"
   ]
  },
  {
   "cell_type": "code",
   "execution_count": 23,
   "metadata": {},
   "outputs": [
    {
     "name": "stdout",
     "output_type": "stream",
     "text": [
      "100%|██████████| 200/200 [03:28<00:00,  1.04s/trial, best loss: 526.82373046875] \n"
     ]
    }
   ],
   "source": [
    "# hyperparamter optimisation\n",
    "optimiser = HPOptimiser(dtrain, deval)\n",
    "xgboost_opt = optimiser.process(fn_name='xgboost_reg', space=xgboost_params,\n",
    "                          trials=Trials(), algo=tpe.suggest, max_evals=num_evals)"
   ]
  },
  {
   "cell_type": "code",
   "execution_count": 24,
   "metadata": {},
   "outputs": [
    {
     "name": "stdout",
     "output_type": "stream",
     "text": [
      "{'booster': 'gbtree', 'colsample_bytree': 0.6, 'device': 'gpu', 'eval_metric': 'rmse', 'learning_rate': 0.05, 'max_depth': 7, 'objective': 'reg:squarederror', 'subsample': 1.0}\n",
      "{'early_stopping_rounds': 10, 'num_boost_round': 300, 'verbose_eval': False}\n"
     ]
    }
   ],
   "source": [
    "# get best params\n",
    "xgboost_reg_params = space_eval(xgboost_params['reg_params'], xgboost_opt[0])\n",
    "xgboost_fit_params = space_eval(xgboost_params['fit_params'], xgboost_opt[0])\n",
    "print(xgboost_reg_params)\n",
    "print(xgboost_fit_params)"
   ]
  },
  {
   "cell_type": "code",
   "execution_count": 25,
   "metadata": {},
   "outputs": [
    {
     "name": "stdout",
     "output_type": "stream",
     "text": [
      "[0]\teval-rmse:699.55896\n"
     ]
    },
    {
     "name": "stdout",
     "output_type": "stream",
     "text": [
      "[10]\teval-rmse:609.25293\n",
      "[20]\teval-rmse:560.01076\n",
      "[30]\teval-rmse:539.07996\n",
      "[40]\teval-rmse:531.78592\n",
      "[50]\teval-rmse:527.79088\n",
      "[60]\teval-rmse:526.65723\n",
      "[70]\teval-rmse:526.99811\n",
      "[73]\teval-rmse:526.96078\n",
      "RMSE on validation set is 526.8237222566964\n"
     ]
    }
   ],
   "source": [
    "# use best params to train XGBoost\n",
    "xgb_model = xgb.train(params=xgboost_reg_params, dtrain=dtrain,\n",
    "                      evals=[(deval, 'eval')],\n",
    "                      num_boost_round=xgboost_fit_params['num_boost_round'],\n",
    "                      early_stopping_rounds=xgboost_fit_params['early_stopping_rounds'],\n",
    "                      verbose_eval=10)\n",
    "preds = xgb_model.predict(deval)\n",
    "print(f'RMSE on validation set is {np.sqrt(mean_squared_error(val_df[y_col], preds))}')"
   ]
  },
  {
   "cell_type": "code",
   "execution_count": 26,
   "metadata": {},
   "outputs": [
    {
     "data": {
      "text/plain": [
       "<Axes: title={'center': 'Feature importance'}, xlabel='F score', ylabel='Features'>"
      ]
     },
     "execution_count": 26,
     "metadata": {},
     "output_type": "execute_result"
    },
    {
     "data": {
      "image/png": "[encoded data removed]",
      "text/plain": [
       "<Figure size 640x480 with 1 Axes>"
      ]
     },
     "metadata": {},
     "output_type": "display_data"
    }
   ],
   "source": [
    "xgb.plot_importance(xgb_model, max_num_features=20)"
   ]
  },
  {
   "cell_type": "code",
   "execution_count": 27,
   "metadata": {},
   "outputs": [
    {
     "data": {
      "text/plain": [
       "array([3573.4753, 2948.2395, 3529.6104, ..., 3168.822 , 3149.838 ,\n",
       "       3735.4863], dtype=float32)"
      ]
     },
     "execution_count": 27,
     "metadata": {},
     "output_type": "execute_result"
    }
   ],
   "source": [
    "# predict on test set\n",
    "dtest = DMatrix(data=test_df[x_col], enable_categorical=True)\n",
    "preds = xgb_model.predict(dtest)\n",
    "preds"
   ]
  },
  {
   "cell_type": "code",
   "execution_count": 28,
   "metadata": {},
   "outputs": [],
   "source": [
    "# output to csv\n",
    "submission_df = pd.DataFrame({'Predicted': preds})\n",
    "submission_df.rename_axis('Id', inplace=True)\n",
    "submission_df.to_csv('./data/submission_xgboost.csv')"
   ]
  },
  {
   "cell_type": "markdown",
   "metadata": {},
   "source": [
    "# LightGBM"
   ]
  },
  {
   "cell_type": "code",
   "execution_count": 29,
   "metadata": {},
   "outputs": [],
   "source": [
    "# Choose which subset of columns to use\n",
    "\n",
    "# x_col = ['town', 'flat_type', 'flat_model', 'subzone', 'planning_area', 'region',\n",
    "#          'num_top_sch_1km', 'num_top_sch_2km', 'num_good_sch_1km', 'num_good_sch_2km', 'num_normal_sch_1km', 'num_normal_sch_2km',\n",
    "#          'age_bin', 'age', 'floor_area_sqm', 'shortest_dist_school', 'shortest_dist_mall', 'shortest_ex_mrt', 'shortest_pl_mrt', 'sti', 'coe', 'hdb_index']\n",
    "\n",
    "x_col = ['flat_type', 'subzone', 'num_top_sch_2km', 'num_top_sch_1km', 'num_good_sch_1km', 'num_good_sch_2km', 'flat_model',\n",
    "         'age', 'floor_area_sqm', 'shortest_dist_school', 'shortest_dist_mall', 'shortest_ex_mrt', 'shortest_pl_mrt', 'sti', 'coe']"
   ]
  },
  {
   "cell_type": "code",
   "execution_count": 30,
   "metadata": {},
   "outputs": [],
   "source": [
    "lgb_train = Dataset(train_df[x_col], train_df[y_col], params={'verbose': -1}, free_raw_data=False).construct()\n",
    "lgb_eval = Dataset(val_df[x_col], val_df[y_col], params={'verbose': -1}, free_raw_data=False).construct()"
   ]
  },
  {
   "cell_type": "code",
   "execution_count": 31,
   "metadata": {},
   "outputs": [],
   "source": [
    "# lightgbm hyperparameters to search\n",
    "lightgbm_hyperparams = {'max_depth': hp.choice('max_depth', max_depth),\n",
    "                        'learning_rate': hp.choice('learning_rate', learning_rate),\n",
    "                        'subsample': hp.choice('subsample', subsample),\n",
    "                        'colsample_bytree': hp.choice('colsample_bytree', col_subsample),\n",
    "                        'max_bin': hp.choice('max_bin', [32, 64, 128, 256]),\n",
    "                        'num_leaves': hp.choice('num_leaves', [2, 4, 8, 16, 32, 64, 128]),\n",
    "                        'min_data_in_leaf': hp.choice('min_data_in_leaf', [2, 4, 8, 16, 32, 64, 128]),\n",
    "                        'gamma': hp.uniform ('gamma', 0, 10),\n",
    "                        'reg_alpha': hp.quniform('reg_alpha', 20, 100, 1),\n",
    "                        'reg_lambda': hp.uniform('reg_lambda', 0, 1),\n",
    "                        'objective': 'regression',\n",
    "                        'metric': 'rmse',\n",
    "                        'device': device,\n",
    "                        'verbose': -1}\n",
    "\n",
    "lightgbm_fit_params = {'num_boost_round': hp.choice('num_boost_round', n_estimators)}#, 'verbose_eval': False}\n",
    "\n",
    "lightgbm_params = dict()\n",
    "lightgbm_params['reg_params'] = lightgbm_hyperparams\n",
    "lightgbm_params['fit_params'] = lightgbm_fit_params\n",
    "lightgbm_params['loss_func'] = lambda y, pred: np.sqrt(mean_squared_error(y, pred))"
   ]
  },
  {
   "cell_type": "code",
   "execution_count": 32,
   "metadata": {},
   "outputs": [
    {
     "name": "stdout",
     "output_type": "stream",
     "text": [
      "  0%|          | 0/200 [00:00<?, ?trial/s, best loss=?]"
     ]
    },
    {
     "name": "stdout",
     "output_type": "stream",
     "text": [
      "100%|██████████| 200/200 [04:53<00:00,  1.47s/trial, best loss: 485.832261492776] \n"
     ]
    }
   ],
   "source": [
    "# hyperparamter optimisation\n",
    "optimiser = HPOptimiser(lgb_train, lgb_eval)\n",
    "lightgbm_opt = optimiser.process(fn_name='lightgbm_reg', space=lightgbm_params,\n",
    "                          trials=Trials(), algo=tpe.suggest, max_evals=num_evals)"
   ]
  },
  {
   "cell_type": "code",
   "execution_count": 33,
   "metadata": {},
   "outputs": [
    {
     "name": "stdout",
     "output_type": "stream",
     "text": [
      "{'colsample_bytree': 0.4, 'device': 'gpu', 'gamma': 5.191855287276575, 'learning_rate': 0.05, 'max_bin': 64, 'max_depth': 12, 'metric': 'rmse', 'min_data_in_leaf': 128, 'num_leaves': 16, 'objective': 'regression', 'reg_alpha': 71.0, 'reg_lambda': 0.9560155801617218, 'subsample': 0.9, 'verbose': -1}\n",
      "{'num_boost_round': 500}\n"
     ]
    }
   ],
   "source": [
    "# get best params\n",
    "lgb_reg_params = space_eval(lightgbm_params['reg_params'], lightgbm_opt[0])\n",
    "lgb_fit_params = space_eval(lightgbm_params['fit_params'], lightgbm_opt[0])\n",
    "print(lgb_reg_params)\n",
    "print(lgb_fit_params)"
   ]
  },
  {
   "cell_type": "code",
   "execution_count": 34,
   "metadata": {},
   "outputs": [
    {
     "name": "stdout",
     "output_type": "stream",
     "text": [
      "RMSE on validation set is 485.83260559104417\n"
     ]
    }
   ],
   "source": [
    "# get the best model\n",
    "lgb_model = lgb.train(lgb_reg_params, lgb_train, **lgb_fit_params)\n",
    "preds = lgb_model.predict(val_df.loc[:,x_col])\n",
    "print(f'RMSE on validation set is {np.sqrt(mean_squared_error(val_df[y_col], preds))}')"
   ]
  },
  {
   "cell_type": "code",
   "execution_count": 35,
   "metadata": {},
   "outputs": [
    {
     "data": {
      "text/plain": [
       "<Axes: title={'center': 'Feature importance'}, xlabel='Feature importance', ylabel='Features'>"
      ]
     },
     "execution_count": 35,
     "metadata": {},
     "output_type": "execute_result"
    },
    {
     "data": {
      "image/png": "[encoded data removed]",
      "text/plain": [
       "<Figure size 640x480 with 1 Axes>"
      ]
     },
     "metadata": {},
     "output_type": "display_data"
    }
   ],
   "source": [
    "lgb.plot_importance(lgb_model, max_num_features=20)"
   ]
  },
  {
   "cell_type": "code",
   "execution_count": 36,
   "metadata": {},
   "outputs": [
    {
     "data": {
      "text/plain": [
       "array([2524.74621312, 2307.45789123, 2979.49740428, ..., 2493.23275347,\n",
       "       3302.08688417, 2846.10756708])"
      ]
     },
     "execution_count": 36,
     "metadata": {},
     "output_type": "execute_result"
    }
   ],
   "source": [
    "# predict on test set\n",
    "preds = lgb_model.predict(test_df.loc[:,x_col])\n",
    "preds"
   ]
  },
  {
   "cell_type": "code",
   "execution_count": 37,
   "metadata": {},
   "outputs": [],
   "source": [
    "# output to csv\n",
    "submission_df = pd.DataFrame({'Predicted': preds})\n",
    "submission_df.rename_axis('Id', inplace=True)\n",
    "submission_df.to_csv('./data/submission_lightgbm.csv')"
   ]
  }
 ],
 "metadata": {
  "kernelspec": {
   "display_name": "cs5228",
   "language": "python",
   "name": "python3"
  },
  "language_info": {
   "codemirror_mode": {
    "name": "ipython",
    "version": 3
   },
   "file_extension": ".py",
   "mimetype": "text/x-python",
   "name": "python",
   "nbconvert_exporter": "python",
   "pygments_lexer": "ipython3",
   "version": "3.11.4"
  }
 },
 "nbformat": 4,
 "nbformat_minor": 2
}
