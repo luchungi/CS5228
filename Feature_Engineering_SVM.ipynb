{
 "cells": [
  {
   "cell_type": "code",
   "execution_count": 1,
   "metadata": {},
   "outputs": [],
   "source": [
    "import numpy as np\n",
    "import pandas as pd\n",
    "import matplotlib.pyplot as plt\n",
    "import yfinance as yf\n",
    "\n",
    "from sklearn.preprocessing import KBinsDiscretizer, OneHotEncoder, MinMaxScaler\n",
    "from sklearn.metrics.pairwise import haversine_distances\n",
    "import category_encoders as ce"
   ]
  },
  {
   "cell_type": "markdown",
   "metadata": {},
   "source": [
    "# Preprocess the dataset"
   ]
  },
  {
   "cell_type": "code",
   "execution_count": 2,
   "metadata": {},
   "outputs": [],
   "source": [
    "######### Read the data #########\n",
    "train_df = pd.read_csv('./data/train.csv')\n",
    "test_df = pd.read_csv('./data/test.csv')\n",
    "\n",
    "######### Remove duplicates and irrelevant features #########\n",
    "train_df.drop_duplicates(inplace=True)\n",
    "train_df.drop(columns=['furnished','elevation','block','town', 'street_name', 'subzone'], inplace=True)\n",
    "test_df.drop(columns=['furnished','elevation','block','town', 'street_name', 'subzone'], inplace=True)\n",
    "\n",
    "######### One hot encoding for some of categorical variables #########\n",
    "ohe = ce.OneHotEncoder(use_cat_names=True)\n",
    "ohe_features = ['planning_area','region','flat_model']\n",
    "\n",
    "train_df = pd.concat([train_df, ohe.fit_transform(train_df[ohe_features]) ], axis=1).drop(ohe_features, axis=1)\n",
    "test_df = pd.concat([test_df, ohe.transform(test_df[ohe_features])], axis=1).drop(ohe_features, axis=1)\n",
    "\n",
    "######### Ordinal Encoding #########\n",
    "ordinal_cols_mapping = [{'col': 'flat_type', 'mapping': {'2 room': 2, '3 room': 3, '4 room': 4, '5 room': 5, 'executive': 6}},]\n",
    "flat_type_encoder = ce.OrdinalEncoder(mapping = ordinal_cols_mapping, return_df = True) \n",
    "\n",
    "train_df = pd.concat([train_df, flat_type_encoder.fit_transform(train_df['flat_type']) ], axis=1).drop('flat_type', axis=1)\n",
    "test_df = pd.concat([test_df, flat_type_encoder.transform(test_df['flat_type'])], axis=1).drop('flat_type', axis=1)\n",
    "\n",
    "######### set target variables #########\n",
    "train_y = train_df['monthly_rent']\n",
    "train_df = train_df.loc[:,train_df.columns != 'monthly_rent']\n",
    "\n",
    "######### Convert latitude and longitude to rads #########\n",
    "train_df['lat_rads'] = np.radians(train_df['latitude'])\n",
    "train_df['long_rads'] = np.radians(train_df['longitude'])\n",
    "test_df['lat_rads'] = np.radians(test_df['latitude'])\n",
    "test_df['long_rads'] = np.radians(test_df['longitude'])\n",
    "\n",
    "train_df.drop(['latitude', 'longitude'], axis = 1, inplace = True)\n",
    "test_df.drop(['latitude', 'longitude'], axis = 1, inplace = True)"
   ]
  },
  {
   "cell_type": "code",
   "execution_count": 3,
   "metadata": {},
   "outputs": [
    {
     "data": {
      "text/plain": [
       "(30000, 58)"
      ]
     },
     "execution_count": 3,
     "metadata": {},
     "output_type": "execute_result"
    }
   ],
   "source": [
    "test_df.shape"
   ]
  },
  {
   "cell_type": "markdown",
   "metadata": {},
   "source": [
    "# Add stock market index value"
   ]
  },
  {
   "cell_type": "code",
   "execution_count": 4,
   "metadata": {},
   "outputs": [
    {
     "name": "stdout",
     "output_type": "stream",
     "text": [
      "[*********************100%***********************]  1 of 1 completed\n"
     ]
    }
   ],
   "source": [
    "# Get STI index values from start date to end date\n",
    "train_df['rent_approval_date'] = pd.to_datetime(train_df['rent_approval_date'])\n",
    "train_df['rent_approval_date'].sort_values()\n",
    "test_df['rent_approval_date'] = pd.to_datetime(test_df['rent_approval_date'])\n",
    "test_df['rent_approval_date'].sort_values()\n",
    "start_date = min(train_df['rent_approval_date'].min(), test_df['rent_approval_date'].min()) - pd.DateOffset(days=1)\n",
    "end_date = max(train_df['rent_approval_date'].max(), test_df['rent_approval_date'].max())\n",
    "yf_df = yf.download('^STI', start=start_date, end=end_date)\n",
    "\n",
    "sti_df = pd.DataFrame(index=pd.date_range(start_date, end_date, freq='d'))\n",
    "sti_df = pd.merge(sti_df, yf_df[['Adj Close']], how='left', left_index=True, right_index=True)\n",
    "sti_df.fillna(method='ffill', inplace=True)\n",
    "sti_df.columns = ['sti']\n",
    "\n",
    "# add sti values to train and test data\n",
    "scaler = MinMaxScaler()\n",
    "sti_df.loc[:,'sti'] = scaler.fit_transform(sti_df['sti'].values.reshape(-1, 1))\n",
    "# find closest date to rent_approval_date\n",
    "train_df['rent_approval_date'] = pd.to_datetime(train_df['rent_approval_date'])\n",
    "test_df['rent_approval_date'] = pd.to_datetime(test_df['rent_approval_date'])\n",
    "train_df['rent_approval_date'] = train_df['rent_approval_date'].dt.date\n",
    "test_df['rent_approval_date'] = test_df['rent_approval_date'].dt.date\n",
    "sti_df.index = sti_df.index.date\n",
    "train_df['sti'] = train_df['rent_approval_date'].map(sti_df['sti'])\n",
    "test_df['sti'] = test_df['rent_approval_date'].map(sti_df['sti'])"
   ]
  },
  {
   "cell_type": "markdown",
   "metadata": {},
   "source": [
    "# COE Prices"
   ]
  },
  {
   "cell_type": "code",
   "execution_count": 5,
   "metadata": {},
   "outputs": [
    {
     "name": "stdout",
     "output_type": "stream",
     "text": [
      "['a' 'b' 'c' 'e']\n"
     ]
    }
   ],
   "source": [
    "coe_df = pd.read_csv('./data/auxiliary-data/sg-coe-prices.csv')\n",
    "\n",
    "coe_df['date'] = (pd.to_datetime(coe_df['year'].astype(str)  + coe_df['month'], format='%Y%B'))\n",
    "coe_df.loc[coe_df['bidding']==2, 'date'] += pd.DateOffset(days=15)\n",
    "\n",
    "coe_df['date'] = (pd.to_datetime(coe_df['year'].astype(str)  + coe_df['month'], format='%Y%B'))\n",
    "print(coe_df['category'].unique())\n",
    "coe_cal_date_df = pd.DataFrame({'price': np.nan}, index=pd.date_range(start_date, end_date, freq='d'))\n",
    "for date in coe_df.loc[coe_df['category'] == 'e', 'date'].unique():\n",
    "    coe_cal_date_df.loc[date, 'price'] = np.mean(coe_df.loc[(coe_df['category'] == 'e') & (coe_df['date'] == date), 'price'])\n",
    "coe_cal_date_df.fillna(method='ffill', inplace=True)\n",
    "coe_cal_date_df.columns = ['coe']\n",
    "coe_cal_date_df.dropna(inplace=True)\n",
    "\n",
    "# add coe values to train and test data\n",
    "scaler = MinMaxScaler()\n",
    "coe_cal_date_df.loc[:,'coe'] = scaler.fit_transform(coe_cal_date_df['coe'].values.reshape(-1, 1))\n",
    "# find closest date to rent_approval_date\n",
    "train_df['rent_approval_date'] = pd.to_datetime(train_df['rent_approval_date'])\n",
    "test_df['rent_approval_date'] = pd.to_datetime(test_df['rent_approval_date'])\n",
    "train_df['rent_approval_date'] = train_df['rent_approval_date'].dt.date\n",
    "test_df['rent_approval_date'] = test_df['rent_approval_date'].dt.date\n",
    "coe_cal_date_df.index = coe_cal_date_df.index.date\n",
    "train_df['coe'] = train_df['rent_approval_date'].map(coe_cal_date_df['coe'])\n",
    "test_df['coe'] = test_df['rent_approval_date'].map(coe_cal_date_df['coe'])"
   ]
  },
  {
   "cell_type": "markdown",
   "metadata": {},
   "source": [
    "# Age"
   ]
  },
  {
   "cell_type": "code",
   "execution_count": 6,
   "metadata": {},
   "outputs": [],
   "source": [
    "train_df['rent_approval_date'] = train_df['rent_approval_date'].astype(\"datetime64[ns]\")\n",
    "train_df[\"lease_commence_date\"] = pd.to_datetime(train_df[\"lease_commence_date\"].astype(str), format='%Y')#.astype('datetime64[ns]')\n",
    "train_df[\"age\"] = (train_df[\"rent_approval_date\"] - train_df[\"lease_commence_date\"])/np.timedelta64(1, 'Y')\n",
    "\n",
    "test_df['rent_approval_date'] = test_df['rent_approval_date'].astype(\"datetime64[ns]\")\n",
    "test_df[\"lease_commence_date\"] = pd.to_datetime(test_df[\"lease_commence_date\"].astype(str), format='%Y')#.astype('datetime64[ns]')\n",
    "test_df[\"age\"] = (test_df[\"rent_approval_date\"] - test_df[\"lease_commence_date\"])/np.timedelta64(1, 'Y')\n",
    "\n",
    "train_df.drop(['rent_approval_date', 'lease_commence_date'], axis=1, inplace=True)\n",
    "test_df.drop(['rent_approval_date', 'lease_commence_date'], axis=1, inplace=True)"
   ]
  },
  {
   "cell_type": "markdown",
   "metadata": {},
   "source": [
    "# Proximity to malls"
   ]
  },
  {
   "cell_type": "code",
   "execution_count": 7,
   "metadata": {},
   "outputs": [],
   "source": [
    "#Proximity to malls\n",
    "mall_df = pd.read_csv('./data/auxiliary-data/sg-shopping-malls.csv')\n",
    "mall_df['lat_rads'] = np.radians(mall_df['latitude'])\n",
    "mall_df['long_rads'] = np.radians(mall_df['longitude'])\n",
    "distance = haversine_distances(train_df[['lat_rads', 'long_rads']], mall_df[['lat_rads', 'long_rads']])\n",
    "distance = distance * 6371000/1000  # multiply by Earth radius to get kilometers\n",
    "train_df['shortest_dist_mall'] = distance.min(axis=1)\n",
    "distance = haversine_distances(test_df[['lat_rads', 'long_rads']], mall_df[['lat_rads', 'long_rads']])\n",
    "distance = distance * 6371000/1000  # multiply by Earth radius to get kilometers\n",
    "test_df['shortest_dist_mall'] = distance.min(axis=1)\n",
    "\n",
    "#Proximity to MRT Stations\n",
    "existing_mrt_df = pd.read_csv('./data/auxiliary-data/sg-mrt-existing-stations.csv')\n",
    "existing_mrt_df['lat_rads'] = np.radians(existing_mrt_df['latitude'])\n",
    "existing_mrt_df['long_rads'] = np.radians(existing_mrt_df['longitude'])\n",
    "distance = haversine_distances(train_df[['lat_rads', 'long_rads']], existing_mrt_df[['lat_rads', 'long_rads']])\n",
    "distance = distance * 6371000/1000  # multiply by Earth radius to get kilometers\n",
    "train_df['shortest_ex_mrt'] = distance.min(axis=1)\n",
    "distance = haversine_distances(test_df[['lat_rads', 'long_rads']], existing_mrt_df[['lat_rads', 'long_rads']])\n",
    "distance = distance * 6371000/1000  # multiply by Earth radius to get kilometers\n",
    "test_df['shortest_ex_mrt'] = distance.min(axis=1)\n",
    "\n",
    "#Proximity to MRT Stations\n",
    "planned_mrt_df = pd.read_csv('./data/auxiliary-data/sg-mrt-existing-stations.csv')\n",
    "planned_mrt_df['lat_rads'] = np.radians(planned_mrt_df['latitude'])\n",
    "planned_mrt_df['long_rads'] = np.radians(planned_mrt_df['longitude'])\n",
    "distance = haversine_distances(train_df[['lat_rads', 'long_rads']], planned_mrt_df[['lat_rads', 'long_rads']])\n",
    "distance = distance * 6371000/1000  # multiply by Earth radius to get kilometers\n",
    "train_df['shortest_pl_mrt'] = distance.min(axis=1)\n",
    "distance = haversine_distances(test_df[['lat_rads', 'long_rads']], planned_mrt_df[['lat_rads', 'long_rads']])\n",
    "distance = distance * 6371000/1000  # multiply by Earth radius to get kilometers\n",
    "test_df['shortest_pl_mrt'] = distance.min(axis=1)"
   ]
  },
  {
   "cell_type": "markdown",
   "metadata": {},
   "source": [
    "# Check if there is still any categorical features"
   ]
  },
  {
   "cell_type": "code",
   "execution_count": 8,
   "metadata": {},
   "outputs": [
    {
     "data": {
      "text/plain": [
       "Series([], dtype: object)"
      ]
     },
     "execution_count": 8,
     "metadata": {},
     "output_type": "execute_result"
    }
   ],
   "source": [
    "train_df.dtypes[train_df.dtypes != 'int64'][train_df.dtypes != 'float64']"
   ]
  },
  {
   "cell_type": "code",
   "execution_count": 9,
   "metadata": {},
   "outputs": [
    {
     "data": {
      "text/plain": [
       "Series([], dtype: object)"
      ]
     },
     "execution_count": 9,
     "metadata": {},
     "output_type": "execute_result"
    }
   ],
   "source": [
    "test_df.dtypes[test_df.dtypes != 'int64'][test_df.dtypes != 'float64']"
   ]
  },
  {
   "cell_type": "markdown",
   "metadata": {},
   "source": [
    "# To csv"
   ]
  },
  {
   "cell_type": "code",
   "execution_count": 10,
   "metadata": {},
   "outputs": [],
   "source": [
    "train_df['monthly_rent'] = train_y"
   ]
  },
  {
   "cell_type": "code",
   "execution_count": 11,
   "metadata": {},
   "outputs": [
    {
     "data": {
      "text/plain": [
       "(30000, 62)"
      ]
     },
     "execution_count": 11,
     "metadata": {},
     "output_type": "execute_result"
    }
   ],
   "source": [
    "test_df.shape"
   ]
  },
  {
   "cell_type": "code",
   "execution_count": 12,
   "metadata": {},
   "outputs": [
    {
     "data": {
      "text/plain": [
       "(59727, 63)"
      ]
     },
     "execution_count": 12,
     "metadata": {},
     "output_type": "execute_result"
    }
   ],
   "source": [
    "train_df.shape"
   ]
  },
  {
   "cell_type": "code",
   "execution_count": 13,
   "metadata": {},
   "outputs": [
    {
     "data": {
      "text/html": [
       "<div>\n",
       "<style scoped>\n",
       "    .dataframe tbody tr th:only-of-type {\n",
       "        vertical-align: middle;\n",
       "    }\n",
       "\n",
       "    .dataframe tbody tr th {\n",
       "        vertical-align: top;\n",
       "    }\n",
       "\n",
       "    .dataframe thead th {\n",
       "        text-align: right;\n",
       "    }\n",
       "</style>\n",
       "<table border=\"1\" class=\"dataframe\">\n",
       "  <thead>\n",
       "    <tr style=\"text-align: right;\">\n",
       "      <th></th>\n",
       "      <th>floor_area_sqm</th>\n",
       "      <th>planning_area_jurong east</th>\n",
       "      <th>planning_area_bedok</th>\n",
       "      <th>planning_area_toa payoh</th>\n",
       "      <th>planning_area_pasir ris</th>\n",
       "      <th>planning_area_kallang</th>\n",
       "      <th>planning_area_bukit panjang</th>\n",
       "      <th>planning_area_sengkang</th>\n",
       "      <th>planning_area_ang mo kio</th>\n",
       "      <th>planning_area_bishan</th>\n",
       "      <th>...</th>\n",
       "      <th>flat_model_3gen</th>\n",
       "      <th>lat_rads</th>\n",
       "      <th>long_rads</th>\n",
       "      <th>sti</th>\n",
       "      <th>coe</th>\n",
       "      <th>age</th>\n",
       "      <th>shortest_dist_mall</th>\n",
       "      <th>shortest_ex_mrt</th>\n",
       "      <th>shortest_pl_mrt</th>\n",
       "      <th>monthly_rent</th>\n",
       "    </tr>\n",
       "  </thead>\n",
       "  <tbody>\n",
       "    <tr>\n",
       "      <th>0</th>\n",
       "      <td>67.0</td>\n",
       "      <td>1</td>\n",
       "      <td>0</td>\n",
       "      <td>0</td>\n",
       "      <td>0</td>\n",
       "      <td>0</td>\n",
       "      <td>0</td>\n",
       "      <td>0</td>\n",
       "      <td>0</td>\n",
       "      <td>0</td>\n",
       "      <td>...</td>\n",
       "      <td>0</td>\n",
       "      <td>0.023466</td>\n",
       "      <td>1.810581</td>\n",
       "      <td>0.405905</td>\n",
       "      <td>0.258731</td>\n",
       "      <td>38.667461</td>\n",
       "      <td>1.202674</td>\n",
       "      <td>0.699127</td>\n",
       "      <td>0.699127</td>\n",
       "      <td>1600</td>\n",
       "    </tr>\n",
       "    <tr>\n",
       "      <th>1</th>\n",
       "      <td>92.0</td>\n",
       "      <td>0</td>\n",
       "      <td>1</td>\n",
       "      <td>0</td>\n",
       "      <td>0</td>\n",
       "      <td>0</td>\n",
       "      <td>0</td>\n",
       "      <td>0</td>\n",
       "      <td>0</td>\n",
       "      <td>0</td>\n",
       "      <td>...</td>\n",
       "      <td>0</td>\n",
       "      <td>0.023216</td>\n",
       "      <td>1.814073</td>\n",
       "      <td>0.853443</td>\n",
       "      <td>0.597983</td>\n",
       "      <td>44.329452</td>\n",
       "      <td>1.114338</td>\n",
       "      <td>0.898991</td>\n",
       "      <td>0.898991</td>\n",
       "      <td>2250</td>\n",
       "    </tr>\n",
       "    <tr>\n",
       "      <th>2</th>\n",
       "      <td>67.0</td>\n",
       "      <td>0</td>\n",
       "      <td>0</td>\n",
       "      <td>1</td>\n",
       "      <td>0</td>\n",
       "      <td>0</td>\n",
       "      <td>0</td>\n",
       "      <td>0</td>\n",
       "      <td>0</td>\n",
       "      <td>0</td>\n",
       "      <td>...</td>\n",
       "      <td>0</td>\n",
       "      <td>0.023252</td>\n",
       "      <td>1.812448</td>\n",
       "      <td>0.476430</td>\n",
       "      <td>0.766542</td>\n",
       "      <td>51.749180</td>\n",
       "      <td>0.468297</td>\n",
       "      <td>0.218603</td>\n",
       "      <td>0.218603</td>\n",
       "      <td>1900</td>\n",
       "    </tr>\n",
       "    <tr>\n",
       "      <th>3</th>\n",
       "      <td>149.0</td>\n",
       "      <td>0</td>\n",
       "      <td>0</td>\n",
       "      <td>0</td>\n",
       "      <td>1</td>\n",
       "      <td>0</td>\n",
       "      <td>0</td>\n",
       "      <td>0</td>\n",
       "      <td>0</td>\n",
       "      <td>0</td>\n",
       "      <td>...</td>\n",
       "      <td>0</td>\n",
       "      <td>0.023915</td>\n",
       "      <td>1.814495</td>\n",
       "      <td>0.537475</td>\n",
       "      <td>0.192568</td>\n",
       "      <td>28.581011</td>\n",
       "      <td>0.402359</td>\n",
       "      <td>1.546040</td>\n",
       "      <td>1.546040</td>\n",
       "      <td>2850</td>\n",
       "    </tr>\n",
       "    <tr>\n",
       "      <th>4</th>\n",
       "      <td>68.0</td>\n",
       "      <td>0</td>\n",
       "      <td>0</td>\n",
       "      <td>0</td>\n",
       "      <td>0</td>\n",
       "      <td>1</td>\n",
       "      <td>0</td>\n",
       "      <td>0</td>\n",
       "      <td>0</td>\n",
       "      <td>0</td>\n",
       "      <td>...</td>\n",
       "      <td>0</td>\n",
       "      <td>0.023047</td>\n",
       "      <td>1.812757</td>\n",
       "      <td>0.476863</td>\n",
       "      <td>0.880567</td>\n",
       "      <td>50.834719</td>\n",
       "      <td>1.073354</td>\n",
       "      <td>0.187856</td>\n",
       "      <td>0.187856</td>\n",
       "      <td>2100</td>\n",
       "    </tr>\n",
       "  </tbody>\n",
       "</table>\n",
       "<p>5 rows × 63 columns</p>\n",
       "</div>"
      ],
      "text/plain": [
       "   floor_area_sqm  planning_area_jurong east  planning_area_bedok  \\\n",
       "0            67.0                          1                    0   \n",
       "1            92.0                          0                    1   \n",
       "2            67.0                          0                    0   \n",
       "3           149.0                          0                    0   \n",
       "4            68.0                          0                    0   \n",
       "\n",
       "   planning_area_toa payoh  planning_area_pasir ris  planning_area_kallang  \\\n",
       "0                        0                        0                      0   \n",
       "1                        0                        0                      0   \n",
       "2                        1                        0                      0   \n",
       "3                        0                        1                      0   \n",
       "4                        0                        0                      1   \n",
       "\n",
       "   planning_area_bukit panjang  planning_area_sengkang  \\\n",
       "0                            0                       0   \n",
       "1                            0                       0   \n",
       "2                            0                       0   \n",
       "3                            0                       0   \n",
       "4                            0                       0   \n",
       "\n",
       "   planning_area_ang mo kio  planning_area_bishan  ...  flat_model_3gen  \\\n",
       "0                         0                     0  ...                0   \n",
       "1                         0                     0  ...                0   \n",
       "2                         0                     0  ...                0   \n",
       "3                         0                     0  ...                0   \n",
       "4                         0                     0  ...                0   \n",
       "\n",
       "   lat_rads  long_rads       sti       coe        age  shortest_dist_mall  \\\n",
       "0  0.023466   1.810581  0.405905  0.258731  38.667461            1.202674   \n",
       "1  0.023216   1.814073  0.853443  0.597983  44.329452            1.114338   \n",
       "2  0.023252   1.812448  0.476430  0.766542  51.749180            0.468297   \n",
       "3  0.023915   1.814495  0.537475  0.192568  28.581011            0.402359   \n",
       "4  0.023047   1.812757  0.476863  0.880567  50.834719            1.073354   \n",
       "\n",
       "   shortest_ex_mrt  shortest_pl_mrt  monthly_rent  \n",
       "0         0.699127         0.699127          1600  \n",
       "1         0.898991         0.898991          2250  \n",
       "2         0.218603         0.218603          1900  \n",
       "3         1.546040         1.546040          2850  \n",
       "4         0.187856         0.187856          2100  \n",
       "\n",
       "[5 rows x 63 columns]"
      ]
     },
     "execution_count": 13,
     "metadata": {},
     "output_type": "execute_result"
    }
   ],
   "source": [
    "train_df.head()"
   ]
  },
  {
   "cell_type": "code",
   "execution_count": 14,
   "metadata": {},
   "outputs": [
    {
     "data": {
      "text/html": [
       "<div>\n",
       "<style scoped>\n",
       "    .dataframe tbody tr th:only-of-type {\n",
       "        vertical-align: middle;\n",
       "    }\n",
       "\n",
       "    .dataframe tbody tr th {\n",
       "        vertical-align: top;\n",
       "    }\n",
       "\n",
       "    .dataframe thead th {\n",
       "        text-align: right;\n",
       "    }\n",
       "</style>\n",
       "<table border=\"1\" class=\"dataframe\">\n",
       "  <thead>\n",
       "    <tr style=\"text-align: right;\">\n",
       "      <th></th>\n",
       "      <th>floor_area_sqm</th>\n",
       "      <th>planning_area_jurong east</th>\n",
       "      <th>planning_area_bedok</th>\n",
       "      <th>planning_area_toa payoh</th>\n",
       "      <th>planning_area_pasir ris</th>\n",
       "      <th>planning_area_kallang</th>\n",
       "      <th>planning_area_bukit panjang</th>\n",
       "      <th>planning_area_sengkang</th>\n",
       "      <th>planning_area_ang mo kio</th>\n",
       "      <th>planning_area_bishan</th>\n",
       "      <th>...</th>\n",
       "      <th>flat_model_terrace</th>\n",
       "      <th>flat_model_3gen</th>\n",
       "      <th>lat_rads</th>\n",
       "      <th>long_rads</th>\n",
       "      <th>sti</th>\n",
       "      <th>coe</th>\n",
       "      <th>age</th>\n",
       "      <th>shortest_dist_mall</th>\n",
       "      <th>shortest_ex_mrt</th>\n",
       "      <th>shortest_pl_mrt</th>\n",
       "    </tr>\n",
       "  </thead>\n",
       "  <tbody>\n",
       "    <tr>\n",
       "      <th>0</th>\n",
       "      <td>121.0</td>\n",
       "      <td>0</td>\n",
       "      <td>0</td>\n",
       "      <td>0</td>\n",
       "      <td>0</td>\n",
       "      <td>0</td>\n",
       "      <td>0</td>\n",
       "      <td>0</td>\n",
       "      <td>0</td>\n",
       "      <td>0</td>\n",
       "      <td>...</td>\n",
       "      <td>0</td>\n",
       "      <td>0</td>\n",
       "      <td>0.023709</td>\n",
       "      <td>1.813253</td>\n",
       "      <td>0.677828</td>\n",
       "      <td>0.778767</td>\n",
       "      <td>39.001485</td>\n",
       "      <td>0.739403</td>\n",
       "      <td>0.820333</td>\n",
       "      <td>0.820333</td>\n",
       "    </tr>\n",
       "    <tr>\n",
       "      <th>1</th>\n",
       "      <td>100.0</td>\n",
       "      <td>0</td>\n",
       "      <td>0</td>\n",
       "      <td>0</td>\n",
       "      <td>0</td>\n",
       "      <td>0</td>\n",
       "      <td>0</td>\n",
       "      <td>0</td>\n",
       "      <td>0</td>\n",
       "      <td>0</td>\n",
       "      <td>...</td>\n",
       "      <td>0</td>\n",
       "      <td>0</td>\n",
       "      <td>0.025243</td>\n",
       "      <td>1.812015</td>\n",
       "      <td>0.632518</td>\n",
       "      <td>0.815156</td>\n",
       "      <td>23.666468</td>\n",
       "      <td>0.254920</td>\n",
       "      <td>0.307784</td>\n",
       "      <td>0.307784</td>\n",
       "    </tr>\n",
       "    <tr>\n",
       "      <th>2</th>\n",
       "      <td>91.0</td>\n",
       "      <td>0</td>\n",
       "      <td>0</td>\n",
       "      <td>0</td>\n",
       "      <td>0</td>\n",
       "      <td>0</td>\n",
       "      <td>0</td>\n",
       "      <td>0</td>\n",
       "      <td>0</td>\n",
       "      <td>0</td>\n",
       "      <td>...</td>\n",
       "      <td>0</td>\n",
       "      <td>0</td>\n",
       "      <td>0.022789</td>\n",
       "      <td>1.810991</td>\n",
       "      <td>0.602295</td>\n",
       "      <td>0.961789</td>\n",
       "      <td>43.497129</td>\n",
       "      <td>0.497670</td>\n",
       "      <td>1.097689</td>\n",
       "      <td>1.097689</td>\n",
       "    </tr>\n",
       "    <tr>\n",
       "      <th>3</th>\n",
       "      <td>74.0</td>\n",
       "      <td>1</td>\n",
       "      <td>0</td>\n",
       "      <td>0</td>\n",
       "      <td>0</td>\n",
       "      <td>0</td>\n",
       "      <td>0</td>\n",
       "      <td>0</td>\n",
       "      <td>0</td>\n",
       "      <td>0</td>\n",
       "      <td>...</td>\n",
       "      <td>0</td>\n",
       "      <td>0</td>\n",
       "      <td>0.023472</td>\n",
       "      <td>1.810444</td>\n",
       "      <td>0.537475</td>\n",
       "      <td>0.192568</td>\n",
       "      <td>35.581839</td>\n",
       "      <td>1.596397</td>\n",
       "      <td>0.362810</td>\n",
       "      <td>0.362810</td>\n",
       "    </tr>\n",
       "    <tr>\n",
       "      <th>4</th>\n",
       "      <td>121.0</td>\n",
       "      <td>1</td>\n",
       "      <td>0</td>\n",
       "      <td>0</td>\n",
       "      <td>0</td>\n",
       "      <td>0</td>\n",
       "      <td>0</td>\n",
       "      <td>0</td>\n",
       "      <td>0</td>\n",
       "      <td>0</td>\n",
       "      <td>...</td>\n",
       "      <td>0</td>\n",
       "      <td>0</td>\n",
       "      <td>0.023482</td>\n",
       "      <td>1.810521</td>\n",
       "      <td>0.723253</td>\n",
       "      <td>0.668588</td>\n",
       "      <td>39.163022</td>\n",
       "      <td>1.461487</td>\n",
       "      <td>0.448980</td>\n",
       "      <td>0.448980</td>\n",
       "    </tr>\n",
       "  </tbody>\n",
       "</table>\n",
       "<p>5 rows × 62 columns</p>\n",
       "</div>"
      ],
      "text/plain": [
       "   floor_area_sqm  planning_area_jurong east  planning_area_bedok  \\\n",
       "0           121.0                          0                    0   \n",
       "1           100.0                          0                    0   \n",
       "2            91.0                          0                    0   \n",
       "3            74.0                          1                    0   \n",
       "4           121.0                          1                    0   \n",
       "\n",
       "   planning_area_toa payoh  planning_area_pasir ris  planning_area_kallang  \\\n",
       "0                        0                        0                      0   \n",
       "1                        0                        0                      0   \n",
       "2                        0                        0                      0   \n",
       "3                        0                        0                      0   \n",
       "4                        0                        0                      0   \n",
       "\n",
       "   planning_area_bukit panjang  planning_area_sengkang  \\\n",
       "0                            0                       0   \n",
       "1                            0                       0   \n",
       "2                            0                       0   \n",
       "3                            0                       0   \n",
       "4                            0                       0   \n",
       "\n",
       "   planning_area_ang mo kio  planning_area_bishan  ...  flat_model_terrace  \\\n",
       "0                         0                     0  ...                   0   \n",
       "1                         0                     0  ...                   0   \n",
       "2                         0                     0  ...                   0   \n",
       "3                         0                     0  ...                   0   \n",
       "4                         0                     0  ...                   0   \n",
       "\n",
       "   flat_model_3gen  lat_rads  long_rads       sti       coe        age  \\\n",
       "0                0  0.023709   1.813253  0.677828  0.778767  39.001485   \n",
       "1                0  0.025243   1.812015  0.632518  0.815156  23.666468   \n",
       "2                0  0.022789   1.810991  0.602295  0.961789  43.497129   \n",
       "3                0  0.023472   1.810444  0.537475  0.192568  35.581839   \n",
       "4                0  0.023482   1.810521  0.723253  0.668588  39.163022   \n",
       "\n",
       "   shortest_dist_mall  shortest_ex_mrt  shortest_pl_mrt  \n",
       "0            0.739403         0.820333         0.820333  \n",
       "1            0.254920         0.307784         0.307784  \n",
       "2            0.497670         1.097689         1.097689  \n",
       "3            1.596397         0.362810         0.362810  \n",
       "4            1.461487         0.448980         0.448980  \n",
       "\n",
       "[5 rows x 62 columns]"
      ]
     },
     "execution_count": 14,
     "metadata": {},
     "output_type": "execute_result"
    }
   ],
   "source": [
    "test_df.head()"
   ]
  },
  {
   "cell_type": "code",
   "execution_count": 15,
   "metadata": {},
   "outputs": [],
   "source": [
    "train_df.to_csv('./data/train_svm.csv', index=False)\n",
    "test_df.to_csv('./data/test_svm.csv', index=False)"
   ]
  },
  {
   "cell_type": "code",
   "execution_count": 16,
   "metadata": {},
   "outputs": [
    {
     "data": {
      "text/plain": [
       "((30000, 62), (59727, 63))"
      ]
     },
     "execution_count": 16,
     "metadata": {},
     "output_type": "execute_result"
    }
   ],
   "source": [
    "test_df.shape, train_df.shape"
   ]
  }
 ],
 "metadata": {
  "kernelspec": {
   "display_name": "Python 3 (ipykernel)",
   "language": "python",
   "name": "python3"
  },
  "language_info": {
   "codemirror_mode": {
    "name": "ipython",
    "version": 3
   },
   "file_extension": ".py",
   "mimetype": "text/x-python",
   "name": "python",
   "nbconvert_exporter": "python",
   "pygments_lexer": "ipython3",
   "version": "3.9.16"
  }
 },
 "nbformat": 4,
 "nbformat_minor": 2
}
