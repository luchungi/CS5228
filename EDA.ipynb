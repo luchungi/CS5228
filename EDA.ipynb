{
 "cells": [
  {
   "cell_type": "code",
   "execution_count": 1,
   "metadata": {},
   "outputs": [],
   "source": [
    "import numpy as np\n",
    "import pandas as pd\n",
    "import matplotlib.pyplot as plt\n",
    "\n",
    "from sklearn.preprocessing import KBinsDiscretizer"
   ]
  },
  {
   "cell_type": "code",
   "execution_count": 2,
   "metadata": {},
   "outputs": [
    {
     "data": {
      "text/html": [
       "<div>\n",
       "<style scoped>\n",
       "    .dataframe tbody tr th:only-of-type {\n",
       "        vertical-align: middle;\n",
       "    }\n",
       "\n",
       "    .dataframe tbody tr th {\n",
       "        vertical-align: top;\n",
       "    }\n",
       "\n",
       "    .dataframe thead th {\n",
       "        text-align: right;\n",
       "    }\n",
       "</style>\n",
       "<table border=\"1\" class=\"dataframe\">\n",
       "  <thead>\n",
       "    <tr style=\"text-align: right;\">\n",
       "      <th></th>\n",
       "      <th>rent_approval_date</th>\n",
       "      <th>town</th>\n",
       "      <th>block</th>\n",
       "      <th>street_name</th>\n",
       "      <th>flat_type</th>\n",
       "      <th>flat_model</th>\n",
       "      <th>floor_area_sqm</th>\n",
       "      <th>furnished</th>\n",
       "      <th>lease_commence_date</th>\n",
       "      <th>latitude</th>\n",
       "      <th>longitude</th>\n",
       "      <th>elevation</th>\n",
       "      <th>subzone</th>\n",
       "      <th>planning_area</th>\n",
       "      <th>region</th>\n",
       "      <th>monthly_rent</th>\n",
       "    </tr>\n",
       "  </thead>\n",
       "  <tbody>\n",
       "    <tr>\n",
       "      <th>0</th>\n",
       "      <td>2021-09</td>\n",
       "      <td>jurong east</td>\n",
       "      <td>257</td>\n",
       "      <td>Jurong East Street 24</td>\n",
       "      <td>3 room</td>\n",
       "      <td>new generation</td>\n",
       "      <td>67.0</td>\n",
       "      <td>yes</td>\n",
       "      <td>1983</td>\n",
       "      <td>1.344518</td>\n",
       "      <td>103.738630</td>\n",
       "      <td>0.0</td>\n",
       "      <td>yuhua east</td>\n",
       "      <td>jurong east</td>\n",
       "      <td>west region</td>\n",
       "      <td>1600</td>\n",
       "    </tr>\n",
       "    <tr>\n",
       "      <th>1</th>\n",
       "      <td>2022-05</td>\n",
       "      <td>bedok</td>\n",
       "      <td>119</td>\n",
       "      <td>bedok north road</td>\n",
       "      <td>4-room</td>\n",
       "      <td>new generation</td>\n",
       "      <td>92.0</td>\n",
       "      <td>yes</td>\n",
       "      <td>1978</td>\n",
       "      <td>1.330186</td>\n",
       "      <td>103.938717</td>\n",
       "      <td>0.0</td>\n",
       "      <td>bedok north</td>\n",
       "      <td>bedok</td>\n",
       "      <td>east region</td>\n",
       "      <td>2250</td>\n",
       "    </tr>\n",
       "    <tr>\n",
       "      <th>2</th>\n",
       "      <td>2022-10</td>\n",
       "      <td>toa payoh</td>\n",
       "      <td>157</td>\n",
       "      <td>lorong 1 toa payoh</td>\n",
       "      <td>3-room</td>\n",
       "      <td>improved</td>\n",
       "      <td>67.0</td>\n",
       "      <td>yes</td>\n",
       "      <td>1971</td>\n",
       "      <td>1.332242</td>\n",
       "      <td>103.845643</td>\n",
       "      <td>0.0</td>\n",
       "      <td>toa payoh central</td>\n",
       "      <td>toa payoh</td>\n",
       "      <td>central region</td>\n",
       "      <td>1900</td>\n",
       "    </tr>\n",
       "    <tr>\n",
       "      <th>3</th>\n",
       "      <td>2021-08</td>\n",
       "      <td>pasir ris</td>\n",
       "      <td>250</td>\n",
       "      <td>Pasir Ris Street 21</td>\n",
       "      <td>executive</td>\n",
       "      <td>apartment</td>\n",
       "      <td>149.0</td>\n",
       "      <td>yes</td>\n",
       "      <td>1993</td>\n",
       "      <td>1.370239</td>\n",
       "      <td>103.962894</td>\n",
       "      <td>0.0</td>\n",
       "      <td>pasir ris drive</td>\n",
       "      <td>pasir ris</td>\n",
       "      <td>east region</td>\n",
       "      <td>2850</td>\n",
       "    </tr>\n",
       "    <tr>\n",
       "      <th>4</th>\n",
       "      <td>2022-11</td>\n",
       "      <td>kallang/whampoa</td>\n",
       "      <td>34</td>\n",
       "      <td>Whampoa West</td>\n",
       "      <td>3-room</td>\n",
       "      <td>improved</td>\n",
       "      <td>68.0</td>\n",
       "      <td>yes</td>\n",
       "      <td>1972</td>\n",
       "      <td>1.320502</td>\n",
       "      <td>103.863341</td>\n",
       "      <td>0.0</td>\n",
       "      <td>bendemeer</td>\n",
       "      <td>kallang</td>\n",
       "      <td>central region</td>\n",
       "      <td>2100</td>\n",
       "    </tr>\n",
       "  </tbody>\n",
       "</table>\n",
       "</div>"
      ],
      "text/plain": [
       "  rent_approval_date             town block            street_name  flat_type  \\\n",
       "0            2021-09      jurong east   257  Jurong East Street 24     3 room   \n",
       "1            2022-05            bedok   119       bedok north road     4-room   \n",
       "2            2022-10        toa payoh   157     lorong 1 toa payoh     3-room   \n",
       "3            2021-08        pasir ris   250    Pasir Ris Street 21  executive   \n",
       "4            2022-11  kallang/whampoa    34           Whampoa West     3-room   \n",
       "\n",
       "       flat_model  floor_area_sqm furnished  lease_commence_date  latitude  \\\n",
       "0  new generation            67.0       yes                 1983  1.344518   \n",
       "1  new generation            92.0       yes                 1978  1.330186   \n",
       "2        improved            67.0       yes                 1971  1.332242   \n",
       "3       apartment           149.0       yes                 1993  1.370239   \n",
       "4        improved            68.0       yes                 1972  1.320502   \n",
       "\n",
       "    longitude  elevation            subzone planning_area          region  \\\n",
       "0  103.738630        0.0         yuhua east   jurong east     west region   \n",
       "1  103.938717        0.0        bedok north         bedok     east region   \n",
       "2  103.845643        0.0  toa payoh central     toa payoh  central region   \n",
       "3  103.962894        0.0    pasir ris drive     pasir ris     east region   \n",
       "4  103.863341        0.0          bendemeer       kallang  central region   \n",
       "\n",
       "   monthly_rent  \n",
       "0          1600  \n",
       "1          2250  \n",
       "2          1900  \n",
       "3          2850  \n",
       "4          2100  "
      ]
     },
     "execution_count": 2,
     "metadata": {},
     "output_type": "execute_result"
    }
   ],
   "source": [
    "train_df = pd.read_csv('./data/train.csv')\n",
    "train_df.head()"
   ]
  },
  {
   "cell_type": "code",
   "execution_count": 3,
   "metadata": {},
   "outputs": [
    {
     "name": "stdout",
     "output_type": "stream",
     "text": [
      "Number of records before dropping duplicates: 60000\n",
      "Number of records after dropping duplicates: 59727\n"
     ]
    }
   ],
   "source": [
    "# Check number of records before and after dropping duplicates\n",
    "print('Number of records before dropping duplicates: {}'.format(train_df.shape[0]))\n",
    "train_df.drop_duplicates(inplace=True)\n",
    "print('Number of records after dropping duplicates: {}'.format(train_df.shape[0]))"
   ]
  },
  {
   "cell_type": "markdown",
   "metadata": {},
   "source": [
    "# Analyse the categorical variables"
   ]
  },
  {
   "cell_type": "code",
   "execution_count": 4,
   "metadata": {},
   "outputs": [
    {
     "name": "stdout",
     "output_type": "stream",
     "text": [
      "Number of unique values in 'town': 26\n",
      "Unique values in 'town': ['ang mo kio' 'bedok' 'bishan' 'bukit batok' 'bukit merah' 'bukit panjang'\n",
      " 'bukit timah' 'central' 'choa chu kang' 'clementi' 'geylang' 'hougang'\n",
      " 'jurong east' 'jurong west' 'kallang/whampoa' 'marine parade' 'pasir ris'\n",
      " 'punggol' 'queenstown' 'sembawang' 'sengkang' 'serangoon' 'tampines'\n",
      " 'toa payoh' 'woodlands' 'yishun']\n",
      "--------------------------------------\n",
      "Number of unique values in 'street_name': 1083\n",
      "Unique values in 'street_name': ['Admiralty Drive' 'Admiralty Link' 'Ah Hood Road' ... 'yung ping road'\n",
      " 'yung sheng road' 'zion road']\n",
      "--------------------------------------\n",
      "Number of unique values in 'flat_type': 9\n",
      "Unique values in 'flat_type': ['2 room' '2-room' '3 room' '3-room' '4 room' '4-room' '5 room' '5-room'\n",
      " 'executive']\n",
      "--------------------------------------\n",
      "Number of unique values in 'flat_model': 19\n",
      "Unique values in 'flat_model': ['2-room' '3gen' 'adjoined flat' 'apartment' 'dbss' 'improved'\n",
      " 'maisonette' 'model a' 'model a-maisonette' 'model a2' 'new generation'\n",
      " 'premium apartment' 'premium apartment loft' 'premium maisonette'\n",
      " 'simplified' 'standard' 'terrace' 'type s1' 'type s2']\n",
      "--------------------------------------\n",
      "Number of unique values in 'furnished': 1\n",
      "Unique values in 'furnished': ['yes']\n",
      "--------------------------------------\n",
      "Number of unique values in 'subzone': 152\n",
      "Unique values in 'subzone': ['admiralty' 'alexandra hill' 'aljunied' 'anak bukit' 'anchorvale'\n",
      " 'ang mo kio town centre' 'balestier' 'bangkit' 'bedok north'\n",
      " 'bedok reservoir' 'bedok south' 'bencoolen' 'bendemeer' 'bishan east'\n",
      " 'boon keng' 'boon lay place' 'boon teck' 'braddell' 'brickworks' 'bugis'\n",
      " 'bukit batok central' 'bukit batok east' 'bukit batok south'\n",
      " 'bukit batok west' 'bukit ho swee' 'bukit merah' 'cheng san'\n",
      " 'china square' 'chinatown' 'choa chu kang central' 'choa chu kang north'\n",
      " 'chong boon' 'city hall' 'clementi central' 'clementi north'\n",
      " 'clementi west' 'clementi woods' 'commonwealth' 'compassvale' 'crawford'\n",
      " 'depot road' 'dover' 'everton park' 'fajar' 'farrer park' 'fernvale'\n",
      " 'frankel' 'geylang bahru' 'geylang east' 'ghim moh' 'gombak' 'guilin'\n",
      " 'henderson hill' 'holland drive' 'hong kah' 'hong kah north'\n",
      " 'hougang central' 'hougang east' 'hougang west' 'jelebu' 'joo seng'\n",
      " 'jurong west central' 'kaki bukit' 'kampong bugis' 'kampong java'\n",
      " 'kampong tiong bahru' 'kampong ubi' 'kangkar' 'keat hong' 'kebun bahru'\n",
      " 'kembangan' 'khatib' 'kim keat' 'kovan' 'lavender' 'little india'\n",
      " 'lorong 8 toa payoh' 'lorong ah soo' 'lower seletar' 'macpherson'\n",
      " 'margaret drive' 'marine parade' 'marymount' 'matilda' 'mei chin'\n",
      " 'midview' 'moulmein' 'north coast' 'northland' 'pasir panjang 2'\n",
      " 'pasir ris central' 'pasir ris drive' 'pasir ris west' \"pearl's hill\"\n",
      " 'pei chun' 'peng siang' 'potong pasir' 'punggol field'\n",
      " 'punggol town centre' 'redhill' 'rivervale' 'saujana' 'sembawang central'\n",
      " 'sembawang east' 'sembawang north' 'sengkang town centre' 'senja'\n",
      " 'serangoon central' 'serangoon garden' 'serangoon north' 'shangri-la'\n",
      " 'simei' 'sungei road' 'sunset way' 'swiss club' 'tai seng' 'taman jurong'\n",
      " 'tampines east' 'tampines west' 'tanglin halt' 'tanjong rhu'\n",
      " 'teban gardens' 'teck whye' 'telok blangah drive' 'telok blangah rise'\n",
      " 'telok blangah way' 'tiong bahru' 'tiong bahru station'\n",
      " 'toa payoh central' 'toa payoh west' 'toh guan' 'townsville' 'trafalgar'\n",
      " 'ulu pandan' 'upper paya lebar' 'upper thomson' 'victoria'\n",
      " 'waterway east' 'wenya' 'woodgrove' 'woodlands east' 'woodlands south'\n",
      " 'woodlands west' 'yew tee' 'yio chu kang west' 'yishun central'\n",
      " 'yishun east' 'yishun south' 'yishun west' 'yuhua east' 'yuhua west'\n",
      " 'yunnan']\n",
      "--------------------------------------\n",
      "Number of unique values in 'planning_area': 29\n",
      "Unique values in 'planning_area': ['ang mo kio' 'bedok' 'bishan' 'bukit batok' 'bukit merah' 'bukit panjang'\n",
      " 'bukit timah' 'choa chu kang' 'clementi' 'downtown core' 'geylang'\n",
      " 'hougang' 'jurong east' 'jurong west' 'kallang' 'marine parade' 'novena'\n",
      " 'outram' 'pasir ris' 'punggol' 'queenstown' 'rochor' 'sembawang'\n",
      " 'sengkang' 'serangoon' 'tampines' 'toa payoh' 'woodlands' 'yishun']\n",
      "--------------------------------------\n",
      "Number of unique values in 'region': 5\n",
      "Unique values in 'region': ['central region' 'east region' 'north region' 'north-east region'\n",
      " 'west region']\n",
      "--------------------------------------\n"
     ]
    }
   ],
   "source": [
    "categoricals = ['town', 'street_name', 'flat_type', 'flat_model', 'furnished', 'subzone', 'planning_area', 'region']\n",
    "for cat in categoricals:\n",
    "    unique_values = train_df[cat].unique()\n",
    "    print(f'Number of unique values in \\'{cat}\\': {len(unique_values)}')\n",
    "    print(f'Unique values in \\'{cat}\\': {np.sort(unique_values)}')\n",
    "    print('--------------------------------------')"
   ]
  },
  {
   "cell_type": "markdown",
   "metadata": {},
   "source": [
    "Actions\n",
    "1. Drop 'furnished' since all have the same value\n",
    "2. Clean text to merge categories in 'flat_type' e.g. 5-room and 5 room "
   ]
  },
  {
   "cell_type": "code",
   "execution_count": 5,
   "metadata": {},
   "outputs": [],
   "source": [
    "train_df.drop(columns=['furnished'], inplace=True)\n",
    "train_df['flat_type'] = train_df['flat_type'].str.replace('-', ' ')"
   ]
  },
  {
   "cell_type": "code",
   "execution_count": 6,
   "metadata": {},
   "outputs": [
    {
     "data": {
      "text/plain": [
       "array(['3 room', '4 room', 'executive', '5 room', '2 room'], dtype=object)"
      ]
     },
     "execution_count": 6,
     "metadata": {},
     "output_type": "execute_result"
    }
   ],
   "source": [
    "train_df['flat_type'].unique()"
   ]
  },
  {
   "cell_type": "code",
   "execution_count": 7,
   "metadata": {},
   "outputs": [
    {
     "data": {
      "image/png": "[encoded data removed]",
      "text/plain": [
       "<Figure size 2000x1000 with 6 Axes>"
      ]
     },
     "metadata": {},
     "output_type": "display_data"
    }
   ],
   "source": [
    "categoricals = ['town', 'flat_type', 'flat_model', 'subzone', 'planning_area', 'region']\n",
    "n = 3\n",
    "fig,ax = plt.subplots(2, n, figsize=(20, 10))\n",
    "for i, cat in enumerate(categoricals):\n",
    "    unique_values, counts = np.unique(train_df[cat].values, return_counts=True)\n",
    "    ax[i//n, i%n].bar(np.arange(len(unique_values)), counts)\n",
    "    ax[i//n, i%n].set_title(cat)"
   ]
  },
  {
   "cell_type": "markdown",
   "metadata": {},
   "source": [
    "### Analyse low frequency towns"
   ]
  },
  {
   "cell_type": "code",
   "execution_count": 8,
   "metadata": {},
   "outputs": [
    {
     "name": "stdout",
     "output_type": "stream",
     "text": [
      "Lowest frequncy town is bukit timah with 56 counts\n"
     ]
    }
   ],
   "source": [
    "towns, counts = np.unique(train_df['town'].values, return_counts=True)\n",
    "print(f'Lowest frequncy town is {towns[counts.argmin()]} with {counts[counts.argmin()]} counts')"
   ]
  },
  {
   "cell_type": "markdown",
   "metadata": {},
   "source": [
    "# Analyse numerical variables"
   ]
  },
  {
   "cell_type": "code",
   "execution_count": 9,
   "metadata": {},
   "outputs": [
    {
     "data": {
      "text/html": [
       "<div>\n",
       "<style scoped>\n",
       "    .dataframe tbody tr th:only-of-type {\n",
       "        vertical-align: middle;\n",
       "    }\n",
       "\n",
       "    .dataframe tbody tr th {\n",
       "        vertical-align: top;\n",
       "    }\n",
       "\n",
       "    .dataframe thead th {\n",
       "        text-align: right;\n",
       "    }\n",
       "</style>\n",
       "<table border=\"1\" class=\"dataframe\">\n",
       "  <thead>\n",
       "    <tr style=\"text-align: right;\">\n",
       "      <th></th>\n",
       "      <th>floor_area_sqm</th>\n",
       "      <th>lease_commence_date</th>\n",
       "      <th>latitude</th>\n",
       "      <th>longitude</th>\n",
       "      <th>elevation</th>\n",
       "      <th>monthly_rent</th>\n",
       "    </tr>\n",
       "  </thead>\n",
       "  <tbody>\n",
       "    <tr>\n",
       "      <th>count</th>\n",
       "      <td>59727.000000</td>\n",
       "      <td>59727.000000</td>\n",
       "      <td>59727.000000</td>\n",
       "      <td>59727.000000</td>\n",
       "      <td>59727.0</td>\n",
       "      <td>59727.000000</td>\n",
       "    </tr>\n",
       "    <tr>\n",
       "      <th>mean</th>\n",
       "      <td>94.539664</td>\n",
       "      <td>1990.898572</td>\n",
       "      <td>1.359515</td>\n",
       "      <td>103.840102</td>\n",
       "      <td>0.0</td>\n",
       "      <td>2590.986489</td>\n",
       "    </tr>\n",
       "    <tr>\n",
       "      <th>std</th>\n",
       "      <td>24.086918</td>\n",
       "      <td>12.131478</td>\n",
       "      <td>0.042483</td>\n",
       "      <td>0.071670</td>\n",
       "      <td>0.0</td>\n",
       "      <td>714.954344</td>\n",
       "    </tr>\n",
       "    <tr>\n",
       "      <th>min</th>\n",
       "      <td>34.000000</td>\n",
       "      <td>1966.000000</td>\n",
       "      <td>1.270380</td>\n",
       "      <td>103.685228</td>\n",
       "      <td>0.0</td>\n",
       "      <td>300.000000</td>\n",
       "    </tr>\n",
       "    <tr>\n",
       "      <th>25%</th>\n",
       "      <td>73.000000</td>\n",
       "      <td>1981.000000</td>\n",
       "      <td>1.331008</td>\n",
       "      <td>103.778700</td>\n",
       "      <td>0.0</td>\n",
       "      <td>2100.000000</td>\n",
       "    </tr>\n",
       "    <tr>\n",
       "      <th>50%</th>\n",
       "      <td>93.000000</td>\n",
       "      <td>1988.000000</td>\n",
       "      <td>1.354170</td>\n",
       "      <td>103.845333</td>\n",
       "      <td>0.0</td>\n",
       "      <td>2400.000000</td>\n",
       "    </tr>\n",
       "    <tr>\n",
       "      <th>75%</th>\n",
       "      <td>110.000000</td>\n",
       "      <td>2000.000000</td>\n",
       "      <td>1.387007</td>\n",
       "      <td>103.897505</td>\n",
       "      <td>0.0</td>\n",
       "      <td>3050.000000</td>\n",
       "    </tr>\n",
       "    <tr>\n",
       "      <th>max</th>\n",
       "      <td>215.000000</td>\n",
       "      <td>2019.000000</td>\n",
       "      <td>1.457071</td>\n",
       "      <td>103.964915</td>\n",
       "      <td>0.0</td>\n",
       "      <td>6950.000000</td>\n",
       "    </tr>\n",
       "  </tbody>\n",
       "</table>\n",
       "</div>"
      ],
      "text/plain": [
       "       floor_area_sqm  lease_commence_date      latitude     longitude  \\\n",
       "count    59727.000000         59727.000000  59727.000000  59727.000000   \n",
       "mean        94.539664          1990.898572      1.359515    103.840102   \n",
       "std         24.086918            12.131478      0.042483      0.071670   \n",
       "min         34.000000          1966.000000      1.270380    103.685228   \n",
       "25%         73.000000          1981.000000      1.331008    103.778700   \n",
       "50%         93.000000          1988.000000      1.354170    103.845333   \n",
       "75%        110.000000          2000.000000      1.387007    103.897505   \n",
       "max        215.000000          2019.000000      1.457071    103.964915   \n",
       "\n",
       "       elevation  monthly_rent  \n",
       "count    59727.0  59727.000000  \n",
       "mean         0.0   2590.986489  \n",
       "std          0.0    714.954344  \n",
       "min          0.0    300.000000  \n",
       "25%          0.0   2100.000000  \n",
       "50%          0.0   2400.000000  \n",
       "75%          0.0   3050.000000  \n",
       "max          0.0   6950.000000  "
      ]
     },
     "execution_count": 9,
     "metadata": {},
     "output_type": "execute_result"
    }
   ],
   "source": [
    "train_df.describe()"
   ]
  },
  {
   "cell_type": "markdown",
   "metadata": {},
   "source": [
    "# Auxiliary data"
   ]
  },
  {
   "cell_type": "markdown",
   "metadata": {},
   "source": [
    "### MRTs"
   ]
  },
  {
   "cell_type": "code",
   "execution_count": 10,
   "metadata": {},
   "outputs": [
    {
     "name": "stdout",
     "output_type": "stream",
     "text": [
      "Number of MRT stations: 162\n"
     ]
    },
    {
     "data": {
      "text/html": [
       "<div>\n",
       "<style scoped>\n",
       "    .dataframe tbody tr th:only-of-type {\n",
       "        vertical-align: middle;\n",
       "    }\n",
       "\n",
       "    .dataframe tbody tr th {\n",
       "        vertical-align: top;\n",
       "    }\n",
       "\n",
       "    .dataframe thead th {\n",
       "        text-align: right;\n",
       "    }\n",
       "</style>\n",
       "<table border=\"1\" class=\"dataframe\">\n",
       "  <thead>\n",
       "    <tr style=\"text-align: right;\">\n",
       "      <th></th>\n",
       "      <th>code</th>\n",
       "      <th>name</th>\n",
       "      <th>opening_year</th>\n",
       "      <th>latitude</th>\n",
       "      <th>longitude</th>\n",
       "    </tr>\n",
       "  </thead>\n",
       "  <tbody>\n",
       "    <tr>\n",
       "      <th>0</th>\n",
       "      <td>NS1</td>\n",
       "      <td>Jurong East</td>\n",
       "      <td>1990</td>\n",
       "      <td>1.333295</td>\n",
       "      <td>103.742154</td>\n",
       "    </tr>\n",
       "    <tr>\n",
       "      <th>1</th>\n",
       "      <td>NS2</td>\n",
       "      <td>Bukit Batok</td>\n",
       "      <td>1990</td>\n",
       "      <td>1.349035</td>\n",
       "      <td>103.749526</td>\n",
       "    </tr>\n",
       "    <tr>\n",
       "      <th>2</th>\n",
       "      <td>NS3</td>\n",
       "      <td>Bukit Gombak</td>\n",
       "      <td>1990</td>\n",
       "      <td>1.358663</td>\n",
       "      <td>103.751913</td>\n",
       "    </tr>\n",
       "    <tr>\n",
       "      <th>3</th>\n",
       "      <td>NS4</td>\n",
       "      <td>Choa Chu Kang</td>\n",
       "      <td>1990</td>\n",
       "      <td>1.385363</td>\n",
       "      <td>103.744371</td>\n",
       "    </tr>\n",
       "    <tr>\n",
       "      <th>4</th>\n",
       "      <td>NS5</td>\n",
       "      <td>Yew Tee</td>\n",
       "      <td>1996</td>\n",
       "      <td>1.397476</td>\n",
       "      <td>103.747418</td>\n",
       "    </tr>\n",
       "  </tbody>\n",
       "</table>\n",
       "</div>"
      ],
      "text/plain": [
       "  code           name  opening_year  latitude   longitude\n",
       "0  NS1    Jurong East          1990  1.333295  103.742154\n",
       "1  NS2    Bukit Batok          1990  1.349035  103.749526\n",
       "2  NS3   Bukit Gombak          1990  1.358663  103.751913\n",
       "3  NS4  Choa Chu Kang          1990  1.385363  103.744371\n",
       "4  NS5        Yew Tee          1996  1.397476  103.747418"
      ]
     },
     "execution_count": 10,
     "metadata": {},
     "output_type": "execute_result"
    }
   ],
   "source": [
    "mrt_exist_df = pd.read_csv('./data/auxiliary-data/sg-mrt-existing-stations.csv')\n",
    "print(f'Number of MRT stations: {mrt_exist_df.shape[0]}')\n",
    "mrt_exist_df.head()"
   ]
  },
  {
   "cell_type": "code",
   "execution_count": 11,
   "metadata": {},
   "outputs": [
    {
     "data": {
      "text/plain": [
       "<Axes: ylabel='Frequency'>"
      ]
     },
     "execution_count": 11,
     "metadata": {},
     "output_type": "execute_result"
    },
    {
     "data": {
      "image/png": "[encoded data removed]",
      "text/plain": [
       "<Figure size 640x480 with 1 Axes>"
      ]
     },
     "metadata": {},
     "output_type": "display_data"
    }
   ],
   "source": [
    "mrt_exist_df['opening_year'].plot(kind='hist', bins=10)"
   ]
  },
  {
   "cell_type": "code",
   "execution_count": 12,
   "metadata": {},
   "outputs": [
    {
     "data": {
      "text/plain": [
       "array(['NS', 'EW', 'CG', 'NE', 'CC', 'CE', 'DT', 'TE'], dtype=object)"
      ]
     },
     "execution_count": 12,
     "metadata": {},
     "output_type": "execute_result"
    }
   ],
   "source": [
    "mrt_exist_df['code'].str[:2].unique()"
   ]
  },
  {
   "cell_type": "code",
   "execution_count": 13,
   "metadata": {},
   "outputs": [
    {
     "data": {
      "text/html": [
       "<div>\n",
       "<style scoped>\n",
       "    .dataframe tbody tr th:only-of-type {\n",
       "        vertical-align: middle;\n",
       "    }\n",
       "\n",
       "    .dataframe tbody tr th {\n",
       "        vertical-align: top;\n",
       "    }\n",
       "\n",
       "    .dataframe thead th {\n",
       "        text-align: right;\n",
       "    }\n",
       "</style>\n",
       "<table border=\"1\" class=\"dataframe\">\n",
       "  <thead>\n",
       "    <tr style=\"text-align: right;\">\n",
       "      <th></th>\n",
       "      <th>code</th>\n",
       "      <th>name</th>\n",
       "      <th>opening_year</th>\n",
       "      <th>latitude</th>\n",
       "      <th>longitude</th>\n",
       "    </tr>\n",
       "  </thead>\n",
       "  <tbody>\n",
       "    <tr>\n",
       "      <th>0</th>\n",
       "      <td>NaN</td>\n",
       "      <td>Brickland</td>\n",
       "      <td>2030</td>\n",
       "      <td>1.369700</td>\n",
       "      <td>103.747900</td>\n",
       "    </tr>\n",
       "    <tr>\n",
       "      <th>1</th>\n",
       "      <td>NaN</td>\n",
       "      <td>Sungei Kadut</td>\n",
       "      <td>2030</td>\n",
       "      <td>1.413300</td>\n",
       "      <td>103.748800</td>\n",
       "    </tr>\n",
       "    <tr>\n",
       "      <th>2</th>\n",
       "      <td>NaN</td>\n",
       "      <td>Punggol Coast</td>\n",
       "      <td>2024</td>\n",
       "      <td>1.415280</td>\n",
       "      <td>103.911110</td>\n",
       "    </tr>\n",
       "    <tr>\n",
       "      <th>3</th>\n",
       "      <td>NaN</td>\n",
       "      <td>Bukit Brown</td>\n",
       "      <td>TBA</td>\n",
       "      <td>1.333639</td>\n",
       "      <td>103.830075</td>\n",
       "    </tr>\n",
       "    <tr>\n",
       "      <th>4</th>\n",
       "      <td>NaN</td>\n",
       "      <td>Keppel</td>\n",
       "      <td>2026</td>\n",
       "      <td>1.270100</td>\n",
       "      <td>103.831000</td>\n",
       "    </tr>\n",
       "  </tbody>\n",
       "</table>\n",
       "</div>"
      ],
      "text/plain": [
       "   code           name opening_year  latitude   longitude\n",
       "0   NaN      Brickland         2030  1.369700  103.747900\n",
       "1   NaN   Sungei Kadut         2030  1.413300  103.748800\n",
       "2   NaN  Punggol Coast         2024  1.415280  103.911110\n",
       "3   NaN    Bukit Brown          TBA  1.333639  103.830075\n",
       "4   NaN         Keppel         2026  1.270100  103.831000"
      ]
     },
     "execution_count": 13,
     "metadata": {},
     "output_type": "execute_result"
    }
   ],
   "source": [
    "mrt_planned_df = pd.read_csv('./data/auxiliary-data/sg-mrt-planned-stations.csv')\n",
    "mrt_planned_df.head()"
   ]
  },
  {
   "cell_type": "markdown",
   "metadata": {},
   "source": [
    "### Schools"
   ]
  },
  {
   "cell_type": "code",
   "execution_count": 14,
   "metadata": {},
   "outputs": [
    {
     "name": "stdout",
     "output_type": "stream",
     "text": [
      "Number of primary schools: 185\n"
     ]
    },
    {
     "data": {
      "text/html": [
       "<div>\n",
       "<style scoped>\n",
       "    .dataframe tbody tr th:only-of-type {\n",
       "        vertical-align: middle;\n",
       "    }\n",
       "\n",
       "    .dataframe tbody tr th {\n",
       "        vertical-align: top;\n",
       "    }\n",
       "\n",
       "    .dataframe thead th {\n",
       "        text-align: right;\n",
       "    }\n",
       "</style>\n",
       "<table border=\"1\" class=\"dataframe\">\n",
       "  <thead>\n",
       "    <tr style=\"text-align: right;\">\n",
       "      <th></th>\n",
       "      <th>name</th>\n",
       "      <th>latitude</th>\n",
       "      <th>longitude</th>\n",
       "    </tr>\n",
       "  </thead>\n",
       "  <tbody>\n",
       "    <tr>\n",
       "      <th>0</th>\n",
       "      <td>Admiralty Primary School</td>\n",
       "      <td>1.454038</td>\n",
       "      <td>103.817436</td>\n",
       "    </tr>\n",
       "    <tr>\n",
       "      <th>1</th>\n",
       "      <td>Ahmad Ibrahim Primary School</td>\n",
       "      <td>1.433153</td>\n",
       "      <td>103.832942</td>\n",
       "    </tr>\n",
       "    <tr>\n",
       "      <th>2</th>\n",
       "      <td>Ai Tong School</td>\n",
       "      <td>1.360583</td>\n",
       "      <td>103.833020</td>\n",
       "    </tr>\n",
       "    <tr>\n",
       "      <th>3</th>\n",
       "      <td>Alexandra Primary School</td>\n",
       "      <td>1.291334</td>\n",
       "      <td>103.824425</td>\n",
       "    </tr>\n",
       "    <tr>\n",
       "      <th>4</th>\n",
       "      <td>Anchor Green Primary School</td>\n",
       "      <td>1.390370</td>\n",
       "      <td>103.887165</td>\n",
       "    </tr>\n",
       "  </tbody>\n",
       "</table>\n",
       "</div>"
      ],
      "text/plain": [
       "                           name  latitude   longitude\n",
       "0      Admiralty Primary School  1.454038  103.817436\n",
       "1  Ahmad Ibrahim Primary School  1.433153  103.832942\n",
       "2                Ai Tong School  1.360583  103.833020\n",
       "3      Alexandra Primary School  1.291334  103.824425\n",
       "4   Anchor Green Primary School  1.390370  103.887165"
      ]
     },
     "execution_count": 14,
     "metadata": {},
     "output_type": "execute_result"
    }
   ],
   "source": [
    "schools_df = pd.read_csv('./data/auxiliary-data/sg-primary-schools.csv')\n",
    "print(f'Number of primary schools: {schools_df.shape[0]}')\n",
    "schools_df.head()"
   ]
  },
  {
   "cell_type": "code",
   "execution_count": 15,
   "metadata": {},
   "outputs": [],
   "source": [
    "schools_df['name'] = schools_df['name'].str.replace(' School', '')\n",
    "schools_df['name'] = schools_df['name'].str.replace(' Primary', '')\n",
    "schools_df['name'] = schools_df['name'].str.replace(' (Primary)', '')\n",
    "schools_df['name'] = schools_df['name'].str.replace(' (Primary Section)', '')\n",
    "schools_df['name'] = schools_df['name'].str.replace('\\'', '')\n",
    "schools_df['name'] = schools_df['name'].str.replace('’', '')"
   ]
  },
  {
   "cell_type": "code",
   "execution_count": 16,
   "metadata": {},
   "outputs": [
    {
     "data": {
      "text/html": [
       "<div>\n",
       "<style scoped>\n",
       "    .dataframe tbody tr th:only-of-type {\n",
       "        vertical-align: middle;\n",
       "    }\n",
       "\n",
       "    .dataframe tbody tr th {\n",
       "        vertical-align: top;\n",
       "    }\n",
       "\n",
       "    .dataframe thead th {\n",
       "        text-align: right;\n",
       "    }\n",
       "</style>\n",
       "<table border=\"1\" class=\"dataframe\">\n",
       "  <thead>\n",
       "    <tr style=\"text-align: right;\">\n",
       "      <th></th>\n",
       "      <th>School</th>\n",
       "      <th>Phase 1</th>\n",
       "      <th>2A</th>\n",
       "      <th>2B</th>\n",
       "      <th>2C</th>\n",
       "      <th>2C(S)</th>\n",
       "      <th>3</th>\n",
       "    </tr>\n",
       "  </thead>\n",
       "  <tbody>\n",
       "    <tr>\n",
       "      <th>0</th>\n",
       "      <td>Admiralty</td>\n",
       "      <td>NaN</td>\n",
       "      <td>NaN</td>\n",
       "      <td>NaN</td>\n",
       "      <td>NaN</td>\n",
       "      <td>NaN</td>\n",
       "      <td>NaN</td>\n",
       "    </tr>\n",
       "    <tr>\n",
       "      <th>1</th>\n",
       "      <td>↳ Vacancy (210)</td>\n",
       "      <td>150.0</td>\n",
       "      <td>75</td>\n",
       "      <td>34</td>\n",
       "      <td>70</td>\n",
       "      <td>0</td>\n",
       "      <td>-</td>\n",
       "    </tr>\n",
       "    <tr>\n",
       "      <th>2</th>\n",
       "      <td>↳ Applied</td>\n",
       "      <td>75.0</td>\n",
       "      <td>32</td>\n",
       "      <td>37</td>\n",
       "      <td>109</td>\n",
       "      <td>-</td>\n",
       "      <td>-</td>\n",
       "    </tr>\n",
       "    <tr>\n",
       "      <th>3</th>\n",
       "      <td>↳ Taken</td>\n",
       "      <td>75.0</td>\n",
       "      <td>32</td>\n",
       "      <td>34</td>\n",
       "      <td>70</td>\n",
       "      <td>-</td>\n",
       "      <td>-</td>\n",
       "    </tr>\n",
       "    <tr>\n",
       "      <th>4</th>\n",
       "      <td>NaN</td>\n",
       "      <td>NaN</td>\n",
       "      <td>NaN</td>\n",
       "      <td>NaN</td>\n",
       "      <td>NaN</td>\n",
       "      <td>NaN</td>\n",
       "      <td>NaN</td>\n",
       "    </tr>\n",
       "  </tbody>\n",
       "</table>\n",
       "</div>"
      ],
      "text/plain": [
       "            School  Phase 1   2A   2B   2C 2C(S)    3\n",
       "0        Admiralty      NaN  NaN  NaN  NaN   NaN  NaN\n",
       "1  ↳ Vacancy (210)    150.0   75   34   70     0    -\n",
       "2        ↳ Applied     75.0   32   37  109     -    -\n",
       "3          ↳ Taken     75.0   32   34   70     -    -\n",
       "4              NaN      NaN  NaN  NaN  NaN   NaN  NaN"
      ]
     },
     "execution_count": 16,
     "metadata": {},
     "output_type": "execute_result"
    }
   ],
   "source": [
    "school_ballot_df = pd.read_csv('./data/auxiliary-data/sg-school-balloting.csv')\n",
    "school_ballot_df.head()"
   ]
  },
  {
   "cell_type": "code",
   "execution_count": 17,
   "metadata": {},
   "outputs": [
    {
     "data": {
      "text/html": [
       "<div>\n",
       "<style scoped>\n",
       "    .dataframe tbody tr th:only-of-type {\n",
       "        vertical-align: middle;\n",
       "    }\n",
       "\n",
       "    .dataframe tbody tr th {\n",
       "        vertical-align: top;\n",
       "    }\n",
       "\n",
       "    .dataframe thead th {\n",
       "        text-align: right;\n",
       "    }\n",
       "</style>\n",
       "<table border=\"1\" class=\"dataframe\">\n",
       "  <thead>\n",
       "    <tr style=\"text-align: right;\">\n",
       "      <th></th>\n",
       "      <th>School</th>\n",
       "      <th>Phase 1</th>\n",
       "      <th>2A</th>\n",
       "      <th>2B</th>\n",
       "      <th>2C</th>\n",
       "      <th>2C(S)</th>\n",
       "      <th>3</th>\n",
       "    </tr>\n",
       "  </thead>\n",
       "  <tbody>\n",
       "    <tr>\n",
       "      <th>0</th>\n",
       "      <td>Admiralty</td>\n",
       "      <td>NaN</td>\n",
       "      <td>NaN</td>\n",
       "      <td>NaN</td>\n",
       "      <td>NaN</td>\n",
       "      <td>NaN</td>\n",
       "      <td>NaN</td>\n",
       "    </tr>\n",
       "    <tr>\n",
       "      <th>1</th>\n",
       "      <td>Vacancy (210)</td>\n",
       "      <td>150.0</td>\n",
       "      <td>75</td>\n",
       "      <td>34</td>\n",
       "      <td>70</td>\n",
       "      <td>0</td>\n",
       "      <td>-</td>\n",
       "    </tr>\n",
       "    <tr>\n",
       "      <th>2</th>\n",
       "      <td>Applied</td>\n",
       "      <td>75.0</td>\n",
       "      <td>32</td>\n",
       "      <td>37</td>\n",
       "      <td>109</td>\n",
       "      <td>-</td>\n",
       "      <td>-</td>\n",
       "    </tr>\n",
       "    <tr>\n",
       "      <th>6</th>\n",
       "      <td>Ahmad Ibrahim</td>\n",
       "      <td>NaN</td>\n",
       "      <td>NaN</td>\n",
       "      <td>NaN</td>\n",
       "      <td>NaN</td>\n",
       "      <td>NaN</td>\n",
       "      <td>NaN</td>\n",
       "    </tr>\n",
       "    <tr>\n",
       "      <th>7</th>\n",
       "      <td>Vacancy (220)</td>\n",
       "      <td>160.0</td>\n",
       "      <td>106</td>\n",
       "      <td>52</td>\n",
       "      <td>157</td>\n",
       "      <td>130</td>\n",
       "      <td>115</td>\n",
       "    </tr>\n",
       "  </tbody>\n",
       "</table>\n",
       "</div>"
      ],
      "text/plain": [
       "          School  Phase 1   2A   2B   2C 2C(S)    3\n",
       "0      Admiralty      NaN  NaN  NaN  NaN   NaN  NaN\n",
       "1  Vacancy (210)    150.0   75   34   70     0    -\n",
       "2        Applied     75.0   32   37  109     -    -\n",
       "6  Ahmad Ibrahim      NaN  NaN  NaN  NaN   NaN  NaN\n",
       "7  Vacancy (220)    160.0  106   52  157   130  115"
      ]
     },
     "execution_count": 17,
     "metadata": {},
     "output_type": "execute_result"
    }
   ],
   "source": [
    "school_ballot_df['School'] = school_ballot_df['School'].str.replace('↳ ', '')\n",
    "# Remove unnecessary rows\n",
    "school_idx = school_ballot_df['School'].str.startswith('Vacancy').shift(-1)\n",
    "vacancy_idx = school_ballot_df['School'].str.startswith('Vacancy')\n",
    "applied_idx = school_ballot_df['School'].str.startswith('Applied')\n",
    "school_ballot_df = school_ballot_df[school_idx | vacancy_idx | applied_idx]\n",
    "school_ballot_df.head()"
   ]
  },
  {
   "cell_type": "code",
   "execution_count": 18,
   "metadata": {},
   "outputs": [
    {
     "data": {
      "text/html": [
       "<div>\n",
       "<style scoped>\n",
       "    .dataframe tbody tr th:only-of-type {\n",
       "        vertical-align: middle;\n",
       "    }\n",
       "\n",
       "    .dataframe tbody tr th {\n",
       "        vertical-align: top;\n",
       "    }\n",
       "\n",
       "    .dataframe thead th {\n",
       "        text-align: right;\n",
       "    }\n",
       "</style>\n",
       "<table border=\"1\" class=\"dataframe\">\n",
       "  <thead>\n",
       "    <tr style=\"text-align: right;\">\n",
       "      <th></th>\n",
       "      <th>School</th>\n",
       "      <th>Phase 1</th>\n",
       "      <th>2A</th>\n",
       "      <th>2B</th>\n",
       "      <th>2C</th>\n",
       "    </tr>\n",
       "  </thead>\n",
       "  <tbody>\n",
       "    <tr>\n",
       "      <th>0</th>\n",
       "      <td>Admiralty</td>\n",
       "      <td>0.500000</td>\n",
       "      <td>0.426667</td>\n",
       "      <td>1.088235</td>\n",
       "      <td>1.557143</td>\n",
       "    </tr>\n",
       "    <tr>\n",
       "      <th>6</th>\n",
       "      <td>Ahmad Ibrahim</td>\n",
       "      <td>0.337500</td>\n",
       "      <td>0.09434</td>\n",
       "      <td>0.0</td>\n",
       "      <td>0.171975</td>\n",
       "    </tr>\n",
       "    <tr>\n",
       "      <th>10</th>\n",
       "      <td>Ai Tong</td>\n",
       "      <td>0.475000</td>\n",
       "      <td>0.952381</td>\n",
       "      <td>2.545455</td>\n",
       "      <td>1.733333</td>\n",
       "    </tr>\n",
       "    <tr>\n",
       "      <th>16</th>\n",
       "      <td>Alexandra</td>\n",
       "      <td>0.407143</td>\n",
       "      <td>0.156627</td>\n",
       "      <td>0.093023</td>\n",
       "      <td>1.110236</td>\n",
       "    </tr>\n",
       "    <tr>\n",
       "      <th>22</th>\n",
       "      <td>Anchor Green</td>\n",
       "      <td>0.472222</td>\n",
       "      <td>0.315789</td>\n",
       "      <td>0.0</td>\n",
       "      <td>0.28125</td>\n",
       "    </tr>\n",
       "  </tbody>\n",
       "</table>\n",
       "</div>"
      ],
      "text/plain": [
       "           School   Phase 1        2A        2B        2C\n",
       "0       Admiralty  0.500000  0.426667  1.088235  1.557143\n",
       "6   Ahmad Ibrahim  0.337500   0.09434       0.0  0.171975\n",
       "10        Ai Tong  0.475000  0.952381  2.545455  1.733333\n",
       "16      Alexandra  0.407143  0.156627  0.093023  1.110236\n",
       "22   Anchor Green  0.472222  0.315789       0.0   0.28125"
      ]
     },
     "execution_count": 18,
     "metadata": {},
     "output_type": "execute_result"
    }
   ],
   "source": [
    "vacancy_idx = school_ballot_df['School'].str.startswith('Vacancy')\n",
    "applied_idx = school_ballot_df['School'].str.startswith('Applied')\n",
    "school_idx = ~(vacancy_idx | applied_idx)\n",
    "phase_cols = school_ballot_df.columns[1:]\n",
    "for col in phase_cols[:-2]:\n",
    "    school_ballot_df.loc[school_idx, col] = (pd.to_numeric(school_ballot_df.loc[applied_idx, col]).values /\n",
    "                                             pd.to_numeric(school_ballot_df.loc[vacancy_idx, col]).values)\n",
    "final_school_ballot_df = school_ballot_df.loc[school_idx, school_ballot_df.columns[:-2]]\n",
    "final_school_ballot_df['School'] = final_school_ballot_df['School'].str.replace('\\'', '')\n",
    "final_school_ballot_df['School'] = final_school_ballot_df['School'].str.replace('’', '')\n",
    "final_school_ballot_df['School'] = final_school_ballot_df['School'].str.replace(' (Primary)', '')\n",
    "final_school_ballot_df['School'] = final_school_ballot_df['School'].str.replace(' (Primary Section)', '')\n",
    "final_school_ballot_df.head()"
   ]
  },
  {
   "cell_type": "code",
   "execution_count": 20,
   "metadata": {},
   "outputs": [],
   "source": [
    "common_names = np.intersect1d(schools_df['name'].values, final_school_ballot_df['School'].values)\n",
    "unmatched_names1 = np.setdiff1d(schools_df['name'].values, final_school_ballot_df['School'].values)\n",
    "unmatched_names2 = np.setdiff1d(final_school_ballot_df['School'].values, schools_df['name'].values)"
   ]
  },
  {
   "cell_type": "code",
   "execution_count": 21,
   "metadata": {},
   "outputs": [
    {
     "data": {
      "text/plain": [
       "(array(['Coral', 'Da Qiao', 'East Coast', 'East View', 'Juying', 'Pioneer'],\n",
       "       dtype=object),\n",
       " array(['Fern Green', 'Northshore'], dtype=object))"
      ]
     },
     "execution_count": 21,
     "metadata": {},
     "output_type": "execute_result"
    }
   ],
   "source": [
    "unmatched_names1, unmatched_names2"
   ]
  },
  {
   "cell_type": "code",
   "execution_count": 23,
   "metadata": {},
   "outputs": [],
   "source": [
    "final_school_ballot_df.to_csv('./data/auxiliary-data/sg-school-balloting-processed.csv', index=False)\n",
    "schools_df.to_csv('./data/auxiliary-data/sg-primary-schools-processed.csv', index=False)"
   ]
  },
  {
   "cell_type": "markdown",
   "metadata": {},
   "source": [
    "### Shopping mall"
   ]
  },
  {
   "cell_type": "code",
   "execution_count": 22,
   "metadata": {},
   "outputs": [
    {
     "data": {
      "text/html": [
       "<div>\n",
       "<style scoped>\n",
       "    .dataframe tbody tr th:only-of-type {\n",
       "        vertical-align: middle;\n",
       "    }\n",
       "\n",
       "    .dataframe tbody tr th {\n",
       "        vertical-align: top;\n",
       "    }\n",
       "\n",
       "    .dataframe thead th {\n",
       "        text-align: right;\n",
       "    }\n",
       "</style>\n",
       "<table border=\"1\" class=\"dataframe\">\n",
       "  <thead>\n",
       "    <tr style=\"text-align: right;\">\n",
       "      <th></th>\n",
       "      <th>name</th>\n",
       "      <th>latitude</th>\n",
       "      <th>longitude</th>\n",
       "    </tr>\n",
       "  </thead>\n",
       "  <tbody>\n",
       "    <tr>\n",
       "      <th>0</th>\n",
       "      <td>100 AM</td>\n",
       "      <td>1.274588</td>\n",
       "      <td>103.843471</td>\n",
       "    </tr>\n",
       "    <tr>\n",
       "      <th>1</th>\n",
       "      <td>313@Somerset</td>\n",
       "      <td>1.301385</td>\n",
       "      <td>103.837684</td>\n",
       "    </tr>\n",
       "    <tr>\n",
       "      <th>2</th>\n",
       "      <td>Aperia</td>\n",
       "      <td>1.310867</td>\n",
       "      <td>103.863930</td>\n",
       "    </tr>\n",
       "    <tr>\n",
       "      <th>3</th>\n",
       "      <td>Balestier Hill Shopping Centre</td>\n",
       "      <td>1.325596</td>\n",
       "      <td>103.842572</td>\n",
       "    </tr>\n",
       "    <tr>\n",
       "      <th>4</th>\n",
       "      <td>Bugis Cube</td>\n",
       "      <td>1.298141</td>\n",
       "      <td>103.855635</td>\n",
       "    </tr>\n",
       "  </tbody>\n",
       "</table>\n",
       "</div>"
      ],
      "text/plain": [
       "                             name  latitude   longitude\n",
       "0                          100 AM  1.274588  103.843471\n",
       "1                    313@Somerset  1.301385  103.837684\n",
       "2                          Aperia  1.310867  103.863930\n",
       "3  Balestier Hill Shopping Centre  1.325596  103.842572\n",
       "4                      Bugis Cube  1.298141  103.855635"
      ]
     },
     "execution_count": 22,
     "metadata": {},
     "output_type": "execute_result"
    }
   ],
   "source": [
    "mall_df = pd.read_csv('./data/auxiliary-data/sg-shopping-malls.csv')\n",
    "mall_df.head()"
   ]
  }
 ],
 "metadata": {
  "kernelspec": {
   "display_name": "cs5228",
   "language": "python",
   "name": "python3"
  },
  "language_info": {
   "codemirror_mode": {
    "name": "ipython",
    "version": 3
   },
   "file_extension": ".py",
   "mimetype": "text/x-python",
   "name": "python",
   "nbconvert_exporter": "python",
   "pygments_lexer": "ipython3",
   "version": "3.11.4"
  }
 },
 "nbformat": 4,
 "nbformat_minor": 2
}
